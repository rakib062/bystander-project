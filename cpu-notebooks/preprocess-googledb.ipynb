{
 "cells": [
  {
   "cell_type": "code",
   "execution_count": 10,
   "metadata": {
    "collapsed": false,
    "jupyter": {
     "outputs_hidden": false
    }
   },
   "outputs": [],
   "source": [
    "from collections import defaultdict\n",
    "import sys\n",
    "import os\n",
    "import pickle\n",
    "import csv \n",
    "from tqdm import tqdm\n",
    "\n",
    "import pandas as pd\n",
    "import numpy as np\n",
    "import matplotlib.pyplot as plt\n",
    "sys.path.append('../')\n",
    "\n",
    "from sklearn import metrics\n",
    "\n",
    "survey_path='/nfs/juhu/data/rakhasan/bystander-detection/pilot-study2/'\n",
    "survey_photo_path = survey_path+'/photos/'"
   ]
  },
  {
   "cell_type": "code",
   "execution_count": 15,
   "metadata": {},
   "outputs": [],
   "source": [
    "mapping = pickle.load(open(survey_path +'mappings_common.pkl','rb'))"
   ]
  },
  {
   "cell_type": "code",
   "execution_count": 41,
   "metadata": {},
   "outputs": [],
   "source": [
    "# pd.DataFrame(mapping).rename(\n",
    "#     columns={'imageId':'google_id', 'index':'survey_photo_no'})[['google_id', 'survey_photo_no','bbox']].to_csv(survey_path+'/mappings_common.csv')"
   ]
  },
  {
   "cell_type": "code",
   "execution_count": 16,
   "metadata": {},
   "outputs": [],
   "source": [
    "agree_disagree = {'Strongly disagree' : -3, 'Disagree': -2, 'Somewhat disagree' : -1, 'Neither agree nor disagree' : 0,\n",
    "                  'Somewhat agree': 1, 'Agree':2, 'Strongly agree' : 3}\n",
    "\n",
    "photo_place = {'A public place':-2, 'A semi-public place.':-1, 'A semi-private place':1, 'A private place':2, 'Not sure':0}\n",
    "\n",
    "awareness= {'Not at all aware':0, 'Slightly aware':1, 'Somewhat aware':2,'Moderately aware':3, 'Extremely aware':4}\n",
    "\n",
    "willingness = {'Completely unwilling':-2,'Somewhat unwilling':-1, 'Neither unwilling nor willing':0,\n",
    "               'Somewhat willing':1, 'Completely willing':2}\n",
    "\n",
    "comfortable = {'Highly uncomfortable':-3, 'Uncomfortable':-2, 'Somewhat uncomfortable':-1, 'Neither uncomfortable nor comfortable':0,\n",
    "              'Somewhat comfortable':1, 'Comfortable':2, 'Highly comfortable':3}\n",
    "\n",
    "subject = {'Definitely subject':2, 'Most probably subject':1, 'Not sure':0, \n",
    "           'Most probably bystander':-1, 'Definitely bystander':-2}\n"
   ]
  },
  {
   "cell_type": "code",
   "execution_count": 17,
   "metadata": {},
   "outputs": [],
   "source": [
    "meta_data = ['StartDate', 'EndDate', 'Status', 'IPAddress', 'Progress',\n",
    "              'Finished',\n",
    "             'RecordedDate', 'ResponseId', 'RecipientLastName',\n",
    "             'RecipientFirstName', 'RecipientEmail', 'ExternalReference', 'LocationLatitude', 'LocationLongitude',\n",
    "             'DistributionChannel', 'UserLanguage', \n",
    "             'count', \n",
    "             #'path', 'num_of_check', 'img_w', 'img_h', 'total_count', 'img_w2', 'img_h2', \n",
    "             'RandomCode',\n",
    "             'IsMobile', 'test',\n",
    "            ]\n",
    "test_questions = []"
   ]
  },
  {
   "cell_type": "code",
   "execution_count": 18,
   "metadata": {},
   "outputs": [],
   "source": [
    "def remove_invalid_responses(df, tolerance=0):\n",
    "    wrong_response = []\n",
    "    not_finished = []\n",
    "    for index, row in df.iterrows():\n",
    "        try:\n",
    "            if row['Finished'] =='False' or row['Q3.1']!='Yes; I will provide my best answers.' or \\\n",
    "            row['Q4.1'] == 'Under 18 years' or row['Q4.2']!='5 years or more' \\\n",
    "            or int(row['IsMobile'])==1:\n",
    "                not_finished.append(index)\n",
    "            elif (isinstance(row['attnwrong'], float) and np.isnan(row['attnwrong'])) or int(row['attnwrong']) > tolerance:\n",
    "                wrong_response.append(index)\n",
    "        except Exception as e:\n",
    "            pass\n",
    "\n",
    "    #print('Not finished:',len(not_finished), ' wrong response:',len(wrong_response))\n",
    "    \n",
    "    return len(not_finished), df.drop(wrong_response+not_finished, axis=0, inplace=False)"
   ]
  },
  {
   "cell_type": "code",
   "execution_count": 19,
   "metadata": {
    "collapsed": false,
    "jupyter": {
     "outputs_hidden": false
    }
   },
   "outputs": [
    {
     "name": "stdout",
     "output_type": "stream",
     "text": [
      "Total number of responses:  716\n",
      "Tolerance: 0, valid response: 387(89.58%) (not finished: 284)\n",
      "Tolerance: 1, valid response: 422(97.69%) (not finished: 284)\n",
      "Tolerance: 2, valid response: 432(100.00%) (not finished: 284)\n"
     ]
    },
    {
     "data": {
      "text/plain": [
       "(432, 812)"
      ]
     },
     "execution_count": 19,
     "metadata": {},
     "output_type": "execute_result"
    }
   ],
   "source": [
    "data_file = os.path.join(survey_path,'bystander-pilot2-data.csv')\n",
    "data_file2 = os.path.join(survey_path,'bystander-pilot2-copy-data.csv')\n",
    "data = pd.concat([pd.read_csv(data_file),pd.read_csv(data_file2)]).reset_index(inplace=False)\n",
    "data.index = range(len(data))\n",
    "data.drop([0,1], inplace=True, axis=0) #drop first row\n",
    "\n",
    "print('Total number of responses: ',len(data))\n",
    "for t in range(3):\n",
    "    not_finished, validated_data = remove_invalid_responses(data, tolerance=t) \n",
    "    print('Tolerance: {}, valid response: {}({:.2f}%) (not finished: {})'.format(\n",
    "        t, len(validated_data),len(validated_data)*100/(len(data)-not_finished), not_finished))\n",
    "\n",
    "validated_data.drop(set(meta_data+test_questions).intersection(set(validated_data.columns)), axis=1, inplace=True)\n",
    "validated_data.shape"
   ]
  },
  {
   "cell_type": "code",
   "execution_count": 20,
   "metadata": {
    "collapsed": false,
    "jupyter": {
     "outputs_hidden": false
    }
   },
   "outputs": [
    {
     "name": "stdout",
     "output_type": "stream",
     "text": [
      "Final valid response with 0 tolerance: 387\n",
      "Number of photo sets:  100\n"
     ]
    }
   ],
   "source": [
    "t=0\n",
    "_,validated_data = remove_invalid_responses(data, tolerance=t) \n",
    "validated_data.index.rename('pid', inplace = True)\n",
    "validated_data.photo_set_offset.fillna(0, inplace=True)\n",
    "validated_data['photo_set']=validated_data.apply(lambda row: int(row.photo_set_offset)+int(row.photo_set), axis=1)\n",
    "print('Final valid response with {} tolerance: {}'.format(t, len(validated_data)))\n",
    "print('Number of photo sets: ', len(validated_data.photo_set.unique()))\n",
    "photo_set_sizes = validated_data.groupby('photo_set').size()"
   ]
  },
  {
   "cell_type": "code",
   "execution_count": 21,
   "metadata": {
    "collapsed": false,
    "jupyter": {
     "outputs_hidden": false
    }
   },
   "outputs": [
    {
     "data": {
      "text/plain": [
       "Q9.2\n",
       "Maybe    119\n",
       "No        42\n",
       "Yes      224\n",
       "dtype: int64"
      ]
     },
     "execution_count": 21,
     "metadata": {},
     "output_type": "execute_result"
    }
   ],
   "source": [
    "validated_data.groupby('Q9.2').size()"
   ]
  },
  {
   "cell_type": "code",
   "execution_count": 51,
   "metadata": {
    "collapsed": false,
    "jupyter": {
     "outputs_hidden": false
    }
   },
   "outputs": [
    {
     "data": {
      "text/plain": [
       "count     387.000000\n",
       "mean      223.351421\n",
       "std       440.118202\n",
       "min         9.000000\n",
       "25%        55.000000\n",
       "50%        86.000000\n",
       "75%       182.000000\n",
       "max      5335.000000\n",
       "Name: duration, dtype: float64"
      ]
     },
     "execution_count": 51,
     "metadata": {},
     "output_type": "execute_result"
    }
   ],
   "source": [
    "validated_data['duration'] = validated_data['Duration (in seconds)'].astype(float)//60\n",
    "validated_data.duration.describe()"
   ]
  },
  {
   "cell_type": "code",
   "execution_count": 22,
   "metadata": {},
   "outputs": [],
   "source": [
    "photo_ques_headers = ['contains_human', 'photo_place', 'was_aware', 'posing','comfort', \n",
    "                      'will', 'photographer_intention', 'replacable', 'subject_bystander', 'why_subject', \n",
    "                      'why_subject_text','why_bystander', 'why_bystander_text', 'why_neither', 'why_neither_text']\n",
    "\n",
    "high_level_concepts = ['was_aware', 'posing','comfort', 'will', 'photographer_intention', 'replacable', 'photo_place']\n",
    "high_level_concepts_num = [c+'_num' for c in high_level_concepts]\n",
    "\n",
    "questions = list(validated_data.columns)\n",
    "photo_questions = questions[questions.index('1_Q6.1'):questions.index('Q7.1')]\n",
    "photos_question_start = questions.index('1_Q6.1')\n",
    "questions_per_photo = 15 #including text responeses for last 3 questions\n",
    "\n",
    "def create_photo_df(df):\n",
    "    \n",
    "    dicts = []\n",
    "    for pid, row in df.iterrows():\n",
    "        per_participant_img_num =int( row['per_participant_img_num'])\n",
    "        photo_set = int(row['photo_set'])    \n",
    "        sequence = list(filter(None, row['sequence'].split(',')))\n",
    "        for p in range(len(sequence)): #for each photo\n",
    "            if sequence[p] == 'test1' or sequence[p] == 'test2':\n",
    "                continue\n",
    "            d = dict()\n",
    "            d['photo_no'] = sequence[p]\n",
    "            d['pid'] = row.name#['pid']\n",
    "            for q in range(questions_per_photo):               \n",
    "                d[photo_ques_headers[q]] = row[photo_questions[p * questions_per_photo + q]]    \n",
    "            dicts.append(d)\n",
    "    return pd.DataFrame.from_dict(dicts)\n",
    "                \n",
    "        \n",
    "def text_to_numeric_series(df, col_name, conversion_dict):\n",
    "    return df.apply(lambda row: conversion_dict[row[col_name]] if isinstance(row[col_name], str) else row[col_name], axis=1)"
   ]
  },
  {
   "cell_type": "code",
   "execution_count": 23,
   "metadata": {
    "collapsed": false,
    "jupyter": {
     "outputs_hidden": false
    }
   },
   "outputs": [
    {
     "name": "stdout",
     "output_type": "stream",
     "text": [
      "Total unique photos: 5000\n"
     ]
    }
   ],
   "source": [
    "photo_df = create_photo_df(validated_data)\n",
    "photo_df.set_index('photo_no', inplace=True, drop=False)\n",
    "print('Total unique photos: {}'.format(len(set(photo_df.index.values))))"
   ]
  },
  {
   "cell_type": "code",
   "execution_count": 30,
   "metadata": {},
   "outputs": [
    {
     "data": {
      "text/html": [
       "<div>\n",
       "<style scoped>\n",
       "    .dataframe tbody tr th:only-of-type {\n",
       "        vertical-align: middle;\n",
       "    }\n",
       "\n",
       "    .dataframe tbody tr th {\n",
       "        vertical-align: top;\n",
       "    }\n",
       "\n",
       "    .dataframe thead th {\n",
       "        text-align: right;\n",
       "    }\n",
       "</style>\n",
       "<table border=\"1\" class=\"dataframe\">\n",
       "  <thead>\n",
       "    <tr style=\"text-align: right;\">\n",
       "      <th></th>\n",
       "      <th>photo_no</th>\n",
       "      <th>pid</th>\n",
       "      <th>contains_human</th>\n",
       "      <th>photo_place</th>\n",
       "      <th>was_aware</th>\n",
       "      <th>posing</th>\n",
       "      <th>comfort</th>\n",
       "      <th>will</th>\n",
       "      <th>photographer_intention</th>\n",
       "      <th>replacable</th>\n",
       "      <th>subject_bystander</th>\n",
       "      <th>why_subject</th>\n",
       "      <th>why_subject_text</th>\n",
       "      <th>why_bystander</th>\n",
       "      <th>why_bystander_text</th>\n",
       "      <th>why_neither</th>\n",
       "      <th>why_neither_text</th>\n",
       "    </tr>\n",
       "    <tr>\n",
       "      <th>photo_no</th>\n",
       "      <th></th>\n",
       "      <th></th>\n",
       "      <th></th>\n",
       "      <th></th>\n",
       "      <th></th>\n",
       "      <th></th>\n",
       "      <th></th>\n",
       "      <th></th>\n",
       "      <th></th>\n",
       "      <th></th>\n",
       "      <th></th>\n",
       "      <th></th>\n",
       "      <th></th>\n",
       "      <th></th>\n",
       "      <th></th>\n",
       "      <th></th>\n",
       "      <th></th>\n",
       "    </tr>\n",
       "  </thead>\n",
       "  <tbody>\n",
       "    <tr>\n",
       "      <th>165</th>\n",
       "      <td>165</td>\n",
       "      <td>2</td>\n",
       "      <td>There is a person with some of the major body ...</td>\n",
       "      <td>A public place</td>\n",
       "      <td>Agree</td>\n",
       "      <td>Somewhat agree</td>\n",
       "      <td>Somewhat comfortable</td>\n",
       "      <td>Somewhat willing</td>\n",
       "      <td>Somewhat agree</td>\n",
       "      <td>Agree</td>\n",
       "      <td>Not sure</td>\n",
       "      <td>NaN</td>\n",
       "      <td>NaN</td>\n",
       "      <td>NaN</td>\n",
       "      <td>NaN</td>\n",
       "      <td>It isn't clear which person or persons are the...</td>\n",
       "      <td>NaN</td>\n",
       "    </tr>\n",
       "    <tr>\n",
       "      <th>180</th>\n",
       "      <td>180</td>\n",
       "      <td>2</td>\n",
       "      <td>There is a person but with no major body part ...</td>\n",
       "      <td>A public place</td>\n",
       "      <td>Disagree</td>\n",
       "      <td>Neither agree nor disagree</td>\n",
       "      <td>Uncomfortable</td>\n",
       "      <td>Somewhat unwilling</td>\n",
       "      <td>Somewhat disagree</td>\n",
       "      <td>Disagree</td>\n",
       "      <td>Most probably subject</td>\n",
       "      <td>This photo is focused on this person.</td>\n",
       "      <td>NaN</td>\n",
       "      <td>NaN</td>\n",
       "      <td>NaN</td>\n",
       "      <td>NaN</td>\n",
       "      <td>NaN</td>\n",
       "    </tr>\n",
       "  </tbody>\n",
       "</table>\n",
       "</div>"
      ],
      "text/plain": [
       "         photo_no  pid                                     contains_human  \\\n",
       "photo_no                                                                    \n",
       "165           165    2  There is a person with some of the major body ...   \n",
       "180           180    2  There is a person but with no major body part ...   \n",
       "\n",
       "             photo_place was_aware                      posing  \\\n",
       "photo_no                                                         \n",
       "165       A public place     Agree              Somewhat agree   \n",
       "180       A public place  Disagree  Neither agree nor disagree   \n",
       "\n",
       "                       comfort                will photographer_intention  \\\n",
       "photo_no                                                                    \n",
       "165       Somewhat comfortable    Somewhat willing         Somewhat agree   \n",
       "180              Uncomfortable  Somewhat unwilling      Somewhat disagree   \n",
       "\n",
       "         replacable      subject_bystander  \\\n",
       "photo_no                                     \n",
       "165           Agree               Not sure   \n",
       "180        Disagree  Most probably subject   \n",
       "\n",
       "                                    why_subject why_subject_text  \\\n",
       "photo_no                                                           \n",
       "165                                         NaN              NaN   \n",
       "180       This photo is focused on this person.              NaN   \n",
       "\n",
       "         why_bystander why_bystander_text  \\\n",
       "photo_no                                    \n",
       "165                NaN                NaN   \n",
       "180                NaN                NaN   \n",
       "\n",
       "                                                why_neither why_neither_text  \n",
       "photo_no                                                                      \n",
       "165       It isn't clear which person or persons are the...              NaN  \n",
       "180                                                     NaN              NaN  "
      ]
     },
     "execution_count": 30,
     "metadata": {},
     "output_type": "execute_result"
    }
   ],
   "source": [
    "photo_df.to_csv(os.path.join(survey_path, 'photo_df.csv'))\n",
    "photo_df.head(2)"
   ]
  },
  {
   "cell_type": "code",
   "execution_count": 29,
   "metadata": {
    "collapsed": false,
    "jupyter": {
     "outputs_hidden": false
    }
   },
   "outputs": [
    {
     "name": "stdout",
     "output_type": "stream",
     "text": [
      "1604 photos removed when 1 participants found no person in the photo (32.1%)\n",
      "920 photos removed when 2 participants found no person in the photo (18.4%)\n",
      "640 photos removed when 3 participants found no person in the photo (12.8%)\n",
      "Total unique photos containing people: 4080, removed:920\n"
     ]
    }
   ],
   "source": [
    "def remove_responses_non_person(df, tolerance= 0):\n",
    "    rows_to_remove = defaultdict(int)\n",
    "    for photo_no, row in df.iterrows():\n",
    "        if row['contains_human'].strip() =='I don\\'t see any box.'\\\n",
    "        or row['contains_human'].strip() =='There is just a depiction/representation of a person but not a real person (e.g. a poster/photo/sculpture of a person).'\\\n",
    "        or row['contains_human'].strip()=='I don\\'t see any box.'\\\n",
    "        or row['contains_human'].strip()=='There is something else inside the box.':\n",
    "            rows_to_remove[photo_no] += 1\n",
    "            \n",
    "            \n",
    "    to_remove = [k for k in rows_to_remove.keys() if rows_to_remove[k]>tolerance]\n",
    "    return to_remove, df.drop(to_remove, axis=0, inplace=False)\n",
    "\n",
    "for t in range(3):\n",
    "    removed_photos, valid_photo_df = remove_responses_non_person(photo_df, tolerance=t)\n",
    "    print('{} photos removed when {} participants found no person in the photo ({:.1f}%)'.format(\n",
    "        len(removed_photos), t+1, len(removed_photos)*100/len(set(photo_df.index.values))))\n",
    "\n",
    "removed_photos, valid_photo_df = remove_responses_non_person(photo_df, tolerance=1)\n",
    "print('Total unique photos containing people: {}, removed:{}'.format(\n",
    "    len(set(valid_photo_df.index.values)),len(removed_photos)))"
   ]
  },
  {
   "cell_type": "code",
   "execution_count": 43,
   "metadata": {
    "collapsed": false,
    "jupyter": {
     "outputs_hidden": false
    },
    "scrolled": true
   },
   "outputs": [
    {
     "name": "stderr",
     "output_type": "stream",
     "text": [
      "/l/anaconda3-4.3.0/lib/python3.6/site-packages/ipykernel/__main__.py:5: SettingWithCopyWarning: \n",
      "A value is trying to be set on a copy of a slice from a DataFrame.\n",
      "Try using .loc[row_indexer,col_indexer] = value instead\n",
      "\n",
      "See the caveats in the documentation: http://pandas.pydata.org/pandas-docs/stable/indexing.html#indexing-view-versus-copy\n",
      "/l/anaconda3-4.3.0/lib/python3.6/site-packages/ipykernel/__main__.py:6: SettingWithCopyWarning: \n",
      "A value is trying to be set on a copy of a slice from a DataFrame.\n",
      "Try using .loc[row_indexer,col_indexer] = value instead\n",
      "\n",
      "See the caveats in the documentation: http://pandas.pydata.org/pandas-docs/stable/indexing.html#indexing-view-versus-copy\n",
      "/l/anaconda3-4.3.0/lib/python3.6/site-packages/ipykernel/__main__.py:7: SettingWithCopyWarning: \n",
      "A value is trying to be set on a copy of a slice from a DataFrame.\n",
      "Try using .loc[row_indexer,col_indexer] = value instead\n",
      "\n",
      "See the caveats in the documentation: http://pandas.pydata.org/pandas-docs/stable/indexing.html#indexing-view-versus-copy\n",
      "/l/anaconda3-4.3.0/lib/python3.6/site-packages/ipykernel/__main__.py:8: SettingWithCopyWarning: \n",
      "A value is trying to be set on a copy of a slice from a DataFrame.\n",
      "Try using .loc[row_indexer,col_indexer] = value instead\n",
      "\n",
      "See the caveats in the documentation: http://pandas.pydata.org/pandas-docs/stable/indexing.html#indexing-view-versus-copy\n",
      "/l/anaconda3-4.3.0/lib/python3.6/site-packages/ipykernel/__main__.py:9: SettingWithCopyWarning: \n",
      "A value is trying to be set on a copy of a slice from a DataFrame.\n",
      "Try using .loc[row_indexer,col_indexer] = value instead\n",
      "\n",
      "See the caveats in the documentation: http://pandas.pydata.org/pandas-docs/stable/indexing.html#indexing-view-versus-copy\n",
      "/l/anaconda3-4.3.0/lib/python3.6/site-packages/ipykernel/__main__.py:10: SettingWithCopyWarning: \n",
      "A value is trying to be set on a copy of a slice from a DataFrame.\n",
      "Try using .loc[row_indexer,col_indexer] = value instead\n",
      "\n",
      "See the caveats in the documentation: http://pandas.pydata.org/pandas-docs/stable/indexing.html#indexing-view-versus-copy\n",
      "/l/anaconda3-4.3.0/lib/python3.6/site-packages/ipykernel/__main__.py:11: SettingWithCopyWarning: \n",
      "A value is trying to be set on a copy of a slice from a DataFrame.\n",
      "Try using .loc[row_indexer,col_indexer] = value instead\n",
      "\n",
      "See the caveats in the documentation: http://pandas.pydata.org/pandas-docs/stable/indexing.html#indexing-view-versus-copy\n",
      "/l/anaconda3-4.3.0/lib/python3.6/site-packages/ipykernel/__main__.py:12: SettingWithCopyWarning: \n",
      "A value is trying to be set on a copy of a slice from a DataFrame.\n",
      "Try using .loc[row_indexer,col_indexer] = value instead\n",
      "\n",
      "See the caveats in the documentation: http://pandas.pydata.org/pandas-docs/stable/indexing.html#indexing-view-versus-copy\n",
      "/l/anaconda3-4.3.0/lib/python3.6/site-packages/ipykernel/__main__.py:13: SettingWithCopyWarning: \n",
      "A value is trying to be set on a copy of a slice from a DataFrame.\n",
      "Try using .loc[row_indexer,col_indexer] = value instead\n",
      "\n",
      "See the caveats in the documentation: http://pandas.pydata.org/pandas-docs/stable/indexing.html#indexing-view-versus-copy\n"
     ]
    }
   ],
   "source": [
    "'''Convert text responses to numbers for each photo'''\n",
    "\n",
    "valid_photo_df['contains_full_body'] = valid_photo_df.apply(lambda row: \n",
    "            1 if row['contains_human'].strip()=='There is a person with some of the major body parts visible (such as face, head, torso).'\n",
    "                                                           else 0, axis=1)\n",
    "valid_photo_df['subject_bystander_num'] = text_to_numeric_series(valid_photo_df, 'subject_bystander', subject)\n",
    "valid_photo_df['posing_num'] = text_to_numeric_series(valid_photo_df, 'posing', agree_disagree)\n",
    "valid_photo_df['photographer_intention_num'] = text_to_numeric_series(valid_photo_df, 'photographer_intention', agree_disagree)\n",
    "valid_photo_df['photo_place_num'] = text_to_numeric_series(valid_photo_df, 'photo_place', photo_place)\n",
    "valid_photo_df['will_num'] = text_to_numeric_series(valid_photo_df, 'will', willingness)\n",
    "valid_photo_df['comfort_num'] = text_to_numeric_series(valid_photo_df, 'comfort', comfortable)\n",
    "valid_photo_df['replacable_num'] = text_to_numeric_series(valid_photo_df, 'replacable', agree_disagree)\n",
    "valid_photo_df['was_aware_num'] = text_to_numeric_series(valid_photo_df, 'was_aware', agree_disagree)\n"
   ]
  },
  {
   "cell_type": "code",
   "execution_count": 47,
   "metadata": {
    "collapsed": false,
    "jupyter": {
     "outputs_hidden": false
    }
   },
   "outputs": [
    {
     "data": {
      "text/plain": [
       "(2337, 656, 240, 210, 59, 120)"
      ]
     },
     "execution_count": 47,
     "metadata": {},
     "output_type": "execute_result"
    }
   ],
   "source": [
    "count=valid_photo_df.groupby('photo_no').subject_bystander.count()\n",
    "len(count[count==3]),len(count[count==4]),len(count[count==5]),len(count[count==6]),len(count[count==7]),len(count[count==8])"
   ]
  },
  {
   "cell_type": "code",
   "execution_count": 50,
   "metadata": {
    "collapsed": false,
    "jupyter": {
     "outputs_hidden": false
    }
   },
   "outputs": [
    {
     "name": "stdout",
     "output_type": "stream",
     "text": [
      "920\n"
     ]
    }
   ],
   "source": [
    "'''Copy removed images '''\n",
    "import shutil\n",
    "removed_photos, _ = remove_responses_non_person(photo_df, tolerance=1)\n",
    "print(len(removed_photos))\n",
    "for r in removed_photos:\n",
    "    shutil.copyfile(os.path.join(survey_path,'photos/',r+'.jpg'),os.path.join(survey_path,'removed-photos',r+'.jpg'))\n"
   ]
  },
  {
   "cell_type": "code",
   "execution_count": 30,
   "metadata": {
    "collapsed": true,
    "jupyter": {
     "outputs_hidden": true
    }
   },
   "outputs": [],
   "source": [
    "pickle.dump(validated_data, open(os.path.join(survey_path, 'validated_df.pkl'), 'wb'))\n",
    "pickle.dump(valid_photo_df, open(os.path.join(survey_path, 'photo_df.pkl'), 'wb'))"
   ]
  },
  {
   "cell_type": "code",
   "execution_count": 31,
   "metadata": {
    "collapsed": false,
    "jupyter": {
     "outputs_hidden": false
    }
   },
   "outputs": [
    {
     "data": {
      "text/plain": [
       "'/nfs/juhu/data/rakhasan/bystander-detection/pilot-study2//photos/'"
      ]
     },
     "execution_count": 31,
     "metadata": {},
     "output_type": "execute_result"
    }
   ],
   "source": [
    "# valid_photo_df = pickle.load(open(os.path.join(survey_path, 'photo_df.pkl'), 'rb'))\n",
    "survey_photo_path"
   ]
  },
  {
   "cell_type": "code",
   "execution_count": null,
   "metadata": {
    "collapsed": false,
    "jupyter": {
     "outputs_hidden": false
    }
   },
   "outputs": [],
   "source": [
    "'''Locations of the removed photos in the survey sequences'''\n",
    "positions = [0]*52\n",
    "position_dict = defaultdict(list)\n",
    "for r in removed_photos:\n",
    "    for s in list(validated_data.sequence):\n",
    "        seq = s.split(',')\n",
    "        if r in seq:\n",
    "            position_dict[r].append(seq.index(r))\n",
    "            positions[seq.index(r)]+=1\n",
    "\n",
    "import seaborn as sns\n",
    "plt.figure(figsize=(12,4))\n",
    "plt.bar(np.arange(len(positions)), positions)\n",
    "plt.xticks(range(52),range(52), rotation=50)\n",
    "plt.yticks(range(max(positions)+1))\n",
    "plt.show()"
   ]
  },
  {
   "cell_type": "code",
   "execution_count": null,
   "metadata": {
    "collapsed": false,
    "jupyter": {
     "outputs_hidden": false
    }
   },
   "outputs": [],
   "source": [
    "'''A test to see if index in dataframe is same as the image ids'''\n",
    "helper.draw_photos_from_path([survey_photo_path+'100.jpg', \n",
    "                              helper.find_img_path(openImg_path, mapping[100][0]+'.jpg')], col_size=1)"
   ]
  },
  {
   "cell_type": "markdown",
   "metadata": {},
   "source": [
    "### Annotations"
   ]
  },
  {
   "cell_type": "code",
   "execution_count": null,
   "metadata": {
    "collapsed": true,
    "jupyter": {
     "outputs_hidden": true
    }
   },
   "outputs": [],
   "source": [
    "'''Extract annotations of all objects for the photos used in the survey'''\n",
    "\n",
    "anno_file = openImg_path+'train-annotations-bbox.csv'\n",
    "human_part_file = openImg_path+'class-ids-human-body-parts-and-mammal.txt'\n",
    "object_classes_file = openImg_path + 'class-descriptions-boxable.csv'\n",
    "\n",
    "person_class = '/m/01g317'"
   ]
  },
  {
   "cell_type": "code",
   "execution_count": null,
   "metadata": {
    "collapsed": true,
    "jupyter": {
     "outputs_hidden": true
    }
   },
   "outputs": [],
   "source": [
    "'''Create dictionaries for object classes'''\n",
    "\n",
    "csvreader = csv.reader(open(object_classes_file,'r'))\n",
    "human_parts = dict() #dictionary to contain human_body_part_id: human_body_part_name (n=12)\n",
    "for h in open(human_part_file,'r'):\n",
    "    human_parts[h.strip()]=''\n",
    "\n",
    "object_classes=dict() #object_class_id:object_class_name (n=588), except human parts\n",
    "for c in csvreader:\n",
    "    cid = c[0]\n",
    "    name = c[1]\n",
    "    \n",
    "    if cid in human_parts:\n",
    "        human_parts[cid]=name\n",
    "    else:\n",
    "        object_classes[cid]=name\n",
    "\n",
    "\n",
    "human_parts.pop('/m/04rky',0) #remove 'mammal'\n",
    "\n",
    "pickle.dump((human_parts,object_classes), open(survey_path+'human-object-classes.pkl','wb'))"
   ]
  },
  {
   "cell_type": "code",
   "execution_count": null,
   "metadata": {
    "collapsed": false,
    "jupyter": {
     "outputs_hidden": false
    }
   },
   "outputs": [],
   "source": [
    "human_parts, object_classes"
   ]
  },
  {
   "cell_type": "code",
   "execution_count": null,
   "metadata": {
    "collapsed": true,
    "jupyter": {
     "outputs_hidden": true
    }
   },
   "outputs": [],
   "source": []
  },
  {
   "cell_type": "code",
   "execution_count": null,
   "metadata": {
    "collapsed": true,
    "jupyter": {
     "outputs_hidden": true
    }
   },
   "outputs": [],
   "source": [
    "'''Save the annotations of all objects for all photos used in the survey'''\n",
    "\n",
    "survey_photo_ids = set([mapping[int(i)][0] for i in valid_photo_df.index.values])\n",
    "\n",
    "'''Load all annotations'''\n",
    "csvreader = csv.reader(open(anno_file,'r'))\n",
    "all_annotations = []\n",
    "for anno in csvreader:\n",
    "    all_annotations.append(anno)\n",
    "del all_annotations[0] # delete header"
   ]
  },
  {
   "cell_type": "code",
   "execution_count": null,
   "metadata": {
    "collapsed": false,
    "jupyter": {
     "outputs_hidden": false
    }
   },
   "outputs": [],
   "source": [
    "'''Group all annotations for a specific photo'''\n",
    "survey_photo_annotations = defaultdict(list)\n",
    "for i in tqdm(range(len(all_annotations))):\n",
    "    anno = all_annotations[i]\n",
    "    if anno[0] in survey_photo_ids:\n",
    "        survey_photo_annotations[anno[0]].append(anno)"
   ]
  },
  {
   "cell_type": "code",
   "execution_count": null,
   "metadata": {
    "collapsed": true,
    "jupyter": {
     "outputs_hidden": true
    }
   },
   "outputs": [],
   "source": [
    "pickle.dump(survey_photo_annotations, open(survey_path+'survey_photo_annotations.pkl','wb'))"
   ]
  },
  {
   "cell_type": "code",
   "execution_count": null,
   "metadata": {
    "collapsed": false,
    "jupyter": {
     "outputs_hidden": false
    }
   },
   "outputs": [],
   "source": [
    "1515+2287"
   ]
  },
  {
   "cell_type": "code",
   "execution_count": null,
   "metadata": {
    "collapsed": false,
    "jupyter": {
     "outputs_hidden": false
    }
   },
   "outputs": [],
   "source": [
    "helper.draw_photos_from_path([survey_photo_path+i+'.jpg' for i in removed_photos[10:19]], col_size=3)"
   ]
  },
  {
   "cell_type": "markdown",
   "metadata": {},
   "source": [
    "## Demographics"
   ]
  },
  {
   "cell_type": "code",
   "execution_count": null,
   "metadata": {
    "collapsed": false,
    "jupyter": {
     "outputs_hidden": false
    }
   },
   "outputs": [],
   "source": [
    "validated_data.groupby(['Q8.1']).ResponseId.count(),(221*100)/(221+164)"
   ]
  },
  {
   "cell_type": "code",
   "execution_count": null,
   "metadata": {
    "collapsed": false,
    "jupyter": {
     "outputs_hidden": false
    }
   },
   "outputs": [],
   "source": [
    "validated_data.groupby(['Q8.2']).ResponseId.count(),191/len(validated_data), 71/len(validated_data)"
   ]
  },
  {
   "cell_type": "code",
   "execution_count": null,
   "metadata": {
    "collapsed": false,
    "jupyter": {
     "outputs_hidden": false
    }
   },
   "outputs": [],
   "source": [
    "validated_data.groupby(['Q8.3']).ResponseId.count(),242/len(validated_data)"
   ]
  },
  {
   "cell_type": "code",
   "execution_count": null,
   "metadata": {
    "collapsed": false,
    "jupyter": {
     "outputs_hidden": false
    }
   },
   "outputs": [],
   "source": [
    "validated_data.groupby(['Q4.1']).ResponseId.count(),(154*100)/len(validated_data)"
   ]
  },
  {
   "cell_type": "code",
   "execution_count": null,
   "metadata": {
    "collapsed": false,
    "jupyter": {
     "outputs_hidden": false
    }
   },
   "outputs": [],
   "source": [
    "validated_data.groupby(['Q7.1']).ResponseId.count(), 345/len(validated_data) #OSN account holder"
   ]
  },
  {
   "cell_type": "code",
   "execution_count": null,
   "metadata": {
    "collapsed": false,
    "jupyter": {
     "outputs_hidden": false
    }
   },
   "outputs": [],
   "source": [
    "validated_data.groupby(['Q7.2']).ResponseId.count(), 30/len(validated_data) #OSN account holder"
   ]
  },
  {
   "cell_type": "markdown",
   "metadata": {},
   "source": [
    "### Agreement"
   ]
  },
  {
   "cell_type": "code",
   "execution_count": 26,
   "metadata": {
    "collapsed": false,
    "jupyter": {
     "outputs_hidden": false
    }
   },
   "outputs": [
    {
     "data": {
      "text/html": [
       "<div>\n",
       "<table border=\"1\" class=\"dataframe\">\n",
       "  <thead>\n",
       "    <tr style=\"text-align: right;\">\n",
       "      <th></th>\n",
       "      <th>comfort</th>\n",
       "      <th>contains_human</th>\n",
       "      <th>photo_no</th>\n",
       "      <th>photo_place</th>\n",
       "      <th>photographer_intention</th>\n",
       "      <th>pid</th>\n",
       "      <th>posing</th>\n",
       "      <th>replacable</th>\n",
       "      <th>subject_bystander</th>\n",
       "      <th>was_aware</th>\n",
       "      <th>why_bystander</th>\n",
       "      <th>why_bystander_text</th>\n",
       "      <th>why_neither</th>\n",
       "      <th>why_neither_text</th>\n",
       "      <th>why_subject</th>\n",
       "      <th>why_subject_text</th>\n",
       "      <th>will</th>\n",
       "    </tr>\n",
       "    <tr>\n",
       "      <th>photo_no</th>\n",
       "      <th></th>\n",
       "      <th></th>\n",
       "      <th></th>\n",
       "      <th></th>\n",
       "      <th></th>\n",
       "      <th></th>\n",
       "      <th></th>\n",
       "      <th></th>\n",
       "      <th></th>\n",
       "      <th></th>\n",
       "      <th></th>\n",
       "      <th></th>\n",
       "      <th></th>\n",
       "      <th></th>\n",
       "      <th></th>\n",
       "      <th></th>\n",
       "      <th></th>\n",
       "    </tr>\n",
       "  </thead>\n",
       "  <tbody>\n",
       "    <tr>\n",
       "      <th>160</th>\n",
       "      <td>Highly uncomfortable</td>\n",
       "      <td>There is a person with some of the major body ...</td>\n",
       "      <td>160</td>\n",
       "      <td>A private place</td>\n",
       "      <td>Somewhat disagree</td>\n",
       "      <td>2</td>\n",
       "      <td>Disagree</td>\n",
       "      <td>Disagree</td>\n",
       "      <td>Definitely subject</td>\n",
       "      <td>Disagree</td>\n",
       "      <td>NaN</td>\n",
       "      <td>NaN</td>\n",
       "      <td>NaN</td>\n",
       "      <td>NaN</td>\n",
       "      <td>This photo is about what this person was doing.</td>\n",
       "      <td>NaN</td>\n",
       "      <td>Somewhat unwilling</td>\n",
       "    </tr>\n",
       "    <tr>\n",
       "      <th>160</th>\n",
       "      <td>Neither uncomfortable nor comfortable</td>\n",
       "      <td>There is a person with some of the major body ...</td>\n",
       "      <td>160</td>\n",
       "      <td>A public place</td>\n",
       "      <td>Strongly disagree</td>\n",
       "      <td>8</td>\n",
       "      <td>Disagree</td>\n",
       "      <td>Disagree</td>\n",
       "      <td>Definitely subject</td>\n",
       "      <td>Neither agree nor disagree</td>\n",
       "      <td>NaN</td>\n",
       "      <td>NaN</td>\n",
       "      <td>NaN</td>\n",
       "      <td>NaN</td>\n",
       "      <td>This photo is focused on this person.,This pho...</td>\n",
       "      <td>NaN</td>\n",
       "      <td>Somewhat willing</td>\n",
       "    </tr>\n",
       "    <tr>\n",
       "      <th>160</th>\n",
       "      <td>Somewhat comfortable</td>\n",
       "      <td>There is a person with some of the major body ...</td>\n",
       "      <td>160</td>\n",
       "      <td>A private place</td>\n",
       "      <td>Agree</td>\n",
       "      <td>611</td>\n",
       "      <td>Agree</td>\n",
       "      <td>Strongly agree</td>\n",
       "      <td>Most probably bystander</td>\n",
       "      <td>Agree</td>\n",
       "      <td>Object(s) other than people are the subject(s)...</td>\n",
       "      <td>NaN</td>\n",
       "      <td>NaN</td>\n",
       "      <td>NaN</td>\n",
       "      <td>NaN</td>\n",
       "      <td>NaN</td>\n",
       "      <td>Completely willing</td>\n",
       "    </tr>\n",
       "  </tbody>\n",
       "</table>\n",
       "</div>"
      ],
      "text/plain": [
       "                                        comfort  \\\n",
       "photo_no                                          \n",
       "160                        Highly uncomfortable   \n",
       "160       Neither uncomfortable nor comfortable   \n",
       "160                        Somewhat comfortable   \n",
       "\n",
       "                                             contains_human photo_no  \\\n",
       "photo_no                                                               \n",
       "160       There is a person with some of the major body ...      160   \n",
       "160       There is a person with some of the major body ...      160   \n",
       "160       There is a person with some of the major body ...      160   \n",
       "\n",
       "              photo_place photographer_intention  pid    posing  \\\n",
       "photo_no                                                          \n",
       "160       A private place      Somewhat disagree    2  Disagree   \n",
       "160        A public place      Strongly disagree    8  Disagree   \n",
       "160       A private place                  Agree  611     Agree   \n",
       "\n",
       "              replacable        subject_bystander                   was_aware  \\\n",
       "photo_no                                                                        \n",
       "160             Disagree       Definitely subject                    Disagree   \n",
       "160             Disagree       Definitely subject  Neither agree nor disagree   \n",
       "160       Strongly agree  Most probably bystander                       Agree   \n",
       "\n",
       "                                              why_bystander  \\\n",
       "photo_no                                                      \n",
       "160                                                     NaN   \n",
       "160                                                     NaN   \n",
       "160       Object(s) other than people are the subject(s)...   \n",
       "\n",
       "         why_bystander_text why_neither why_neither_text  \\\n",
       "photo_no                                                   \n",
       "160                     NaN         NaN              NaN   \n",
       "160                     NaN         NaN              NaN   \n",
       "160                     NaN         NaN              NaN   \n",
       "\n",
       "                                                why_subject why_subject_text  \\\n",
       "photo_no                                                                       \n",
       "160         This photo is about what this person was doing.              NaN   \n",
       "160       This photo is focused on this person.,This pho...              NaN   \n",
       "160                                                     NaN              NaN   \n",
       "\n",
       "                        will  \n",
       "photo_no                      \n",
       "160       Somewhat unwilling  \n",
       "160         Somewhat willing  \n",
       "160       Completely willing  "
      ]
     },
     "execution_count": 26,
     "metadata": {},
     "output_type": "execute_result"
    }
   ],
   "source": [
    "photo_df.loc['160']"
   ]
  },
  {
   "cell_type": "code",
   "execution_count": 31,
   "metadata": {
    "collapsed": false,
    "jupyter": {
     "outputs_hidden": false
    }
   },
   "outputs": [
    {
     "data": {
      "text/plain": [
       "5000"
      ]
     },
     "execution_count": 31,
     "metadata": {},
     "output_type": "execute_result"
    }
   ],
   "source": [
    "len(list(set(photo_df.index.astype(int))))"
   ]
  },
  {
   "cell_type": "code",
   "execution_count": 1,
   "metadata": {},
   "outputs": [],
   "source": [
    "import pickle"
   ]
  },
  {
   "cell_type": "code",
   "execution_count": 4,
   "metadata": {},
   "outputs": [],
   "source": [
    "anno = pickle.load(open(survey_path+'survey_photo_annotations.pkl','rb'))"
   ]
  },
  {
   "cell_type": "code",
   "execution_count": 8,
   "metadata": {},
   "outputs": [
    {
     "data": {
      "text/plain": [
       "[['000967eb6b45a22b',\n",
       "  'xclick',\n",
       "  '/m/01g317',\n",
       "  '1',\n",
       "  '0.020000',\n",
       "  '0.053750',\n",
       "  '0.484991',\n",
       "  '0.663227',\n",
       "  '0',\n",
       "  '0',\n",
       "  '0',\n",
       "  '0',\n",
       "  '0'],\n",
       " ['000967eb6b45a22b',\n",
       "  'xclick',\n",
       "  '/m/01g317',\n",
       "  '1',\n",
       "  '0.206250',\n",
       "  '0.230000',\n",
       "  '0.488743',\n",
       "  '0.611632',\n",
       "  '0',\n",
       "  '0',\n",
       "  '0',\n",
       "  '0',\n",
       "  '0'],\n",
       " ['000967eb6b45a22b',\n",
       "  'xclick',\n",
       "  '/m/01g317',\n",
       "  '1',\n",
       "  '0.431250',\n",
       "  '0.446875',\n",
       "  '0.496248',\n",
       "  '0.593809',\n",
       "  '0',\n",
       "  '0',\n",
       "  '0',\n",
       "  '0',\n",
       "  '0'],\n",
       " ['000967eb6b45a22b',\n",
       "  'xclick',\n",
       "  '/m/01g317',\n",
       "  '1',\n",
       "  '0.688750',\n",
       "  '0.730000',\n",
       "  '0.513133',\n",
       "  '0.617261',\n",
       "  '0',\n",
       "  '0',\n",
       "  '0',\n",
       "  '0',\n",
       "  '0'],\n",
       " ['000967eb6b45a22b',\n",
       "  'xclick',\n",
       "  '/m/01g317',\n",
       "  '1',\n",
       "  '0.850625',\n",
       "  '0.882500',\n",
       "  '0.495310',\n",
       "  '0.619137',\n",
       "  '0',\n",
       "  '0',\n",
       "  '0',\n",
       "  '0',\n",
       "  '0']]"
      ]
     },
     "execution_count": 8,
     "metadata": {},
     "output_type": "execute_result"
    }
   ],
   "source": [
    "anno['000967eb6b45a22b']"
   ]
  },
  {
   "cell_type": "code",
   "execution_count": 7,
   "metadata": {},
   "outputs": [
    {
     "data": {
      "text/plain": [
       "dict_keys(['000967eb6b45a22b', '000999c5837b0342', '000be572efea5716', '000bf6ec68aedaed', '000c034c59effe6d', '000c1395e58070e5', '000c2995db80cbe4', '000c9121b17ee0ff', '000d1eae99343db8', '000d2108aa6cf36b', '000d28725962d4a9', '000d2e3d33b18463', '000d3c1733354f93', '000d9fb563fa7df2', '000da253e3b41fa8', '000db814e722951d', '000dc470e568ef7c', '000e08d38bf9334a', '000e156e0a22fafb', '000e884273a66cfb', '000eadf236641863', '000eb4abd9cee093', '000ed3c4d2e19808', '000efb7df8aa950c', '000efee7b4ef4273', '000f220c9a9533cc', '000f31e71b56641e', '000f7d292c338123', '000f939674892476', '000fa2817277baf5', '000fa30892ace474', '000fcf404455b8dc', '000fd38f35d0ad0c', '000fe35c654124c5', '001006b6c4f8aa9d', '00100fe58a324932', '001015dc32bc9c0b', '00102eb3057668c2', '0010383f11a3d639', '001065dbc46c29c8', '0010729972da6b48', '00107c9045200c13', '0010f4c10f7ab07e', '0011205b216aea05', '00112c426578e854', '00112e1d6c62af6b', '0011383248470b57', '001139535799c155', '001147fdb389b8ed', '00117ed3e9722e74', '00118eeac8c3325b', '0011a1cdaf348994', '0011b8a903fd0a62', '0011d871de471fc3', '0011e7028dab75b7', '0011fb9e51e89811', '001219210f817b86', '00121be7c1e76f83', '00121d34c38c9732', '00121eb7671f8465', '00124c813ac8b055', '00125683be9a92c8', '00126086cd6dff9a', '001272829ec1711e', '001275e2a5ce462a', '0012d2efdbe3cb40', '0012d43e7bc79740', '0012f8a9334375b2', '00130e6bc2723c6b', '001356fc5bf8e731', '001391cb848267a7', '0013a9b28cf1acec', '0013c9a31bffeec2', '0013e6479aded47b', '0013f0f1c12d9404', '001448075a41a5fc', '0014783475ea1198', '00147a0498d9430c', '001483d60db5503f', '001485fba20aa272', '001493fd26374606', '0014ae15d83f42f0', '0014b1c3eb18a730', '0014c396c1be15e7', '0014ff940ffd9e28', '00150e2cbc834df9', '00152547e6170b61', '0015381a00049fed', '00154a65750ba41c', '0015725e676a5066', '001572c7ce3ec76d', '00159c0f83735e22', '0015cea76dd95a60', '0015ee183eb495b8', '00161845c9973687', '001621ce2c73b450', '0016246ce73c38f9', '0016285d687bf97a', '0016295405bec6fc', '00166bc33fa71d0a', '0016c0ca2cfe3d86', '0016cb8f06d33168', '0016cf15fa4d4e16', '0016deeb7f450f00', '0016f8c09384627e', '0016fd49ab8c05b2', '001782e87d635c9b', '001793bfb2581c34', '0017a548a6e0bff7', '0017c0c45277ee1a', '0017cae29f94c575', '0017e52a03b77263', '00180d4119d7e011', '0018315425ea8a20', '0018c1260fa26469', '00198353ef684011', '0019c1d7f68e25a6', '0019e7c9ee9bb6f3', '001a09ad7ade7ed4', '001a09c6d3585b52', '001a1be150d717c5', '001a3a235d4eba67', '001a764eff386419', '001adacc7f6ddca5', '001b7bf02cb423d9', '001be48ba2dbf655', '001c013b48910c93', '001c672a2331b72c', '001cbf20465dfde5', '001d2e1a406ffd6c', '001df30e84a5a97f', '001e04962ef5e984', '001eb9474d2cd1f2', '001f9cae0dee88b9', '00202495ac59f623', '0020cf51ad075fd3', '0020e09abd5c4abe', '0020e133ba6a031c', '002114082087da38', '00225cd7c8e3bd35', '0022939df6108a93', '0022c7a0b82db4b7', '002358dc7def24c1', '00242aecec762482', '00250a721cc28ceb', '00259032520f4aaf', '00259d84fcfa0bfe', '0025d9142e185794', '00266de1bc737e66', '002764634fe399f0', '0029239c015e6d00', '00293b2422d1c63e', '002948245edc1901', '0029f2c596a72bd2', '002abf0d0b380f07', '002b9f388457ab98', '002c649e7848cc4d', '002c8c0d1e3fff48', '002d0fc0c2dbcfd3', '002d1d4201b3054a', '002dc21233e5dbec', '002dd50db8018b87', '002decd2ffdf64dd', '002f3eb51cab057d', '002f9e96efe7ef6b', '00300c34c9df4cff', '0030304448d12953', '0030b3c791b172ae', '0030fdbd4f5597e7', '0031ca934bc78a03', '00327877cee2c5d3', '0032ad787d9167dd', '0032cf08baca880c', '003334500cdd78c1', '003392645676d89e', '00347f50be578621', '0034b595f6d0ab98', '0036c88820c35a5b', '00390168f3227e10', '003a11e4e110e483', '003b1324d4a1d0c9', '003b73b07cfb6d58', '003d580feae883fb', '003ebb358611d6d8', '003f718ccc51c843', '003feb1cdcd1c3e8', '004036c3f21cc565', '0042be9528ce34ea', '0043022545880705', '0044da308dcda94c', '0045dc71db01c670', '0046046f4064ac90', '004627e0ed18528a', '0046b2d52471c12f', '00476da2a0eaa9f8', '0049a6efb689b37a', '0049f1aa618a9516', '004aa005cc540d3c', '004aacd0ca2f93c9', '004b17fcb6c4a9ce', '004b26fbf10de9e0', '004b795138f872e8', '004bd64410736c69', '004bfdcce4cebc73', '004d38617a7cb348', '004e627c688b6000', '004ee60e0f1dc6f2', '004f09aac4ef56d2', '004f6849941ce3f2', '005234ae49c89826', '005304a964878842', '0053a9e6ccb1b64e', '00540bb679305a3e', '005457d1ec6f884d', '00550fdf3e35a59b', '005526753c3d4f8e', '0055c50b55aa1793', '0055d83f58279e61', '005704bba66d2af3', '0057b6b5e07e3241', '0057cb70796f97d1', '00589a6b16ad3d2a', '0058dbfcd986dbfe', '00594fc6a3a5cc04', '0059774ee61bdfd1', '005a318638507d02', '005a4c9d1958c736', '005ab05dda76b513', '005c054403662ee0', '005c815dc81ca035', '005d5d3e121dbee6', '005d98829acc8b07', '005dcff3c0a9956e', '005dd48af2c877a7', '005df41aa6be815d', '005e2e5bc1befc6b', '0060021ac952f49f', '00605af75826a8c0', '0060a9433405a5a0', '0060d94b1e688bff', '00622f96058e86d3', '006263bca1810fa9', '0063db1881ecf261', '0063dd8de04565fc', '0063f91fbc5d3d0f', '00651e19aff087d2', '00657e8dd1b765a4', '006635febdab1966', '0066a933a3f036bf', '00673cc227443c61', '0067c30894c5b43f', '0068b5f37812eb5a', '006a160b9bcfc4cf', '006acb9fe510e2be', '006c8e98099d620f', '006d26ecbc638890', '006d36dadc702c3f', '006e213946fcaeed', '006e95c6dea27e28', '006f57bf51976d8f', '006f65cb84714c0b', '00701d95c558866f', '00702f9bbe4d86a5', '007102ce91b2b873', '00723ad5d7021de5', '007377a82dc87b7f', '0074db572a2434c0', '00755995df29da87', '007576a0d87ce5d2', '0078404bdea59bac', '00785bf6288684df', '0078bde495ba04fc', '0079e20c12674fda', '007a10bd55bb4b31', '007a5fc20ae3320e', '007a7cb88907d2cc', '007b95e69706a66e', '007cbaabc967de6d', '007ce7eca014eae6', '007d629c7a00da2e', '007ddd70da118955', '007e9b74043a6fe9', '007ed056afee83f3', '007fca09a1277e4c', '00809a3696d6b088', '008162b5ec853e22', '0081d67c4cfc9134', '008385b4f0eba67f', '00839af2f52ea5ca', '0087a40639f44af3', '0088210a507af7c7', '008a1b4b3f67689a', '008b3c3e426aca3e', '008b726d2abe8a3c', '008cf49c3de77713', '008e234666fb6a61', '009015eee31dce6e', '0091dc7c6913fcb6', '00926e328f1d7ed0', '009297f8736202bb', '0094b26b45dbc3ce', '00956c9190d5723e', '0095ea4e121d5dd7', '00963f2701aa9c7b', '00965bd22e9e33a2', '0096615a4b432e40', '00977a332b5c1e7e', '00987414d3271100', '00991af3baa12e9b', '009a716f953692ba', '009b991d2deeccbd', '009c10cef04ab73a', '009c43df9336fa1e', '009d0d703fa48dad', '00a06e610f2d6fc2', '00a161a18c343771', '00a1daf12f675406', '00a299c8cbabb2eb', '00a4c2291dc2eba6', '00a57e914fdd7de9', '00a5820192213a93', '00a601c5da2603d2', '00a621f44cef0af1', '00a7bbe88ec3572f', '00a7d7cfd2380d23', '00a8148263ab2d49', '00a826eca5ab4351', '00a891eb360864da', '00aa093d54f70466', '00aa1a407607f826', '00aa8d32b654d1f2', '00abc8062634a28d', '00ac706716b8ab13', '00ad51fedbb78860', '00ae54214da9fcfe', '00ae7fa2f95c79a1', '00ae90f2a883219e', '00af2c7d2386b4e6', '00b06f50c3cdca54', '00b0f577fe7fd33b', '00b1fee5c81745dd', '00b3a08279996c9d', '00b3eae03121641b', '00b4f39488a60253', '00b5981a9af8155e', '00b681c0e6792241', '00b6a3da68906780', '00b7344437ecaf88', '00b91dd5eff57cf5', '00b934e52ca2240d', '00b9987d9dcf37ac', '00bab2d447b6355f', '00bc79d0a1f48390', '00bcd8de86620932', '00bd04e2898cf23c', '00bdbace5f2e06d1', '00be2519a80802d9', '00be3019badc52f7', '00bf3c30b1d24407', '00bfefa51a93b61f', '00c2d468bd5d1c36', '00c30d71c34ac296', '00c47408dc01d760', '00c4a27c593967cb', '00c663fd7abc8d05', '00c68c590d7e3ec0', '00c9aa3fc4391d67', '00c9d16a6e4bb7cc', '00c9d2b6d07f2c5a', '00c9f969bfa177f2', '00cbc59e2adebdcb', '00cbd80cad022205', '00cd377a9eeb215e', '00cde5e5b03e47dd', '00ce66ce0475344e', '00cf6677df6b9395', '00cf8c42669a7666', '00cfc782c8e571ea', '00cffb2013e0d87d', '00d0951390496b97', '00d1000419b024f1', '00d1882243766cd5', '00d1c2294b1e2d60', '00d390e557e001f6', '00d5ef35478150ab', '00d618bec2f54a26', '00d68dc021f3c8e5', '00d71b0afcf0e508', '00d7abb7549ccf92', '00d7d374ecbc1397', '00d7e7f1e96cb9df', '00d9b81de274d5f2', '00d9bdf9171fc8c6', '00dc7bde259e66cc', '00dcbbd81f427c31', '00dd7bfce34210a0', '00dda464e8f09599', '00de101b8ee31680', '00debd03b74424b0', '00e0fbeaaa713412', '00e1aedae3224f26', '00e1bc5ad01068ea', '00e33d64d3472535', '00e39b1b134ba7c7', '00e47c76cd3e63f9', '00e49bf9218cc867', '00e4e5cfe030d3ac', '00e5520e43c6355a', '00e6e9401868f4a4', '00e6fef3674320ea', '00e71dd7bd07a35d', '00e73373267a3733', '00e85435c2b65eb4', '00e9054afa5b4121', '00e921e3f50da776', '00e95ac2b01b68bd', '00eb01eea9494e29', '00eb453a68ee64a7', '00eba99def1218eb', '00ebef2d2f583f3c', '00ecdf774b6268c6', '00ed9ecf8773f981', '00eee6b2022dfebc', '00ef7c0a6555491c', '00efed21be40d23b', '00f15d6958b356bc', '00f164b598077613', '00f1d8f7280b7fac', '00f29dd3fb6fd327', '00f53fe7ac0a0797', '00f6bad1423f4996', '00f768e0c24fc281', '00f9162543d6b1a6', '00f9c4a3ec516728', '00fd150588e717d6', '00fd1bac85116640', '00fd2793682a2925', '00fdab158621462d', '00ff53d95c8c2d45', '00ff807b827d5da7', '010028237198c68c', '0101e090c78a1a97', '0102c1c7358b3447', '0102c32ad755788e', '0103b7877a247f65', '0103fb1a68452b0b', '01055ded1980be35', '01062d13cabb8c8d', '01065ea6d2ff58a0', '01067e1741942f9d', '0106876257b97440', '0107acf1d94bda13', '0109afa8b69db0ba', '010beec0cb3b1938', '010c204e1162c640', '010d5b1d973fd476', '010e8b547a3297d5', '010f51ed566b7b3f', '011072e8c268cb5e', '0110aa47ec205597', '0110bf3b3f62c05a', '0111eeda8d35038e', '0112198fe95c6238', '0112862975a9c587', '0112bf08530d7aad', '0113a3258ba29788', '0114f140ef68132a', '0115e43edb2d1b7c', '01164f15c3d01bdf', '0116d97654abe4ce', '0117a080d64490cb', '0117a5442c21917d', '0117de9b5a986c7e', '0118de982ca26baf', '011b12191c9ee4d6', '011be1c1a8124e01', '011cc68b070fe0ed', '011cdff6181747e6', '011d606ebc898706', '011d96a62e7fa48d', '011d9df0b9c84139', '011fb14dea8c4e5d', '011ffbc34ee768e2', '0120d7cdadafaf2c', '012197e407633fcf', '0121be935d962197', '0121c0be4ff5ad8f', '0121cc3ecc0221f2', '0121d6bb4ceea2ce', '0121e5850629d299', '0125d19b65e10566', '0127e89eb678d7e8', '0128b8873ade0a18', '012907630d1089c8', '012ace66b5eadebd', '012ae07444d69a17', '012b6e4c1e4fdd1e', '012d48f9e44d30bc', '012d8d7748510c58', '012defb3aaa113da', '012e8476460be622', '013007dc209bb102', '01324f5a096631ef', '0132b2e08d7bc6be', '01339613a4d78e08', '013465bbf469eea0', '01346d68112855aa', '0134a2b3e00c9bbb', '0134e0ce69fce5c3', '013529ec41726798', '0135e4f0d32fb495', '01368b6c0e27951a', '0136f2fee5aa51aa', '0137256f8a6ca6f9', '0138ac56925d6c17', '013a0bc44be96054', '013d75cc0e7b257f', '014192a363715c8c', '01428e0502986e44', '014529b0a0bcffbb', '01453da520ae3269', '0145588fb38011ca', '01458bcb377a4bf7', '0145e8cbf60c09f2', '0146e7c4a47c5f8b', '014700d0d24f2a62', '0147c898018d5f3f', '014824a2cb717753', '0148b0d2bb8cb758', '014ad0867345586d', '014ba0e8d0364267', '014c889c311f0e7a', '014d93e37276d32a', '014dc3e9314d96de', '014e4d6924073cca', '014f4aa63b950db6', '014f62e185624356', '0150a03dbb279f1e', '0150d5c834180023', '0152be45662f0d9e', '01543bb62cb0bf32', '0154fa7e562b3f92', '01558d6324facf3a', '01559789dcbe1000', '0155b13a7813eddf', '0155b76672ab5ec3', '0155d18804800f0c', '01568e898a69438e', '0157765abfe8d541', '015b5424acf6314e', '015b7c193a8bdb33', '015b9d360cc6bbbf', '015c234893fe19ad', '015c79e9e1b82b41', '015ebc34f1fed437', '01629ab4e5f0d759', '0164836f9e6ef74b', '016721a9a5801e12', '016931aea9fc3a68', '016989249c98dcab', '016a47614fc87b35', '016afe7e2aa865ef', '016c4356a2ab031a', '016cc7df2af7f381', '016f36de957662a8', '0171ed12e44ea218', '0174194c8f0280dc', '017525e03337c077', '017601e2e76130f9', '01767b0bc39017cc', '0177424e1457c746', '01779d1263add235', '017883b14bc57cca', '017931803f1fc9ad', '017a3e9f3cac172a', '017a7f423eec6850', '017b00d9442bfbb7', '017b6b8679404c32', '017b6c4355f265db', '017c021ba2f942f9', '017c414a1a7e1ea3', '017ca1b7283d1e20', '017f2899b0b4909a', '01800c994cd8de18', '01820bd14f1425b5', '0182208b3f0916bd', '0182483055752a67', '0182580f90e7e592', '01826477c532fa6e', '01828c8079b5d75f', '0183001a20643cbd', '0183170734d0b359', '01834e5b64dda364', '0183566dba754469', '0183bbb34a7487c2', '0187b9871b394024', '0188ad5086bd66f8', '0189fbf926249a0f', '018abc06edf4fbb3', '018ad9edf2ba7fa8', '018c00b229429908', '018c14b538ef7602', '018c481d7031e190', '018f75384ac1a211', '01907857f3b13d19', '01925f7f25933913', '01946f6181f60d6d', '0194f652510e4290', '0196369ea1f871f7', '01965c9766623a37', '019665d9394d37e0', '01979849acc27462', '0198292dcd623c57', '019929ddd949fbf1', '0199d5bf4841e494', '019baf55928e0f17', '019c370b6ceb948b', '019f9fbbe8e6ca03', '01a2572c627d2534', '01a291eba5f908a6', '01a8a7f5769a1e6d', '01a9003ed71711bd', '01aa6a7a982f2bac', '01aaee8482327348', '01ac1812a0779f6b', '01ac2a42f2a22ee7', '01ac5542bb056d3e', '01ac59d2f8440d6d', '01ac8b3dc0128db0', '01ad63988a3f09a1', '01ae3b1659f98666', '01ae5908f4b04862', '01ae7927a1e4c3c2', '01af974481041a91', '01b06921344a5b2a', '01b074ed40852011', '01b12fe388f5acf5', '01b21052c827cb5f', '01b3057c5261f6f7', '01b4454feefb939f', '01b4de956fe956ca', '01b52fb0da6ba587', '01b5be303e56fe1e', '01b5ea120a1d3408', '01b750be2972e572', '01b79db090ef5e64', '01b8bf3664204a58', '01b8ddae97bd2852', '01b8f697d8854a71', '01ba078e7f9ae378', '01ba1dee2cf8ff2b', '01ba73e3046622ec', '01bb1242e8c0901d', '01bb9d6459665ae8', '01bcc87c6a91a767', '01bce5b2dd400f5d', '01bf1cb1bac6b144', '01c004326a6ccc52', '01c02c7d8dac7cec', '01c1c408b3e21706', '01c2c1f72673c7b8', '01c3ceb4bd2319f5', '01c41a1e6e42ed1a', '01c5febade9ac41f', '01c6ff83cbac9823', '01c7984a9fffb4a8', '01c8509c0583d9be', '01c8b1f20ddfa1a2', '01c9c7ab322840ae', '01c9f6b25c22dfff', '01ca5a061f805df6', '01ca799923d95027', '01cab45be93c7d81', '01cb217bf20c4a4c', '01cb4d1751e82879', '01cbc0598c25e255', '01cbe8086b7ec240', '01cc45773fa2e126', '01cf3aacb8489338', '01cf3ae45be38ff8', '01cfeca13979a30c', '01cff801956f5f95', '01d11f895715a227', '01d244a4c4fcedd6', '01d2dbc2952bfffe', '01d40ca30456c005', '01d65c5f452796c3', '01d67c6f223705c6', '01d683649babfe4b', '01d6a5b1db1ef413', '01d70459f5f2ab30', '01d74addc0a1c82d', '01d82c0dc8ded31e', '01d82e1ef90454b3', '01daba0ca20c40b1', '01dadff71e640674', '01db8898e1817d9e', '01dbc60d8fe256a6', '01dbcbe3fb45cd2e', '01dc263665191729', '01dc39bc70c9e2a0', '01dc4fce13ae3906', '01dcc22c3d1ca390', '01de98ed8015cbd6', '01e03d6a7a8109fd', '01e0c47e1343e321', '01e1d8b3e3e5f523', '01e1f18129453c71', '01e246a6184e8a58', '01e356ef4374ffb8', '01e444425b43a097', '01e46495e078a30c', '01e52dcdd1b8b05a', '01e939e5ca3aa47f', '01e9caecc46c675d', '01e9ec26779c6fa0', '01ea471bb66be38d', '01ea4e0c5abee5bd', '01eb9f015e344503', '01ebdf6b269fb0a3', '01ec0485c540d461', '01eccd2c1cd80958', '01ece450b8073435', '01ed43735fe169cd', '01ede50eebee54b3', '01edea8045d16684', '01eeeda0569feada', '01effb8d10f1d47f', '01f0b7fa67502b68', '01f0f63b7f1d18dd', '01f3b60f27c2f606', '01f4d3d13639a0f4', '01f77a615ca33162', '01f7c555f8a2bef9', '01f7d3335ae7089f', '01f86251b5e1a249', '01f8660b9be8b549', '01f8e5da0cade06b', '01f93902ecc98e45', '01fa72896d8db2d6', '01fa9576790376ca', '01fbce06163a016e', '01fdf561db94ac52', '01fe9ee3e18111c1', '020043a0e71f54f5', '020049661b090e81', '0200a3ef4610d618', '0200d799866acdc5', '0201239672bc1bfd', '0202faf23a9aae11', '0203a0b1745a6bde', '0203c8d86d4e98e3', '0203f94b4ab111a6', '02040ba2d49f76e3', '02046f0da8813e5b', '0205899e41b95ace', '020642497e813f98', '0206d4b1bc03b360', '0207a07160a6c236', '0208e41da0eb9cb5', '0208e5c42882e87a', '02094ca11878c492', '020b34a89709e536', '020b5dcdd52262d6', '020dfb788294f76b', '020f563dd40dcb18', '0210324eead3e55c', '02103a131e236e4f', '021053c6640b8957', '02115c99ee5ce686', '021355d71db4f515', '0213d790e89c9f2a', '0215b0720dca9f6a', '02172c50a6baae0a', '0217f27f0f55d8b5', '0218f76dff06752d', '021b02f2a5ff06c8', '021d77990d516631', '021e68432dd0e24a', '022045dd5e7af5e7', '0222a32110288c22', '02239de4a2227be1', '0225206f416dc333', '0225481dd2413a09', '0225679831f27341', '02264348704f61d4', '022678ca444a9450', '0227a97875cfbb2e', '0227af29c01aaa95', '0228654422f00ac0', '022886a58c64e51d', '022907f8da6ed569', '0229f7334be319dd', '022bbb4cb666f482', '022d02cf78f45cd1', '022e4e7384a0c6eb', '022e73bb7fd57c27', '022fd16f8470424c', '0231533087b273be', '0231e36a3cfbe839', '0233c20022306238', '02356887fa73c484', '02356d538e254183', '02356f8e29b267d0', '02362dd5a3115de4', '02362e82b3f554fb', '0237ce98f75f0a28', '02390e59adb7d44a', '0239130eb9aaad76', '023947bd87414708', '0239722692fe36ac', '0239ad25a321925f', '0239d120d2f9d760', '023a736bc3663dbf', '023ab12555b4f09b', '023b7cda51750085', '023cf046abc9173e', '023d71cf24d9a639', '023e639650f700b1', '023e9b8a5b0b3dbf', '023ea6d6a295491e', '02404704a74db51e', '02426abd0da75514', '02437bc1347eadb3', '0243f0f22166c32d', '0245a2e4776ed4b6', '0245b564bf7cfe5f', '0245ba2c517f5c06', '02465f1adfc4de03', '02475b41affb1010', '02478cebf8c4b12b', '024a3a91103cc459', '024b7538c7128ef4', '024bcd67f9b8e99c', '024c548deac6452d', '024d2292afc0c336', '024d6ce8db5485b3', '024e16ee3d020278', '024e5673d3dcf07c', '024e74fbd3ea7717', '024ec35bd5eab4fc', '0250236f91b93833', '02503a88da7e19af', '025041a674592304', '0250630ad7f58c65', '0250de1f5b6d2bbf', '02513881f30d0a0c', '025391ff747cb5e5', '0253a124c769dc38', '0253d4c2be1a383e', '0253efc82229d083', '02542042713c7ce6', '0255a25b11c48422', '02580e6cfe7731fc', '02589e8a22dd4ef2', '0258c0abfd045f8b', '0259fc8ce9b9820d', '025a7e60c9df20f0', '025be1de5276a697', '025cbb68b3a215f7', '025cc616e1dcf787', '025ff3092eedbe27', '026185e553e28761', '0261dae95d1b44f1', '0264d38250b03a8a', '02650002526f6a16', '0265466655929225', '0266ad0f8373b1a4', '0266d17f342d28c8', '0268629dec4346e4', '02687d13663bae71', '026995089afef273', '026a3a1a01815fd6', '026d75e537e5cabd', '026ebde821120ee0', '026f287ce0171bab', '026f88a6c43a25bd', '026f922c642dfb58', '026fccf663942a1e', '0270a821fcaaa0fd', '0270e6683d0b8afb', '0271f1e81836e90c', '02744332decf8675', '027456b6dc897e3c', '0274ad3b7f3802eb', '027597ada5fe1baf', '02790e4026644de7', '027961ee1ec28328', '027b26e74ff069c3', '027b807f0ec59beb', '027cd7645f17ff3b', '027ed2210957b6fb', '027fe0a5c161e6e6', '02809acd4a462cf6', '0280f1e177f0628c', '028192b23daaf030', '028194dd199ed466', '0284c223fc6a9aa8', '0285ebaadade99cc', '0285fc047f33c9ac', '02861ad778814878', '0286ba68abd9b327', '0286d0a4c6d498de', '0287821fd31daf90', '02878aa117d7ada8', '0287fc22043f4760', '02881470bc677fc0', '028841f03c50f1a6', '0288aa8b4f9fc108', '0288de8feb37b9c8', '028925b04e5e7710', '0289591033ad43b7', '028ba0829db6a1f5', '028bc0859f34bbb9', '028cea472af18db7', '028eb4d0e71f41b5', '028ecec1ec5f5e5a', '028ee84c34bd30f7', '0290ef26154a384e', '029164c117833f28', '0292f223183b9bbc', '0293d188049e9c1e', '0294841caf0545d0', '029521bc1a81c68f', '029677a87cb28553', '02977195c85ac2c5', '0297b1f5f35b416e', '0299333daa87b59f', '0299b0f22d843f0d', '0299bb0c89dfa028', '029afe34d2e61137', '029bb44642e3b376', '029bb95fe28d6658', '029bf302649c3fc7', '029c5f18dfaf3e9f', '029dd1b0f6f4dad3', '029ed2ed4cb54310', '029f47b7f89b4885', '029ff28b92828775', '029ffd0e0aadce85', '02a1b691ac58cdbf', '02a36f5135847815', '02a449d06fda9f3e', '02a57bacb32afed6', '02a5b50c1e4e7de8', '02a66ed5eaeb9a7f', '02a7e6f09aff5200', '02a83e1f6e950a72', '02a8e2d7e3ce71aa', '02a9160045adf176', '02aa1a40b5894a2e', '02aa32af956ca1de', '02ab68ee03dec2b2', '02ab924a695c5093', '02ad603aabd8e602', '02afe723a108bf07', '02b1cd2b8fe698a4', '02b20a3c1aba693c', '02b50c8d77fd04fd', '02b604433464e40f', '02b67c316b8a5e5f', '02b688309a128a1b', '02b6c9a137c5b583', '02b7691f58b9805a', '02b775082a08121c', '02b9d791af90f013', '02ba0de2f49500d9', '02ba60b431dd1cac', '02ba7f15ad517636', '02bb9e6cdf25b2c2', '02bbb4e3d136cd31', '02bcbeb5b46883f4', '02bcd8090e7d80af', '02bd54c42ce108d4', '02bdf0cdc2e4aca0', '02bf06a0a02db516', '02bf4b56c1e22a20', '02bffbd4d7c8c568', '02c05018da2870de', '02c0bf2741f8b59c', '02c10355fb25c072', '02c1c7dc7dfb5bd9', '02c3119001268f05', '02c38315bbf768ae', '02c452b299bb8e35', '02c54dda5ab163ef', '02c5a1f9a3799a01', '02c678be0ae763a8', '02c86ad0c9ca8693', '02ca0ab3f1e906ec', '02ce21729d303a68', '02ce2f45806d2fc6', '02d049a8f7de9a0d', '02d0cd5da35c5c20', '02d2502f134c9c1c', '02d32e145bda69ba', '02d417e22b04005b', '02d48387806563a5', '02d60b9c1f059a40', '02d69a46c980d064', '02d760ef21aea09b', '02d8b5f8aaa1111e', '02d94afde962b96b', '02db1969a5119fd7', '02dc33c080cba355', '02dc33dbc8920620', '02dc7d61e760f493', '02dc87c4ffccca7e', '02df29bcee555a21', '02e04fe33cabd5b4', '02e06055d7693301', '02e075ef122b94fb', '02e0b827644733df', '02e13c5a598d3132', '02e1e1fe5f92e5a3', '02e3c4e4d191ef35', '02e40236cc58eced', '02e448a509dfd3b1', '02e5122e40aaa34f', '02e7330f7b76b7a5', '02e7dc3cb8e0c09a', '02e8e40b1d421698', '02e92d1c8de0001f', '02e93240a1c2746c', '02e943944af0b7f8', '02ea7e2eca777ebb', '02eba54ee608d73f', '02ec20bfe39e0f1d', '02ed1aacfbcf4fc2', '02ee2cb42d8f1b81', '02ee5edc2890cbc6', '02ef6505c41effdb', '02f00ed4b7f30b9e', '02f038e4a6b8b598', '02f0cd420e803ad0', '02f2314a91bbe630', '02f3390dc2c35973', '02f33a47a1d8e372', '02f50b6b95d0e1cc', '02f6654860011a00', '02f6e54d8257e7e7', '02f7843f8c5aad5c', '02f8203542f7bb43', '02fa6bb2a80a6fd8', '02fb548657d0daee', '02fba0ff657a2fd1', '02fc15f89defd20f', '02fdad072365a046', '02fe99bab65b2d91', '0300221636a04f40', '03006b79cf07b42d', '0301950ab99f8035', '03042f2fa436b3e7', '03044b15ea609f75', '03063615d7f317b5', '0306adc22ff29781', '0306fd971e4162e6', '0307c9f831a05bdc', '0309284eb615f7d9', '030a01cd3874ffb0', '030b3f223a92011b', '030d0ea9138fca78', '030f1b140461469c', '030f460981298280', '030f4e67a44287e7', '03102307e813e5a7', '031088237056b9fd', '03112cb40083b6ec', '03118dc9b173d403', '0312b1cc1d56fb7a', '0312db5d6085ed20', '031358d1276defe7', '0314bb69b21fc16e', '0317021cc677ae0e', '03171ce7ffc7701a', '0317f13339618f87', '03186f89382d0a1a', '0319b8efc5a7c68e', '031b6b6ad94e9d0e', '031ba865fd1ccd81', '031c7990a915a7d3', '031c9a871e6e26c7', '031ecdfb9ac24966', '0320526e692562ed', '03213d6515a785e2', '03223f602e2e24fc', '0323ec32a437699d', '0325f09da735dcea', '0327764de433371f', '032779c7949fd4ab', '0328591390ec78e0', '03291431192a0d7a', '03291c9cd4eb394a', '03292ba534ba377b', '03294d2c8b807052', '032b7298f66063fa', '032c0897c7f5046c', '032f94fb0619288b', '0330da5321f872b7', '03324558464cbdd1', '03325f9b3fffcb11', '03327bb198f0f2b4', '0332da3ece55e464', '033305d8fa505250', '033358a3f7f9b9fc', '0333689ca1af2c30', '03354db5d57c47e8', '0336269330f6ae40', '03363a0e6435fe30', '0338c08834e0c6f1', '03397bff5a2a0368', '0339f3e454d4915c', '033a02bb0688612c', '033a33a0ce69ac44', '033a502e3963d421', '033bc411fc2d8c19', '033c368ec971ec78', '033c613bfe766f2a', '033d5d20dda4d4ee', '033d8577f5f50922', '033ddca2c2043d8e', '033ddd4be9b2b926', '033ef2608053874a', '033f4ae9fa46256e', '033f6736e4e262a4', '033fbf59b2d0913e', '0340acff01298513', '034189981350a196', '03425c1ca8bc2c70', '034278c60c8e4229', '0342d0fc2baecf2a', '03448404bf49e2cb', '03452c7335612ead', '0345c8800573a235', '0347e01ce80fa106', '03484d6b9928660a', '03489b8d4550cbc5', '0349241408bd49a9', '03496a102cce6690', '0349a331e1b36278', '034b1eee1aa010c3', '034c36d84cb36d55', '034dff68d2024045', '034e1db2dc52312e', '034e20ddc5f29fec', '034e5e2b573bed6a', '034fbad7f5ba234c', '03507148e6b8be16', '0350b28741f1ff9e', '035272c60ca0a828', '0354fd3d5db63a12', '0356730c6a6e9047', '035710f69037565a', '0358a1232a86fcc4', '0358f3c54cab02ca', '035919710bad8f7a', '03596021cfdab6ee', '035a6df92f09d28b', '035cbb9b95dc8264', '035d82c745da4075', '035e213d3633e7b4', '035e87f6a17d8591', '035ed62234883fdb', '035f081a33ea3a87', '035f57062f424db2', '0360023b4a161ec8', '036045f2a8e1b52a', '03606ab4c20b7bf7', '03610646ca1e71a7', '03611337b534e11d', '03617771cfde0098', '0362122e5372d2a0', '03642347c7ccd42f', '0364765470bd1017', '0364862e16a3c4b2', '0364f49b78bcee01', '0366efb3f6a8e14b', '0367a450e1e15327', '0367b4551c43170b', '03693c056dcb92b4', '0369c37db532a7a0', '036a7e7c683dd311', '036af3478fb4ad4a', '036b89de96ab8338', '036bcd2fb8cc6bb6', '036deba9489d0ff8', '036e14f6d51b73d5', '036eac6259653302', '036fc3193694af78', '03700bffd4733b11', '03702b8b0f326253', '037262498a66736b', '03730fe29007058f', '037358cadf2560ac', '03736b5a949cb29b', '03755acd7e29eae3', '03763f87026f0d76', '03765a46232597f6', '037773834941655c', '0377d90996178292', '037832b592b63ab0', '03790cd447d4b3e1', '037b48d02724138c', '037b91b316e2b5e1', '037df1ce5b78e396', '037e4ed659dce6fe', '037f227a395c56b8', '038259d823c904fa', '0382f0b9523015ba', '03841d13e2562001', '0384ffb550b01fe2', '0387161ef6959068', '0387fa908c13a2c4', '03898b993661871e', '0389e185526cbd2d', '038a168e3c09a490', '038aa69e4393435b', '038ad72daaea2e3b', '038b167f3b7e005d', '038bc4ec88af28fc', '038d589bad16d799', '038e452554e17d30', '038ec024d7833846', '038f5350ab02e8ba', '038f974df7993dff', '038fe8debed39f1c', '0390a8a4880bbad1', '03926c3385937fa1', '0393c3228189aad9', '0393f9a37d034080', '039433c92db12675', '039620bc97bd1206', '0396e9d5d22bdc79', '0397b660a0b2c953', '0397ea0c2ac227b7', '03988763a2669a93', '039a861832aed4cd', '039ab75e29379c76', '039d064e8138dece', '039e95f38f1b355b', '039fd159252c2745', '03a0af70e4f91145', '03a0cb971c4e6f17', '03a0fa15d0e9dcb6', '03a299b91bc8481a', '03a451283a4c4519', '03a641b9e5d32ec4', '03a70cd888d099bd', '03a8c3ca64746af8', '03a93ee3b9a897f2', '03a9fc89a5cdd10b', '03aa0668c216aa20', '03aa7c440dc9f4af', '03ab009a524e6c63', '03abb34ad1972c90', '03af781f44ff696a', '03b21e3fd10007af', '03b271fa988f1269', '03b2e86fa1aba862', '03b604b546b00051', '03b686595d19114f', '03b6cf2bbacece83', '03b7fed2b498c0e7', '03b9183e25a03ce0', '03b9873b04f33a3d', '03b98b0ceeffcd5c', '03b99648d3d0c7be', '03b9e3f4661dd9aa', '03bb529be8a1e8df', '03bc8202e5d5c288', '03bd5464b1b3e46f', '03bd72ec148c5695', '03bdc2fe3683b092', '03bde86ba2290e68', '03bef54d8da0e9cb', '03befa9f64e572c3', '03c0186118655157', '03c07f201363a2ea', '03c09307c1183928', '03c12b5f106e17f8', '03c22edfb3877e60', '03c385b417d90ad5', '03c3df58d0f5d837', '03c5a1f5ef8804f2', '03c5aabb254c874c', '03c5af1854cf5cdd', '03c60f40da7c87f8', '03c6118d07feb066', '03c62422feb18335', '03c67b13374bb9c8', '03c7618596da6fb6', '03c86373a630f2ee', '03c8cb538d3059ad', '03c980ec823f4f9c', '03c9d24552e9a2a2', '03c9ed9019ee6755', '03ca0abc5c52f0ec', '03cbe50824093520', '03cd383e4540582c', '03cd4c5208647825', '03cde23df7e34116', '03cebacc0a5eecf4', '03d03d7a791725f0', '03d040afb80875a3', '03d14bd323c9c35f', '03d19d9d3491eabc', '03d2680988d16459', '03d26c7388118d36', '03d27b0eadd7b58c', '03d38f3114e7fa1f', '03d4cd6a3328ac4e', '03d6667e9e492eac', '03d70aec5187db2f', '03d9b95b72a38019', '03da2e05aa9c3e49', '03da72c9b28da49c', '03daa8bb774090d5', '03db38e0b2b390ba', '03dbffb64040b6ec', '03dc837cf2b12573', '03df2f11c8dc6c6f', '03dfb2a033bf0132', '03dfe70a606bde2d', '03e0b47a0509aefb', '03e177db34ed067e', '03e1a725173aa686', '03e1f1b29c6c0636', '03e2d3336c54aa45', '03e38d16213c4067', '03e3adcffc453a88', '03e3af8349081ad4', '03e50f535cc08f29', '03e67d80beb9c446', '03e72fdd58824208', '03e733a91fe4a0fc', '03e7e1bdf3f1a786', '03e90e7b8226eb96', '03ec2f43938e9579', '03ec71cbd6aa3585', '03ed0aa28bdbe2d5', '03ed9445074ad116', '03edbb73127feb5d', '03ee41b6130e7abe', '03eec32d5e8a7550', '03f047ccc9d744e9', '03f19507c7a1cb15', '03f2132d207c1fd8', '03f42857012919d3', '03f5d898cb94b1e6', '03f794f8f0281890', '03f802136e0e7581', '03f9377adcd89d16', '03fe0fcdcf153074', '03fe2ed5c85d5515', '03fe7443317f0377', '03fff4eaa8a9e765', '040005e13c6019ee', '0400dd45b371c7e3', '040169312abc4296', '04016ad348270cce', '040507cea08c7b8a', '0407efba8b425376', '0409317d43e843fe', '0409c595c8831836', '040a6afa62f9361a', '040af93288b7a841', '040c40fd9e66964e', '040d19a340696819', '040d6113999d2741', '040e853892afa8ae', '040f8d1c6d0bdd79', '04103308187730ef', '04124f827fc74af6', '04148b54e2a100ae', '04153c38a497bed7', '0415509f4179a201', '04158b345631abef', '0418b6f3904824f8', '041916a8eb3bfb20', '041945091694f856', '0419ea25966a8006', '041ae04d604f302c', '041af386cf2ff8cc', '041b30ca924740a2', '041c41c7eaa6f81a', '041eafd7b66c255f', '041ebc3a163a4531', '041efebe016c0b98', '0420009f69b9ca37', '04209087feeed1ef', '04219b12c6b96390', '042228d1f08ee009', '0422df403cd66dff', '04235e49b7d2f99b', '042538a6cf554625', '042755f6c1041c86', '04277cbd7a58adab', '0427c4c44e92be29', '0428259432f57916', '0428eea6cfa4151b', '04299df5e4694b6b', '0429a4907729e521', '042dab1e18cf8795', '042e3e6f02f83b56', '042ea106b1f955c0', '042ec25ebaf70243', '043113e9975a4bb0', '043213cf37474305', '0432287fb50926ca', '043472baed2c2dd2', '0434bb7e240ffcf1', '0435e9ed95dacee0', '04394749568013b3', '04394c9f2e621cfd', '0439701288ca760c', '04397771d70471ee', '043a4f269f41fa4a', '043a6222e93f0b33', '043a70d63886ba4d', '043aa06a71540907', '043b009ad6cb6595', '043b6a6765cc0374', '043bdb0fca38f21b', '043cb6854a83d212', '043e0b1bfdb1866b', '043ec1675af0ef42', '044003131b2dec06', '04406a89c1bc9d53', '04412273b9fe8ada', '044176e8df9fc6a9', '04417b6df89f3439', '04433c9aa7f56be9', '044367a297e2eb91', '04446f3e5592f618', '0444abf65ec71924', '044659f508fc2a45', '0446accd21f0357e', '0446cb7c173605ab', '04472cf438cad95e', '0447fb6dacae58a7', '0448a2b6a0d3d4b4', '044909ecf9bc2019', '0449f999189a84ee', '044b240823558cea', '044b9cb7b5fd4bd9', '044cdebbeff9d8fe', '044ce82ce5c97454', '044d1828f42d7027', '044d4a11a471ca19', '044d7cfb5d7d5c39', '044f43fb35d12843', '0450ac643a64efcc', '0450baefc8ae3a08', '0451dbc401702dea', '04522e63b5220b91', '0453627f53b876f1', '04543fdaf5ab8c00', '045520c6a6a551e8', '04560dea70252978', '0456c5202595fe38', '045776a24727604e', '045843ba0d3174a6', '0458c57509830cc4', '0458d6fd2da67bcd', '045a209231321dda', '045a9a5aefd468dc', '045ae3a87ecd878c', '045b4c7986c6d38b', '045c426f3ef8870f', '045cb72aa102f40f', '045cc067fb96cf3a', '045d39f9651ad54b', '045d3b1c58d8b2f7', '045e0a289535eaa5', '045fda479cfa5ec5', '046056aa5b99699c', '0461d81491c6407d', '046236801186c09f', '04637586b34346ed', '04654b66d89eb280', '0468ad87c2afe8ce', '0469437d93876395', '0469befb86cab356', '046b03beaad1f6c4', '046d33ac58e9a8e1', '046fc53bad1ad970', '0472c3dfe964b561', '0472cc0ba233d95d', '0475b5b7ea730551', '0476c46326310d85', '0478d95ff6dc6bb5', '04790999ee4533cc', '047a269f7035df01', '047a50e898503aae', '047cc6007eab3f7c', '047d3bb1d27a0ee0', '047de335175f8568', '047e095ad21cad01', '047f3043194591f4', '0480b00634b19fc8', '04827037fca9f0a6', '0482d4e1233088e0', '048487b01b2616f0', '04877fb9444b9e7d', '048937d4ad5403da', '048bec325d1548ef', '048f5306ec29c590', '048fecbe2d0214f9', '0492ee5ac9a69515', '04937f7ad97147c7', '0493cff9c2f4b709', '049420154388ba00', '04976e53a3a07e7b', '04977c2d63d2312f', '04986bb5c9661e05', '0498a64ec5c6ca67', '049a3c6f883fa3d5', '049b75ffb5ad1af8', '049c182187f6745c', '049c9d185af2f5b4', '049e317954152292', '049fa6af7fbdedcc', '04a0b9b99d1b3466', '04a2717e4db33aef', '04a427cbd387bbb7', '04a47290c471af6d', '04a4e4e77288d67d', '04a556bb38b805ca', '04a6996e5d0b31cb', '04a6a3342b4795ee', '04a6f1fa40110a82', '04a8ffd2a522a34e', '04aa20ea817834b7', '04aac0ee3e3a2121', '04ad016c20129e68', '04adf47cc1a174f5', '04ae27e7bf70bbbd', '04ae9f91057d56b8', '04af30e8dcc64156', '04afd33984312cdc', '04b13fe44be666e8', '04b23b8412047b8b', '04b45d01b1d07e0f', '04b6d06169ad7e70', '04b8fb11f3a7cf0b', '04b91dbc3e0b3b09', '04b9694b10d994d7', '04ba1c9e15b3bd55', '04ba87cd28b1eef2', '04bb48c179fda660', '04bc3a597bff1840', '04bd4305dbab8914', '04bd95d1c0101188', '04c0bf6dad158cde', '04c2493db73164a8', '04c2f5c20e60cb4f', '04c2f7b565ef7fbd', '04c3adcb00e61c22', '04c55b2cd342adae', '04c67bc716de77eb', '04c69b42375e742c', '04c8154c86295cf5', '04c958e172ebd08c', '04cb239f08a9e263', '04cb3aea5bb68a6d', '04cb7fd2547ada58', '04ccf2db4633538b', '04cd912d81318452', '04ce6901b379f1a6', '04d1135f52f634f0', '04d19159cfa20d52', '04d19a7d59172aa9', '04d283dfd72fc815', '04d471a176974395', '04d50343b1a473df', '04d52102419634e6', '04d65ca0d6a6abdd', '04d6720668b4973c', '04d67f2efa86e95c', '04d893e5991216f1', '04d93267bb1bb51d', '04d9b1a24d2507d1', '04db0709d6e45816', '04dbf15d96ed346a', '04dc26819e516eb9', '04dd4d7be2eded19', '04ddc4eb72b2be0b', '04ddd44ac7d425cc', '04de3fd8259c843f', '04df64098449dcce', '04e012c885d5a464', '04e047c9dd1c96b5', '04e1b16a29347588', '04e20aeca0cf2d18', '04e2b03264962e5d', '04e3e9cd3d27441c', '04e4109df92c8e8d', '04e437e5bd7d6f0e', '04e456591cd61a03', '04e50c68b17911a9', '04e583752436588b', '04e5c5622646615e', '04e61a16167112a7', '04e69d88184f5b8a', '04e865ce1db79288', '04e8f90f34a5d376', '04e9cc7899411cc9', '04e9f38904b8fa3f', '04ea95be83aa7e34', '04eb71e98f88ad22', '04ebdcef386f13eb', '04ec8440d018c7a9', '04ed2588e806572f', '04ed6644d2648d64', '04eda2d6db92c4d5', '04eda693401b7c66', '04edb62bb69777b4', '04edd3024797c999', '04ee4072cdae0271', '04eebcae9cc3a594', '04ef8dcc02810082', '04ef970ebf618ad7', '04f03347a120de88', '04f098392ba336c3', '04f0f966eaac8b95', '04f1ffe0d4424764', '04f3210f9764509c', '04f5788785ce2965', '04f63607b7b3d9aa', '04f67e746c581436', '04f7240acd85f7bc', '04f81a1f68edf215', '04fb18e364204b70', '04fb2c7f266125cb', '04fd936a65af21e6', '04fe0a6c74706a95', '04fe23b14ed49604', '05003db583efe9ad', '0500cafa82c9a28a', '0501c023c85e2dea', '05027b45a7e8d51d', '0503b6d973c1f265', '05064dfd5277b737', '05074ac9b988bebf', '0508b4508cfd7f0d', '05094df62454ede6', '050a0f1735cb37f7', '050b651cf5e08bae', '050c15032dc71af6', '050cdc87175b283e', '050e070e59758c2b', '050f90fa2e52340b', '05119356e9d4a4a3', '051203a1ed76491c', '0512bcd6122f84fe', '0515b874666af49a', '0517001ac2c6caf9', '05180dd45e6afa4e', '05181ad5b024f1d7', '051827b0b361ae5d', '0518858f5901c3e0', '051958dca9a15e5a', '0519798f861714ce', '051b483d21706d2d', '051caf947fc83bf1', '051cba149f26aefb', '051ccf5b92b5e05a', '051e72c0272dc52b', '051eb2a58763e7b3', '051efe1fa8f83a74', '051f2f6377107f4a', '0520762ac01f6506', '0520772cb8405820', '0524971ce2cb7eee', '0525c048e3fc0133', '0525eab830e5462e', '052647501d2eb5f5', '05269e2b1fc7ee1d', '0526ccfb82b3fa07', '0526f38f92b28993', '0527ddf0ce2aa83e', '0529e55fc4e6e5f1', '052a668c24b0c0a1', '052b0affde8eee76', '052cf1a82610166c', '052e85563b1c377c', '052ff537b89beadd', '05317070c89b6505', '0531ad5af5ad23a1', '0532b1a33b5b547a', '05346e2ccca8e7c8', '0534ec2fd991cb13', '05356623120d1926', '0535c1b5f3864cdf', '05387cb79b61541f', '0538d888d41848fa', '053a6a59f4259792', '053a7956226a9d1d', '053a8a00f6015ce7', '053b6c923251fc90', '053cb82aa2ce4626', '053cd00cd6867ce5', '053d9bc3278c0a9f', '053e95dc921ebfd8', '053e9787ab07da14', '053ef45661ea47ac', '053f0f857603e0b9', '053f807fe848a5cd', '05408ed4c406e9f4', '054376adc739fc95', '05439b599572b692', '0543a709f2122355', '054744d67fdc06ba', '0548264b7c35c2c6', '05495b25ee5ddec2', '05495f53f7872c78', '054a88e2d6e36b08', '054ae6d500b7e674', '054c4497c83ad51d', '054d57e76aeeab6a', '054f456f9510cca8', '05509414835c8e84', '05509fd002559070', '0552464bf0db8671', '0552861f1288ef40', '05534e2914b3b13b', '05540b55e5ae264c', '055566e65ce3257c', '05558d426e5372c3', '05576e20f464534c', '0557eb0c46bfe6ad', '055896f08c8d463d', '055a66d4a5c5b781', '055aa4b3c46ff410', '055b10c9e191c916', '055e46ca7dd297d2', '055f9b7a27d88a88', '05611be88fa673e1', '05619cf87f5d16ae', '0563e20eec78d0bc', '0563f1e7aa0fd0d9', '0564e7aee0c308fc', '05653ce5c2399e13', '05665dbce1314a21', '0567224f05b789a2', '0567793d087c6366', '0567b12d049fee61', '0567c762971b97d3', '05692588ceebf3e4', '05693ee509b560f5', '05694475aa58a72e', '05699fead0ea235d', '0569aa61e7b1f34d', '056ad95ff2a8fa10', '056c377e1641060d', '056db0dfe3942d18', '0570ec4449b05c9b', '05714fca4a2f0148', '0571de39a152e73e', '0571f3a2df0b50a7', '0572b83bb7695678', '0573aa166944ce2f', '05745c5ae84d5558', '05752271352747e2', '0576f71a838dcdc8', '05772f9a7e48346e', '05777fbedc8c369e', '0578ee803a92045e', '0579fb656ad3dce8', '057ac087eb69f474', '057b689ad473ee2f', '057bf583a10234fe', '057e0a7bdbc1bad0', '057e1a41c07d1373', '057e2eab5c4131b2', '057f4ba80b3ff38d', '05800f7de64ed595', '0580cbcefda2c657', '05821bb53b1fba03', '0582f9113781cbc8', '058300514e9ad323', '0584fab85df91334', '0585942aaf610fae', '058693c2735167b8', '0588eed0c707fc20', '058b027a921f0dd3', '058b152383e98eb1', '058d02ceaa0dfcb0', '058d75bd230eeb8e', '058e2d87d332d226', '0591289cbdae8241', '0593be867fd746e0', '0593c1727346cb56', '059457da77ae90a3', '059722e6f9a21936', '0597b50050984dbb', '0597dca7b54a3ce5', '059867e6fa8bb890', '0598a3f39093bdc1', '059a69390f53ff0c', '059dd93cd71f704d', '05a1795e83200966', '05a2486a7c5e5b00', '05a2a394afb6ea65', '05a2a9d28674d6f3', '05a2bf849a058519', '05a314cebd1ee1cf', '05a38d53bc3346b8', '05a41e642e003067', '05a504316ad04180', '05a711c156bd1a9b', '05a75496d662a148', '05a7fa3ba83452fe', '05a93ed41f9e602f', '05abbe151e828d40', '05acdac67515c03c', '05ad04cb05b6da39', '05af5265b1577d9f', '05af602703a85134', '05af7deeab5efd2f', '05b189213cbdfd89', '05b1917d0b5c62a7', '05b2a88617ac0585', '05b30e89b72f026d', '05b47499398991e0', '05b5f8ea0ea3f11c', '05b91bfb1dc63e85', '05baf8df4d2dbd75', '05bb58a9fd6dca08', '05bbe3b6983752ac', '05bccc1559d41f53', '05bf61658e674bf2', '05bf6619aa9f9821', '05c13fbb3a6a826f', '05c17088f97f47c7', '05c1734c65defcd0', '05c362ad096a788d', '05c4b56914646700', '05c4d0eb4f10da83', '05c5421436029346', '05c5be0567543746', '05c7cb4dec890d02', '05c833ff228a8191', '05c9029a3f8d27ea', '05c92d1c68e5ba6d', '05cb23c3cb1fcf45', '05cb24197fc9197f', '05cb2ca9e23e9ddd', '05cb6cfa6bf59210', '05cdfd594ee1f3bc', '05cec8ed4defbdb7', '05cf762c7d179a0b', '05cfd1a4b06bf430', '05d005bab31af6be', '05d0bce01bfe9c02', '05d12448f00cbf2b', '05d13085af627b40', '05d28cb346681ede', '05d28e07b8abdccb', '05d2ab5c97939efb', '05d3ea19cf80178d', '05d4281633ab2b4b', '05d57657fbfe134f', '05d6abe93021f704', '05d8b19bd6b3b988', '05da04b784b5efcc', '05db24c436904920', '05dc4d41038f8d4d', '05dda99802978658', '05de8ee48da47ed9', '05e15fe5af861e85', '05e1968c1056a66e', '05e22b6c73d2454f', '05e29ee8874e1f67', '05e65ba1a33bd771', '05e6ed47ec4573a8', '05e763d6203beddc', '05e8b5e1832f1c5f', '05e903f3eb762e5f', '05e94fa5be7723a8', '05e9a4363496b93d', '05ea5dada6f2b878', '05ebebdac8245d1b', '05ec2f7b50f063c5', '05ec46b76b034547', '05ec5c90ca1a4199', '05f081c0a7a035cf', '05f099d91caf4c2e', '05f37c8b422c8608', '05f3c0f65bf42456', '05f442c97ee7eae9', '05f4502af05d1a3c', '05f63f7d5a5edca1', '05f74ddde9b241cd', '05f7506cd4098c3d', '05f87342bb196470', '05f9484e61d0e06b', '05f973c99b6f14e5', '05fab818aeb589ee', '05fb1563e8cc7af0', '05fc3feab62eb845', '05fcbaa9ff8b9034', '05fce073c36e4eb0', '060018ab42cdcc1c', '06003d18b4f33885', '060049a1d3432b2d', '06010751149fdede', '06017501e6efbfa2', '0601d3bc1e3ef0d6', '0603bd22d8393273', '0603f22006991971', '0604628334343710', '0604c6e358b30647', '060546149e4dcd03', '0605eb5f79c376e2', '0606391e3e11addd', '0606ca5e4d3124ae', '06072be1b85878cc', '0608ff3bd4cacd3f', '060a86909f3d3149', '060bd97018ab81e9', '060ede74acb7c7ec', '0612a1119a528a45', '0612e8addc95a82e', '0613194c7284eed5', '0614ed410fac0b86', '0615e2a5fe9fdc36', '06168254a8f573a7', '0616b64523893509', '061712e40c3a5395', '0618544130ce3d60', '061922651bdbb9cf', '06193fbed8cf5cdb', '0619d9c65b193918', '061d1062d05cd046', '061db0aefb96a492', '061e21498c1b7f80', '061f534a9bf09b0e', '061fa6d56d9351b1', '061ff2681d515d29', '06204ab28a532254', '0622ed90627c7460', '06250777d491f493', '0625580c2a3ac0d6', '0625adbf1ea954f1', '0625dbb8723e2a73', '0627b3695e9fb05a', '0628b7c35ce8c41d', '06292759fda7f846', '06295491ac5d1776', '062af74817333135', '062b022d490b9a3e', '062c7152a22f5860', '062e99fbf57838e1', '06313e59dc4f34e8', '0633e9e680bb35d6', '06359b6fd5f3c932', '0635f8436aaa47f6', '0636d0a1eb6e2998', '063812ed1cfcb7ed', '0639ba84e8986438', '063ba37b8857ffab', '063cb0ce57656989', '063cc00e41fa998a', '064068a1dd530cb6', '0641aacfd3fd640c', '06423ee3bbd99b10', '064281e3faedf640', '0642bf40b141159c', '0642f53884a94b9b', '0642fdfbfd0f09e0', '0643654972d03b65', '0643886be7bff0b4', '0643d4dd9a4e2101', '0644b7f275e4f6a0', '0644d089360adbca', '06473e0ddda4f339', '0648e5e63559b8ad', '064999b8856747e3', '06499a897312a754', '0649ef0ec8e76560', '064a3b6ee74ba437', '064b3738a8fac47e', '064b994ae0771aa8', '064bd10cbe336ebd', '064c1f4e5a7d67e9', '064cd10efa4a4342', '064d137a4a6c3440', '064d40e7e51ba32f', '064f4801b45d3c06', '064f509e5bd0f3bc', '065012286c16d55a', '0650811db291327b', '06509c2a7d13501c', '0651dd3b9c2792c0', '0651e21a8ade4edb', '06520146aec8f45e', '065253348f29bc41', '0653794926e97812', '06540a919416c149', '06560b2eb31b8a1b', '0656537eb3458cde', '065762dd920fb695', '06583b755119329e', '06595d67c0b1ccfa', '065a1650c14822ee', '065ac9c223f9c4d3', '065cc3d5b44c5ae2', '065df9df46fb208e', '065f80e6dd829ba4', '065f986a63a32d8e', '0660bc2e4bb8101d', '0664a307ddd9e4fe', '0664d97dbc749f9c', '066687387f5347f3', '066755abec84d84d', '0667b6b2b23795f1', '0668a280ec633cd8', '0668f41f1b952c9d', '066933d3d553297c', '06699b254c168e9e', '066a6959725741e6', '066b242df43a2afd', '066d9acdc31e4083', '0670478575d5585c', '0670593136a6f213', '06717202bc61f8b1', '0671ea1b7da8b281', '067214c636047d52', '06744f335a9ce60a', '0675028e191e7242', '0675ae5e4353e1f4', '0676d9a6d1074663', '0677076d3d86d27c', '0678dce505dd6ffe', '0678fa09b37071fc', '067e93c750df0eb9', '0680535f4e253aa7', '0683d392c94ae761', '0683de9852418fe4', '0684e68c1785d66b', '068567a1580307cc', '0685d1a4b912517a', '06876d2654709ae4', '06894cf08f4b7f7d', '068ab34bc65ef3dc', '068cdba18e7ac6f0', '068cf84cf7007f11', '068df0ef9ac49ae7', '068e3816785c323d', '0690639b3d3c2f3e', '06909f2b92dff606', '06916d901303db88', '069493c40f2db0cc', '0697ea20d3860907', '06984684d2526111', '06986c4cca7602c8', '0698ce86365b99b8', '069a2d7f4b849cd4', '069a778d0f004c26', '069d3160ce9f517b', '069db503c05476b5', '06a053891ef37b79', '06a09458b02af727', '06a171fc89d92d99', '06a29df469625fd2', '06a2f1adb36b3fda', '06a4154386b7c48a', '06a465c2a232b4b5', '06a4d3288c37d2e0', '06a4fecc71130c53', '06a55eab0697c32f', '06a569e6aa497691', '06a7481e3a125bf5', '06a830ada00bd4df', '06a84573d87d39e5', '06a98d23a7a202b0', '06aa0b2c34288b6f', '06aa2e45165f8604', '06ab2515c999c628', '06af440abff5af5f', '06b007683a116832', '06b092de17123034', '06b13e78f46a5448', '06b52aa1a4b215db', '06b52e75d408ad1e', '06b5361f4f84ee1a', '06b586ff8958cf73', '06b789f0f4080895', '06b921119636395e', '06baf3baa5a33817', '06bbb2825346607a', '06bce213f73ef209', '06bf0527b566967f', '06bf3ba2cab4eb8e', '06c174add5b89438', '06c1b7363f540ad5', '06c1fa40a284e6d7', '06c20d76c2c53df4', '06c68a63c2231dda', '06c737e9c942a3e0', '06c7b262df7aad3a', '06c7be6ac586adde', '06c830e420bbc628', '06c892d7dcf35b2a', '06ca58642f44b249', '06caaddd521092d7', '06cb646a226cf9a6', '06cbe520dd3708ca', '06ccf30c1b852702', '06cd19ecea3c1d02', '06cd325a6b6faa08', '06cd7f0be9ba2d06', '06cda366f0a8ccb6', '06ce355c673da4c5', '06d04900b62d0f30', '06d1aa623a7e4c27', '06d2018098b0c21e', '06d25441a9dc1386', '06d46a18d245c8e8', '06d5a780ce282b55', '06d8e0286fa4712d', '06d9019cf766396c', '06d95c01cd978887', '06dc081d87a29cbe', '06dd9eaf29e61c70', '06dec3888bde1cd8', '06df106a13858bd8', '06df4f9cddf86ee3', '06dfb9a143343e83', '06dfd66f44d3c13e', '06e26a81739fe54f', '06e5e4bc39fced90', '06e7211c608c4bcd', '06e801e7a9acbdef', '06e8bc630e27e228', '06e91c7be1a49cdf', '06ea4323f52e3541', '06ea7214236a6eb9', '06eb08ac39c22e51', '06eb9e9c98a39247', '06ec25f005196565', '06ecab13d660ef19', '06ed26a370f7cd78', '06ef6a4fe222f09c', '06f1c6d62325781a', '06f341158396bb1f', '06f51d12d385b572', '06f5ffc7b82d1475', '06f6434833c47bb1', '06f7d737afa467d6', '06f7f1e2c163a3da', '06f883d3eb7fea89', '06f8cd293ccf6f06', '06f926b760865274', '06fc066b3e92eaed', '06fc5613505d86a2', '06ff14dbb8a833bd', '06ff59480a0b781a', '06fff38b635245f5', '07002e0f630b0568', '07012941cae9b59f', '07014d6d86394a11', '070203fb365d8e33', '07025677067f411d', '0702733b7c32fc1a', '0702c45008c53496', '0704d908d5dd7d0f', '0705a60fbfb6d51c', '0708091f01b17e9a', '070aee10b68f71cc', '070bddbc130e8d11', '070cd165f4f744eb', '070e33bd8580444d', '070e87c0598ddc21', '0710bdddba43352c', '07136ccc5aa263cf', '071469a0dbc3d6a9', '07164aaf3e0f56b6', '07174b9e24bfe855', '071763bd0de40a5a', '0718888d28d96acf', '0718fe735dddf263', '071a496764330e0f', '071a5b0eda4e8c7b', '071a85ad183c5ded', '071b40434af025b9', '071d7df92d32d30c', '071e47a666a2e3c8', '071e5d351b35a866', '07200371b56cd51f', '07207e2834c3f695', '07220eeaee82d233', '07225817af363fc5', '0722e44c599656a1', '07235574fe827748', '0723cca45a79314e', '0723d0c23e1ce0a7', '0723d42423933208', '0723fd75466d5929', '07240249eaf84385', '07244a2aac2ffeec', '0726bd9a433aefa4', '0727e4b1d3c6a555', '072858237c764d61', '072a3a42cb624a6f', '072ad68e07020cb6', '072b23dd4fd802c2', '072c28b21c6fca05', '072ee9a324f044d7', '072fec970fe148ad', '073007d0aea4fcef', '07306131b42e5e0a', '0733e6851ac6de32', '073592d952bf78c1', '0735b050ab60d337', '0736246c3d689e22', '073662c48b185424', '07366b5895f192de', '0737258694ce5ed7', '07379280b9ba71ca', '0737a0b6586eb7de', '073846042e83be3b', '0739c158c9aa7e51', '0739edc7407d1f9f', '073a09753f65c79a', '073a34c92dd3b072', '073ae6ace0aa0470', '073b616e80c11abf', '073c217514507f0a', '073cec42741f9232', '073d43f54f4fff34', '073db325301a45f7', '07416f86c218baf4', '0744c59a5f2877c0', '0744ce3b0a1d354c', '07465a808ae51f9f', '07466b655b0000db', '07469aaffcff3f88', '0747824a309b5eef', '0748062d690cc728', '0748ca3a18348a9a', '07491a3030750b5c', '07499ba1bfb1cebf', '074b633e756ba628', '074bf839dea5e715', '074d87cae0bb0001', '074dc05ee0be67d3', '074e44ca240a547a', '074fc018d7bc609f', '074fd1129f04d3f0', '075081aef1976590', '0753e35481e174ff', '075432119575f566', '0755275c99ba4518', '07557ce02331abc2', '0757bd878b305de3', '07581979f8ae23bc', '07599b53a56e8b5c', '0759f1f4e9442780', '075b9222c6af02b9', '075bd5721dff4bdb', '075cc9d2bc6a5a80', '075d1ffe3af0fef0', '075d673b2506a6b1', '075d6f8030fbbf4d', '07636e6714e62070', '076676c514911ae9', '076ad3942fea32d3', '076c0545dc91a569', '076cecd169847852', '076e545473186d2b', '0770b26f4215e2f4', '07732a507dd6c3bb', '0773379bf98a08fa', '07772419aeec9143', '0778ccfd71875915', '077a62edd3e1cf51', '077b9d9e5e84415a', '07801f064601f7a5', '078438286102f396', '07848380f28722c8', '07abb0814256a360', '07bbbe38408f093b', '07c9564471353bf8', '07caa2cc85c6561d', '07cd31e5ea246248', '07d772bfcec1bbf8'])"
      ]
     },
     "execution_count": 7,
     "metadata": {},
     "output_type": "execute_result"
    }
   ],
   "source": [
    "anno.keys()"
   ]
  },
  {
   "cell_type": "code",
   "execution_count": null,
   "metadata": {},
   "outputs": [],
   "source": []
  }
 ],
 "metadata": {
  "kernelspec": {
   "display_name": "Python 3",
   "language": "python",
   "name": "python3"
  },
  "language_info": {
   "codemirror_mode": {
    "name": "ipython",
    "version": 3
   },
   "file_extension": ".py",
   "mimetype": "text/x-python",
   "name": "python",
   "nbconvert_exporter": "python",
   "pygments_lexer": "ipython3",
   "version": "3.7.7"
  }
 },
 "nbformat": 4,
 "nbformat_minor": 4
}
