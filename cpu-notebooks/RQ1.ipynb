{
 "cells": [
  {
   "cell_type": "markdown",
   "metadata": {},
   "source": [
    "### RQ1 : Are our high level concepts redundant? Can some of the high level concepts be inferred by others?"
   ]
  },
  {
   "cell_type": "code",
   "execution_count": 7,
   "metadata": {},
   "outputs": [],
   "source": [
    "# generic imports\n",
    "import sys\n",
    "import os\n",
    "sys.path.append('../')\n",
    "import helper\n",
    "from definitions import *\n",
    "\n",
    "\n",
    "import math\n",
    "from collections import defaultdict\n",
    "import pandas as pd\n",
    "import pickle\n",
    "import numpy as np\n",
    "import matplotlib.pyplot as plt\n",
    "import seaborn as sns\n",
    "from mpl_toolkits import mplot3d\n",
    "\n",
    "#stats amd ml\n",
    "from sklearn import datasets, linear_model\n",
    "from sklearn.linear_model import LinearRegression\n",
    "import statsmodels.api as sm\n",
    "from scipy import stats\n",
    "from sklearn import feature_selection\n",
    "from sklearn.decomposition import PCA\n",
    "from sklearn.decomposition import FactorAnalysis"
   ]
  },
  {
   "cell_type": "code",
   "execution_count": 8,
   "metadata": {
    "collapsed": true
   },
   "outputs": [],
   "source": [
    "survey_path='/nfs/juhu/data/rakhasan/bystander-detection/pilot-study2/'"
   ]
  },
  {
   "cell_type": "code",
   "execution_count": 9,
   "metadata": {},
   "outputs": [],
   "source": [
    "def get_fig_size(figWidthPt):\n",
    "    inches_per_pt = 1.0/72.27               # Convert pt to inches\n",
    "    golden_mean = (math.sqrt(5)-1.0)/2.0         # Aesthetic ratio\n",
    "    fig_width = figWidthPt*inches_per_pt  # width in inches\n",
    "    fig_height = fig_width*golden_mean       # height in inches\n",
    "    return (fig_width,fig_height)"
   ]
  },
  {
   "cell_type": "code",
   "execution_count": 10,
   "metadata": {
    "collapsed": true
   },
   "outputs": [],
   "source": [
    "feature_df = pickle.load(open(os.path.join(survey_path, 'features-df.pkl'), 'rb'))"
   ]
  },
  {
   "cell_type": "code",
   "execution_count": 11,
   "metadata": {
    "collapsed": true
   },
   "outputs": [],
   "source": [
    "'''Use only two categories'''\n",
    "feature_df = feature_df[(feature_df.label==1) | (feature_df.label==-1)]"
   ]
  },
  {
   "cell_type": "code",
   "execution_count": 113,
   "metadata": {},
   "outputs": [
    {
     "data": {
      "text/plain": [
       "photo_no\n",
       "1       1\n",
       "10     -1\n",
       "100     1\n",
       "1000    1\n",
       "1001   -1\n",
       "1002    1\n",
       "1003   -1\n",
       "1005   -1\n",
       "1006   -1\n",
       "1007    1\n",
       "1008   -1\n",
       "1009    1\n",
       "1010   -1\n",
       "1011    1\n",
       "1012    1\n",
       "1013    1\n",
       "1014    1\n",
       "1015    1\n",
       "1016    1\n",
       "1019    1\n",
       "1022   -1\n",
       "1023    1\n",
       "1024   -1\n",
       "1025    1\n",
       "1026   -1\n",
       "1027    1\n",
       "1028    1\n",
       "1029    1\n",
       "103    -1\n",
       "1030    1\n",
       "       ..\n",
       "960     1\n",
       "962     1\n",
       "964     1\n",
       "965     1\n",
       "966     1\n",
       "967     1\n",
       "968     1\n",
       "970    -1\n",
       "971     1\n",
       "972     1\n",
       "974     1\n",
       "975     1\n",
       "977     1\n",
       "978     1\n",
       "979     1\n",
       "98     -1\n",
       "981     1\n",
       "983     1\n",
       "984    -1\n",
       "985     1\n",
       "986     1\n",
       "987     1\n",
       "988     1\n",
       "989     1\n",
       "99     -1\n",
       "992    -1\n",
       "994     1\n",
       "997     1\n",
       "998     1\n",
       "999     1\n",
       "Name: label, dtype: int64"
      ]
     },
     "execution_count": 113,
     "metadata": {},
     "output_type": "execute_result"
    }
   ],
   "source": [
    "feature_df.label"
   ]
  },
  {
   "cell_type": "code",
   "execution_count": 461,
   "metadata": {},
   "outputs": [
    {
     "name": "stdout",
     "output_type": "stream",
     "text": [
      "Cor(was_aware_num,posing_num) = 0.88 (p=0.00)\n",
      "Cor(was_aware_num,comfort_num) = 0.75 (p=0.00)\n",
      "Cor(was_aware_num,will_num) = 0.79 (p=0.00)\n",
      "Cor(was_aware_num,replacable_num) = -0.57 (p=0.00)\n",
      "Cor(was_aware_num,person_size) = 0.45 (p=0.00)\n",
      "Cor(was_aware_num,person_distance_axes_norm) = -0.37 (p=0.00)\n",
      "Cor(posing_num,comfort_num) = 0.73 (p=0.00)\n",
      "Cor(posing_num,will_num) = 0.76 (p=0.00)\n",
      "Cor(posing_num,replacable_num) = -0.48 (p=0.00)\n",
      "Cor(posing_num,person_size) = 0.42 (p=0.00)\n",
      "Cor(posing_num,person_distance_axes_norm) = -0.34 (p=0.00)\n",
      "Cor(comfort_num,will_num) = 0.86 (p=0.00)\n",
      "Cor(comfort_num,replacable_num) = -0.49 (p=0.00)\n",
      "Cor(comfort_num,person_size) = 0.37 (p=0.00)\n",
      "Cor(comfort_num,person_distance_axes_norm) = -0.32 (p=0.00)\n",
      "Cor(will_num,replacable_num) = -0.52 (p=0.00)\n",
      "Cor(will_num,person_size) = 0.39 (p=0.00)\n",
      "Cor(will_num,person_distance_axes_norm) = -0.33 (p=0.00)\n",
      "Cor(replacable_num,person_size) = -0.44 (p=0.00)\n",
      "Cor(replacable_num,person_distance_axes_norm) = 0.42 (p=0.00)\n",
      "Cor(replacable_num,num_people) = 0.31 (p=0.00)\n",
      "Cor(person_size,person_distance_axes_norm) = -0.48 (p=0.00)\n",
      "Cor(person_size,num_people) = -0.43 (p=0.00)\n"
     ]
    }
   ],
   "source": [
    "\n",
    "high_level_concepts_name = {'was_aware_num':'Awareness', 'posing_num':'Pose',\n",
    "                            'comfort_num':'Comfort', 'will_num':'Willingness', \n",
    "                            'photographer_intention_num':'Photographer intention',\n",
    "                            'replacable_num':'Replacable', 'photo_place_num':'Photo place',\n",
    "                            'person_size':'Size', 'person_distance_axes_norm':'Distance',\n",
    "                            'num_people':'Number of people'}\n",
    "\n",
    "\n",
    "'''\n",
    "Correlation between pairs of features collected from survey and from annotations\n",
    "'''\n",
    "cor_df = []#defaultdict(list)\n",
    "features = high_level_concepts_num+img_level_concepts\n",
    "for i in range(len(features)):\n",
    "    for j in range(i+1, len(features)):\n",
    "        c = stats.pearsonr(feature_df[features[i]], feature_df[features[j]])\n",
    "        if  math.fabs(c[0])>=.3 and c[1]<.05:\n",
    "            print('Cor({},{}) = {:.2f} (p={:.2f})'.format(\n",
    "                features[i], features[j], c[0], c[1]))\n",
    "            \n",
    "            d = dict()\n",
    "            d['Var1']=high_level_concepts_name[features[i]]\n",
    "            d['Var2']=high_level_concepts_name[features[j]]\n",
    "            d['Correlation coefficient (r)']=c[0]\n",
    "            cor_df.append(d)\n",
    "\n",
    "cor_df =pd.DataFrame(cor_df)"
   ]
  },
  {
   "cell_type": "code",
   "execution_count": null,
   "metadata": {},
   "outputs": [],
   "source": [
    "cor_df.set_index(['Var1','Var2'], inplace=True)\n",
    "print(cor_df.round(2).to_latex())"
   ]
  },
  {
   "cell_type": "code",
   "execution_count": null,
   "metadata": {},
   "outputs": [],
   "source": [
    "helper.plot_corr_matrix(mat=feature_df[high_level_concepts_num].corr(),\n",
    "                title='Correlation between pairs of collected variables')"
   ]
  },
  {
   "cell_type": "code",
   "execution_count": null,
   "metadata": {},
   "outputs": [],
   "source": [
    "'''Calculating MI for individual pairs just to check with the following mi_matrix'''\n",
    "for i in range(len(high_level_concepts)):\n",
    "    for j in range(i+1, len(high_level_concepts)):\n",
    "        mi =feature_selection.mutual_info_regression(feature_df[high_level_concepts_num[i]].values.reshape(-1,1),\n",
    "                                                  feature_df[high_level_concepts_num[j]].values,\n",
    "                                                  discrete_features='auto', n_neighbors=3, copy=True, random_state=None)\n",
    "        if mi[0]>=1:\n",
    "            print('MI({}, {}) = {:.2f}'.format(high_level_concepts_num[i], high_level_concepts_num[j], mi[0]))"
   ]
  },
  {
   "cell_type": "code",
   "execution_count": null,
   "metadata": {},
   "outputs": [],
   "source": [
    "'''\n",
    "Find mutual information between pairs of variables\n",
    "'''\n",
    "mi_matrix = np.zeros((len(high_level_concepts),len(high_level_concepts)), dtype=float)\n",
    "for i in range(len(high_level_concepts)):\n",
    "    for j in range(0, len(high_level_concepts)):\n",
    "        mi =feature_selection.mutual_info_regression(feature_df[high_level_concepts_num[i]].values.reshape(-1,1),\n",
    "                                                  feature_df[high_level_concepts_num[j]].values,\n",
    "                                                  discrete_features=[True], n_neighbors=3, copy=True, random_state=None)\n",
    "        mi_matrix[i][j] = mi[0]\n",
    "        \n",
    "        #uncomment below line to test correctness \n",
    "        #print(high_level_concepts[i], high_level_concepts[j], mi[0])\n",
    "\n",
    "pd.DataFrame(mi_matrix, columns=high_level_concepts, index=high_level_concepts)"
   ]
  },
  {
   "cell_type": "code",
   "execution_count": null,
   "metadata": {},
   "outputs": [],
   "source": [
    "helper.plot_corr_matrix(mat=mi_matrix, ticks=high_level_concepts,\n",
    "                 title='Mutual Information between pairs of collected variables')"
   ]
  },
  {
   "cell_type": "markdown",
   "metadata": {},
   "source": [
    "### PCA"
   ]
  },
  {
   "cell_type": "code",
   "execution_count": 7,
   "metadata": {},
   "outputs": [
    {
     "data": {
      "text/html": [
       "<div>\n",
       "<table border=\"1\" class=\"dataframe\">\n",
       "  <thead>\n",
       "    <tr style=\"text-align: right;\">\n",
       "      <th></th>\n",
       "      <th>person_size</th>\n",
       "      <th>person_distance_axes_norm</th>\n",
       "      <th>num_people</th>\n",
       "    </tr>\n",
       "  </thead>\n",
       "  <tbody>\n",
       "    <tr>\n",
       "      <th>person_size</th>\n",
       "      <td>1.000000</td>\n",
       "      <td>-0.480529</td>\n",
       "      <td>-0.425859</td>\n",
       "    </tr>\n",
       "    <tr>\n",
       "      <th>person_distance_axes_norm</th>\n",
       "      <td>-0.480529</td>\n",
       "      <td>1.000000</td>\n",
       "      <td>0.261826</td>\n",
       "    </tr>\n",
       "    <tr>\n",
       "      <th>num_people</th>\n",
       "      <td>-0.425859</td>\n",
       "      <td>0.261826</td>\n",
       "      <td>1.000000</td>\n",
       "    </tr>\n",
       "  </tbody>\n",
       "</table>\n",
       "</div>"
      ],
      "text/plain": [
       "                           person_size  person_distance_axes_norm  num_people\n",
       "person_size                   1.000000                  -0.480529   -0.425859\n",
       "person_distance_axes_norm    -0.480529                   1.000000    0.261826\n",
       "num_people                   -0.425859                   0.261826    1.000000"
      ]
     },
     "execution_count": 7,
     "metadata": {},
     "output_type": "execute_result"
    }
   ],
   "source": [
    "feature_df[img_level_concepts].corr()"
   ]
  },
  {
   "cell_type": "code",
   "execution_count": 8,
   "metadata": {
    "collapsed": true
   },
   "outputs": [],
   "source": [
    "'''The image level features have '''\n",
    "concepts=[#'was_aware_num',\n",
    " 'posing_num',\n",
    " 'comfort_num',\n",
    " 'will_num',\n",
    " 'photographer_intention_num',\n",
    " 'replacable_num',\n",
    " 'photo_place_num']\n",
    "\n",
    "all_high_level_concepts=concepts+img_level_concepts\n",
    "normalized_data = feature_df[all_high_level_concepts].apply(stats.zscore)\n",
    "normalized_data.to_csv(survey_path+'high-feature-df-normalized.csv')"
   ]
  },
  {
   "cell_type": "code",
   "execution_count": 9,
   "metadata": {},
   "outputs": [
    {
     "data": {
      "text/plain": [
       "(array([ 0.42855184,  0.13073324,  0.11408802,  0.09202016,  0.08183971,\n",
       "         0.05653316,  0.04948294,  0.03206728,  0.01468365]),\n",
       " array([ 0.42855184,  0.55928507,  0.6733731 ,  0.76539325,  0.84723297,\n",
       "         0.90376612,  0.95324907,  0.98531635,  1.        ]))"
      ]
     },
     "execution_count": 9,
     "metadata": {},
     "output_type": "execute_result"
    }
   ],
   "source": [
    "n_comp = len(all_high_level_concepts)\n",
    "pca = PCA(n_components=n_comp).fit(normalized_data.values)\n",
    "pca.explained_variance_ratio_,np.cumsum(pca.explained_variance_ratio_)"
   ]
  },
  {
   "cell_type": "code",
   "execution_count": 14,
   "metadata": {},
   "outputs": [],
   "source": [
    "labelFont = 18\n",
    "legendFont = 16\n",
    "tickFont = 16\n",
    "\n",
    "manuscriptColSize= 252\n",
    "forLatex = True\n",
    "latexDec = 6"
   ]
  },
  {
   "cell_type": "code",
   "execution_count": 293,
   "metadata": {},
   "outputs": [],
   "source": [
    "%matplotlib inline\n",
    "\n",
    "def plot_scree(forLatex = False):\n",
    "\n",
    "    fig = plt.figure(figsize=(12,8))\n",
    "\n",
    "    if(forLatex):\n",
    "        plt.rc('text', usetex=True)\n",
    "        plt.rc('font', family='serif', serif='Times')\n",
    "        fig.set_size_inches(get_fig_size(manuscriptColSize))\n",
    "\n",
    "    plt.plot(range(1,1+n_comp), np.cumsum(pca.explained_variance_ratio_), 'o--', \n",
    "             color='orange', linewidth=2, label='cum. var. explained')\n",
    "    plt.plot(range(1,1+n_comp), pca.explained_variance_ratio_, 'o-', linewidth=2 ,label='var. explained')\n",
    "    plt.legend(fontsize=legendFont-forLatex*latexDec, markerscale=0.75, loc=0, frameon=True)\n",
    "    plt.xlabel('Components',fontsize=labelFont-forLatex*latexDec)\n",
    "    plt.ylabel('Variance explained',fontsize=labelFont-forLatex*latexDec)\n",
    "    plt.xticks(range(1,1+n_comp), fontsize=tickFont-forLatex*latexDec)\n",
    "    plt.yticks([0,.2,.4,.6,.8,1], fontsize=tickFont-forLatex*latexDec)\n",
    "\n",
    "    if(forLatex):\n",
    "        plt.tight_layout()\n",
    "        plt.savefig(survey_path+'scree-plot.pdf',dpi=100)\n",
    "    else:\n",
    "        plt.show()"
   ]
  },
  {
   "cell_type": "code",
   "execution_count": 587,
   "metadata": {},
   "outputs": [
    {
     "data": {
      "image/png": "[encoded data removed]",
      "text/plain": [
       "<matplotlib.figure.Figure at 0x7fcbee096358>"
      ]
     },
     "metadata": {},
     "output_type": "display_data"
    }
   ],
   "source": [
    "plot_scree(forLatex=True)"
   ]
  },
  {
   "cell_type": "code",
   "execution_count": 149,
   "metadata": {},
   "outputs": [
    {
     "data": {
      "text/plain": [
       "'/nfs/juhu/data/rakhasan/bystander-detection/pilot-study2/'"
      ]
     },
     "execution_count": 149,
     "metadata": {},
     "output_type": "execute_result"
    }
   ],
   "source": [
    "# plt.figure(figsize=(8,8))\n",
    "# for v in high_level_concepts_num:\n",
    "#     plt.scatter(x=component_matrix.T.loc[0][v],y=component_matrix.T.loc[1][v], \n",
    "#                 marker='o', label=v, s=70)\n",
    "#     plt.text(s=v,x=component_matrix.T.loc[0][v]+.01,\n",
    "#              y=component_matrix.T.loc[1][v]+.01)\n",
    "\n",
    "# #plt.legend()\n",
    "# plt.axhline(y=0)\n",
    "# plt.axvline(x=0)\n",
    "# plt.xlim([-1,1])\n",
    "# plt.ylim([-1,1])\n",
    "# plt.xlabel('PC1')\n",
    "# plt.ylabel('PC2')\n",
    "# plt.show()\n",
    "survey_path"
   ]
  },
  {
   "cell_type": "markdown",
   "metadata": {},
   "source": [
    "### Factor analysis"
   ]
  },
  {
   "cell_type": "code",
   "execution_count": 28,
   "metadata": {
    "collapsed": true
   },
   "outputs": [],
   "source": [
    "from factor_analyzer import FactorAnalyzer"
   ]
  },
  {
   "cell_type": "code",
   "execution_count": 380,
   "metadata": {},
   "outputs": [],
   "source": [
    "import math\n",
    "def plot_loadings(loadings, items, threshold=.3, save_file=None, forLatex=False):\n",
    "    markers = list(\"ovd^<>hp+x\")\n",
    "    colors = ['b', 'c', 'y', 'm', 'lightcoral', 'cornflowerblue','violet','teal']\n",
    "    fig = plt.figure()\n",
    "    if(forLatex):\n",
    "        print('setting latex size')\n",
    "        plt.rc('text', usetex=True)\n",
    "        plt.rc('font', family='serif', serif='Times')\n",
    "        w, h =get_fig_size(manuscriptColSize)\n",
    "        fig.set_size_inches((w,w))\n",
    "    else:\n",
    "        fig.set_size_inches((8,8))\n",
    "        \n",
    "#     ax = fig.add_subplot(111)\n",
    "#     ax.yaxis.tick_right()\n",
    "        \n",
    "    i=0\n",
    "    for v in items:\n",
    "        if math.fabs(loadings.loc[0][v])>=threshold or math.fabs(loadings.loc[1][v])>=threshold:\n",
    "            x=loadings.loc[0][v]\n",
    "            y=loadings.loc[1][v]\n",
    "            label = v+'\\n({:.2f},{:.2f})'.format(x,y) if v=='Number of people' else v+' ({:.2f},{:.2f})'.format(x,y)\n",
    "            plt.scatter(x, y, marker=markers[i], \n",
    "                        label= label,\n",
    "                        s=90, color=colors[i])\n",
    "            i+=1\n",
    "    plt.axhline(y=0, linestyle='--', color='lightgray')\n",
    "    plt.axvline(x=0, linestyle='--', color='lightgray')\n",
    "    plt.xlim([-1,1])\n",
    "    plt.ylim([-1,1])\n",
    "    plt.xticks(np.arange(-1,1.25,.25), fontsize=tickFont-forLatex*latexDec-2, rotation=90)\n",
    "    plt.yticks(np.arange(-1,1.25,.25), fontsize=tickFont-forLatex*latexDec-2)\n",
    "    #plt.tick_params(labelsize= tickFont-forLatex*latexDec-2)\n",
    "    plt.xlabel('Factor1',fontsize=labelFont-forLatex*latexDec-2)\n",
    "    plt.ylabel('Factor2',fontsize=labelFont-forLatex*latexDec-2)\n",
    "    plt.legend(fontsize=legendFont-forLatex*latexDec-2, markerscale=0.4, loc=2, \n",
    "            handletextpad=.01, bbox_to_anchor=(-0.03, 1.02),\n",
    "          ncol=1, frameon=True#,fancybox=True, shadow=True\n",
    "              )\n",
    "    plt.tight_layout()\n",
    "    if save_file:\n",
    "        plt.savefig(save_file,dpi=300)\n",
    "    plt.show()\n",
    "\n",
    "\n",
    "def clarify_loadings(df, threshold=.3):\n",
    "    df = df.round(2).T\n",
    "    for c in df.columns:\n",
    "        df[c] = np.where((df[c]<threshold)&(df[c]>-threshold), '', df[c])\n",
    "    return df.round(2)"
   ]
  },
  {
   "cell_type": "code",
   "execution_count": 1,
   "metadata": {},
   "outputs": [
    {
     "ename": "NameError",
     "evalue": "name 'FactorAnalyzer' is not defined",
     "output_type": "error",
     "traceback": [
      "\u001b[0;31m---------------------------------------------------------------------------\u001b[0m",
      "\u001b[0;31mNameError\u001b[0m                                 Traceback (most recent call last)",
      "\u001b[0;32m<ipython-input-1-d80296ce0285>\u001b[0m in \u001b[0;36m<module>\u001b[0;34m()\u001b[0m\n\u001b[0;32m----> 1\u001b[0;31m \u001b[0mfa\u001b[0m \u001b[0;34m=\u001b[0m \u001b[0mFactorAnalyzer\u001b[0m\u001b[0;34m(\u001b[0m\u001b[0mrotation\u001b[0m\u001b[0;34m=\u001b[0m\u001b[0;34m'varimax'\u001b[0m\u001b[0;34m,\u001b[0m \u001b[0mn_factors\u001b[0m\u001b[0;34m=\u001b[0m\u001b[0;36m3\u001b[0m\u001b[0;34m)\u001b[0m\u001b[0;34m\u001b[0m\u001b[0m\n\u001b[0m\u001b[1;32m      2\u001b[0m \u001b[0mfa\u001b[0m\u001b[0;34m.\u001b[0m\u001b[0mfit\u001b[0m\u001b[0;34m(\u001b[0m\u001b[0mnormalized_data\u001b[0m\u001b[0;34m)\u001b[0m\u001b[0;34m\u001b[0m\u001b[0m\n\u001b[1;32m      3\u001b[0m \u001b[0mloadings\u001b[0m \u001b[0;34m=\u001b[0m \u001b[0mpd\u001b[0m\u001b[0;34m.\u001b[0m\u001b[0mDataFrame\u001b[0m\u001b[0;34m(\u001b[0m\u001b[0mfa\u001b[0m\u001b[0;34m.\u001b[0m\u001b[0mloadings_\u001b[0m\u001b[0;34m.\u001b[0m\u001b[0mT\u001b[0m\u001b[0;34m,\u001b[0m \u001b[0mcolumns\u001b[0m\u001b[0;34m=\u001b[0m\u001b[0mall_high_level_concepts\u001b[0m\u001b[0;34m)\u001b[0m\u001b[0;34m\u001b[0m\u001b[0m\n\u001b[1;32m      4\u001b[0m \u001b[0mloadings\u001b[0m \u001b[0;34m=\u001b[0m \u001b[0mloadings\u001b[0m\u001b[0;34m.\u001b[0m\u001b[0mrename\u001b[0m\u001b[0;34m(\u001b[0m\u001b[0mcolumns\u001b[0m\u001b[0;34m=\u001b[0m\u001b[0mhigh_level_concepts_name\u001b[0m\u001b[0;34m)\u001b[0m\u001b[0;34m\u001b[0m\u001b[0m\n\u001b[1;32m      5\u001b[0m \u001b[0;34m\u001b[0m\u001b[0m\n",
      "\u001b[0;31mNameError\u001b[0m: name 'FactorAnalyzer' is not defined"
     ]
    }
   ],
   "source": [
    "fa = FactorAnalyzer(rotation='varimax', n_factors=3)\n",
    "fa.fit(normalized_data)\n",
    "loadings = pd.DataFrame(fa.loadings_.T, columns=all_high_level_concepts)\n",
    "loadings = loadings.rename(columns=high_level_concepts_name)\n",
    "\n",
    "plot_loadings(loadings,[high_level_concepts_name[k] for k in all_high_level_concepts],threshold=.4, forLatex=True)\n",
    "\n",
    "#loadings=clarify_loadings(loadings).rename(columns=high_level_concepts_name)\n",
    "#loadings"
   ]
  },
  {
   "cell_type": "code",
   "execution_count": 382,
   "metadata": {
    "collapsed": true
   },
   "outputs": [],
   "source": [
    "concepts=[#'was_aware_num',\n",
    " 'posing_num',\n",
    " 'comfort_num',\n",
    " 'will_num',\n",
    " 'photographer_intention_num',\n",
    " 'replacable_num',\n",
    " 'photo_place_num']\n",
    "\n",
    "all_high_level_concepts=concepts+img_level_concepts\n",
    "normalized_data = feature_df[all_high_level_concepts].apply(stats.zscore)"
   ]
  },
  {
   "cell_type": "code",
   "execution_count": 383,
   "metadata": {},
   "outputs": [
    {
     "name": "stdout",
     "output_type": "stream",
     "text": [
      "setting latex size\n"
     ]
    },
    {
     "data": {
      "image/png": "[encoded data removed]",
      "text/plain": [
       "<matplotlib.figure.Figure at 0x7fcbedcf3b00>"
      ]
     },
     "metadata": {},
     "output_type": "display_data"
    },
    {
     "data": {
      "text/html": [
       "<div>\n",
       "<table border=\"1\" class=\"dataframe\">\n",
       "  <thead>\n",
       "    <tr style=\"text-align: right;\">\n",
       "      <th></th>\n",
       "      <th>0</th>\n",
       "      <th>1</th>\n",
       "    </tr>\n",
       "  </thead>\n",
       "  <tbody>\n",
       "    <tr>\n",
       "      <th>Pose</th>\n",
       "      <td>0.72</td>\n",
       "      <td>0.36</td>\n",
       "    </tr>\n",
       "    <tr>\n",
       "      <th>Comfort</th>\n",
       "      <td>0.88</td>\n",
       "      <td></td>\n",
       "    </tr>\n",
       "    <tr>\n",
       "      <th>Willingness</th>\n",
       "      <td>0.91</td>\n",
       "      <td></td>\n",
       "    </tr>\n",
       "    <tr>\n",
       "      <th>Photographer intention</th>\n",
       "      <td></td>\n",
       "      <td></td>\n",
       "    </tr>\n",
       "    <tr>\n",
       "      <th>Replaceable</th>\n",
       "      <td>-0.43</td>\n",
       "      <td>-0.52</td>\n",
       "    </tr>\n",
       "    <tr>\n",
       "      <th>Photo place</th>\n",
       "      <td></td>\n",
       "      <td>0.3</td>\n",
       "    </tr>\n",
       "    <tr>\n",
       "      <th>Size</th>\n",
       "      <td></td>\n",
       "      <td>0.78</td>\n",
       "    </tr>\n",
       "    <tr>\n",
       "      <th>Distance</th>\n",
       "      <td></td>\n",
       "      <td>-0.54</td>\n",
       "    </tr>\n",
       "    <tr>\n",
       "      <th>Number of people</th>\n",
       "      <td></td>\n",
       "      <td>-0.48</td>\n",
       "    </tr>\n",
       "  </tbody>\n",
       "</table>\n",
       "</div>"
      ],
      "text/plain": [
       "                            0      1\n",
       "Pose                     0.72   0.36\n",
       "Comfort                  0.88       \n",
       "Willingness              0.91       \n",
       "Photographer intention              \n",
       "Replaceable             -0.43  -0.52\n",
       "Photo place                      0.3\n",
       "Size                            0.78\n",
       "Distance                       -0.54\n",
       "Number of people               -0.48"
      ]
     },
     "execution_count": 383,
     "metadata": {},
     "output_type": "execute_result"
    }
   ],
   "source": [
    "\n",
    "fa = FactorAnalyzer(rotation='varimax', n_factors=2)\n",
    "fa.fit(normalized_data)\n",
    "loadings = pd.DataFrame(fa.loadings_.T, columns=all_high_level_concepts)\n",
    "loadings = loadings.rename(columns=high_level_concepts_name)\n",
    "plot_loadings(loadings,[high_level_concepts_name[k] for k in all_high_level_concepts],\n",
    "              threshold=.4, save_file=survey_path+'fa-plot.pdf', forLatex=True)\n",
    "\n",
    "loadings=clarify_loadings(loadings).rename(columns=high_level_concepts_name)\n",
    "loadings"
   ]
  },
  {
   "cell_type": "code",
   "execution_count": 369,
   "metadata": {
    "collapsed": true
   },
   "outputs": [],
   "source": [
    "# Detect multicollinearity"
   ]
  },
  {
   "cell_type": "markdown",
   "metadata": {},
   "source": [
    "## Using VIF"
   ]
  },
  {
   "cell_type": "code",
   "execution_count": null,
   "metadata": {},
   "outputs": [],
   "source": [
    "'''Use all variables'''\n",
    "from statsmodels.stats.outliers_influence import variance_inflation_factor\n",
    "from statsmodels.tools.tools import add_constant\n",
    "\n",
    "normalized_data = feature_df[high_level_concepts_num+img_level_concepts].apply(stats.zscore)\n",
    "\n",
    "normalized_data=add_constant(normalized_data)\n",
    "s = pd.Series([variance_inflation_factor(normalized_data.values, i) \n",
    "               for i in range(normalized_data.shape[1])], \n",
    "              index=normalized_data.columns)\n",
    "print(s.T.to_latex())\n",
    "s.T"
   ]
  },
  {
   "cell_type": "code",
   "execution_count": null,
   "metadata": {},
   "outputs": [],
   "source": [
    "'''remove aware'''\n",
    "from statsmodels.stats.outliers_influence import variance_inflation_factor\n",
    "from statsmodels.tools.tools import add_constant\n",
    "\n",
    "concepts=[#'was_aware_num',\n",
    " 'posing_num',\n",
    " 'comfort_num',\n",
    " 'will_num',\n",
    " 'photographer_intention_num',\n",
    " 'replacable_num',\n",
    " 'photo_place_num']\n",
    "\n",
    "all_high_level_concepts=concepts+img_level_concepts\n",
    "normalized_data = feature_df[all_high_level_concepts].apply(stats.zscore)\n",
    "\n",
    "normalized_data=add_constant(normalized_data)\n",
    "s=pd.Series([variance_inflation_factor(normalized_data.values, i) \n",
    "               for i in range(normalized_data.shape[1])], \n",
    "              index=normalized_data.columns)\n",
    "s.round(2)"
   ]
  },
  {
   "cell_type": "markdown",
   "metadata": {},
   "source": [
    "### Using Regression or *How one concept is explained by all the others*"
   ]
  },
  {
   "cell_type": "code",
   "execution_count": null,
   "metadata": {
    "scrolled": false
   },
   "outputs": [],
   "source": [
    "rsq_df=[]\n",
    "features = high_level_concepts_num+img_level_concepts\n",
    "for c in features:\n",
    "    X = feature_df[list(set(features).difference(set([c])))]\n",
    "    X = sm.add_constant(X)\n",
    "    y = feature_df[c]\n",
    "    est = sm.OLS(y, X).fit()\n",
    "    rsq_df.append({'Variable':high_level_concepts_name[c], 'Adjusted Rsq.':est.rsquared_adj})\n",
    "    print(est.summary())\n",
    "    print('\\n\\n')"
   ]
  },
  {
   "cell_type": "code",
   "execution_count": null,
   "metadata": {},
   "outputs": [],
   "source": [
    "print(pd.DataFrame(rsq_df).round(2).set_index('Variable').to_latex())"
   ]
  },
  {
   "cell_type": "code",
   "execution_count": null,
   "metadata": {},
   "outputs": [],
   "source": [
    "binary_data = feature_df[(feature_df.label==1) | (feature_df.label==-1)]\n",
    "binary_data['label'] = binary_data.apply(lambda row: 1 if row.label==1 else 0, axis=1)\n",
    "X = binary_data[['posing_num','photographer_intention_num']]\n",
    "X = sm.add_constant(X)\n",
    "y = binary_data.label\n",
    "est = sm.Logit(endog=y, exog=X).fit()\n",
    "print(est.summary())"
   ]
  },
  {
   "cell_type": "code",
   "execution_count": null,
   "metadata": {},
   "outputs": [],
   "source": [
    "est.summary2()"
   ]
  },
  {
   "cell_type": "code",
   "execution_count": null,
   "metadata": {},
   "outputs": [],
   "source": [
    "img_level_concepts"
   ]
  },
  {
   "cell_type": "code",
   "execution_count": null,
   "metadata": {},
   "outputs": [],
   "source": [
    "survey_path"
   ]
  },
  {
   "cell_type": "markdown",
   "metadata": {
    "collapsed": true
   },
   "source": [
    "### ROC Plots for paper"
   ]
  },
  {
   "cell_type": "code",
   "execution_count": 121,
   "metadata": {
    "collapsed": true
   },
   "outputs": [],
   "source": [
    "import cv2 "
   ]
  },
  {
   "cell_type": "code",
   "execution_count": 3,
   "metadata": {},
   "outputs": [
    {
     "name": "stderr",
     "output_type": "stream",
     "text": [
      "/l/anaconda3-4.3.0/lib/python3.6/site-packages/sklearn/cross_validation.py:44: DeprecationWarning: This module was deprecated in version 0.18 in favor of the model_selection module into which all the refactored classes and functions are moved. Also note that the interface of the new CV iterators are different from that of this module. This module will be removed in 0.20.\n",
      "  \"This module will be removed in 0.20.\", DeprecationWarning)\n",
      "/l/anaconda3-4.3.0/lib/python3.6/site-packages/sklearn/grid_search.py:43: DeprecationWarning: This module was deprecated in version 0.18 in favor of the model_selection module into which all the refactored classes and functions are moved. This module will be removed in 0.20.\n",
      "  DeprecationWarning)\n"
     ]
    }
   ],
   "source": [
    "from sklearn import preprocessing\n",
    "from sklearn.linear_model import LogisticRegression\n",
    "from sklearn.model_selection import StratifiedKFold\n",
    "from sklearn.model_selection import cross_val_score\n",
    "from sklearn.metrics import confusion_matrix, classification_report,roc_curve, auc,accuracy_score\n",
    "from scipy import interp\n",
    "from sklearn import cross_validation, grid_search\n",
    "\n",
    "'''Feature names'''\n",
    "\n",
    "#joint names labeled by openpose\n",
    "body_joint_names = ['nose', 'neck', 'Rsho', 'Relb', 'Rwri', 'Lsho', 'Lelb',\n",
    "               'Lwri', 'Rhip', 'Rkne', 'Rank', 'Lhip', 'Lkne', 'Lank', \n",
    "               'Leye', 'Reye', 'Lear', 'Rear']\n",
    "\n",
    "#angles between pairs of body joint, from openpose\n",
    "link_angle_features = ['angle_'+str(i) for i in range(17)]\n",
    "\n",
    "#probability of detecting a body joint, from openpose\n",
    "body_joint_prob_features = [j + '_prob' for j in body_joint_names]\n",
    "\n",
    "face_exp_feaures = ['angry', 'disgusted', 'fearful', 'happy', 'sad', 'surprised', 'neutral']\n",
    "\n",
    "img_level_features = ['person_distance_axes_norm', 'person_size', 'num_people']\n",
    "\n",
    "visual_features = img_level_features +\\\n",
    "    link_angle_features + body_joint_prob_features + face_exp_feaures\n",
    "\n",
    "features_from_study = ['was_aware_num',  'posing_num',  'comfort_num',  'will_num', 'photographer_intention_num',\n",
    "     'replacable_num',  'photo_place_num']\n",
    "\n",
    "resnet_feature_cols = ['resnet_feat_{}'.format(i) for i in range(131071)]\n",
    "\n",
    "resnet_feat_avg_cols = ['resnet_feat_avg_{}'.format(i) for i in range(2048)]\n",
    "\n",
    "all_features = features_from_study + visual_features + resnet_feat_avg_cols\n",
    "#img_level_features = ['person_distance', 'person_size', 'num_people']"
   ]
  },
  {
   "cell_type": "code",
   "execution_count": null,
   "metadata": {},
   "outputs": [],
   "source": []
  },
  {
   "cell_type": "code",
   "execution_count": 110,
   "metadata": {},
   "outputs": [],
   "source": [
    "print('Loading cropped images')\n",
    "\n",
    "cropped_img = dict()\n",
    "IMG_SIZE = (256, 256)\n",
    "image_names = list(set(feature_df.index.values))\n",
    "for idx in image_names:\n",
    "    cropped_img[idx] = cv2.resize(cv2.imread(survey_path+'cropped-photos/'+idx+'.jpg'), \n",
    "                   dsize=IMG_SIZE, interpolation=cv2.INTER_CUBIC)\n",
    "feature_df['resized_cropped_img'] = pd.Series(cropped_img)\n",
    "\n",
    "print('Loading ResNet features')\n",
    "rn = pickle.load(open(survey_path+'resnet_features_averaged.pkl','rb'))\n",
    "rn_dicts = []\n",
    "for k in rn.keys():\n",
    "    feats = rn[k]\n",
    "    d= {'photo_no':k}\n",
    "    for i in range(len(resnet_feat_avg_cols)):\n",
    "        d[resnet_feat_avg_cols[i]] = feats[0][i]\n",
    "    rn_dicts.append(d)\n",
    "rn_df = pd.DataFrame(rn_dicts)\n",
    "rn_df = rn_df.loc[feature_df.index]\n",
    "rn_df.set_index('photo_no', inplace=True)\n",
    "feature_df= pd.concat([feature_df, rn_df], axis=1)"
   ]
  },
  {
   "cell_type": "code",
   "execution_count": 111,
   "metadata": {},
   "outputs": [],
   "source": []
  },
  {
   "cell_type": "code",
   "execution_count": 114,
   "metadata": {},
   "outputs": [],
   "source": [
    "# def plot_roc(data, show_plot = True, file_to_save=None, for_latex=False, square=False):\n",
    "#     plt.rcParams[\"axes.edgecolor\"] = \"black\"\n",
    "#     plt.rcParams[\"axes.linewidth\"] = 1\n",
    "#     fig= plt.figure(facecolor='w')\n",
    "#     plt.fill(False)\n",
    "    \n",
    "#     for fpr, tpr in data:\n",
    "#         plt.plot(fpr, tpr, lw=1, alpha=0.3, \n",
    "#                  label=None)#'ROC fold %d (AUC = %0.2f)' % (i, roc_auc))\n",
    "\n",
    "\n",
    "def do_cross_val_roc(X, y, classifier_func, n_splits=10, \n",
    "                     show_plot=True, save_file=None,\n",
    "                        forLatex=False,\n",
    "                        square=False #whether the plot is square or rectangular\n",
    "                    ):\n",
    "    '''\n",
    "    Cross validation for a Logistic Regression model and plot ROC.    \n",
    "    This was copied from the helper, to change plotting\n",
    "    '''\n",
    "    random_state = np.random.RandomState(0)\n",
    "    cv_scores = []\n",
    "    #\n",
    "    cv = StratifiedKFold(n_splits=n_splits)\n",
    "    #\n",
    "    tprs = []\n",
    "    aucs = []\n",
    "    mean_fpr = np.linspace(0, 1, 100)\n",
    "    #\n",
    "    plt.rcParams[\"axes.edgecolor\"] = \"black\"\n",
    "    plt.rcParams[\"axes.linewidth\"] = 1\n",
    "    fig= plt.figure(facecolor='w')\n",
    "    plt.fill(False)\n",
    "    if(forLatex):\n",
    "        print('setting latex size')\n",
    "        plt.rc('text', usetex=True)\n",
    "        plt.rc('font', family='serif', serif='Times')\n",
    "        w,h = get_fig_size(manuscriptColSize)\n",
    "        fig_size = ((w, w if square else h))\n",
    "        fig.set_size_inches(fig_size)\n",
    "    else:\n",
    "        fig.set_size_inches((12,8))\n",
    "#\n",
    "    i = 0\n",
    "    for train, test in cv.split(X, y):\n",
    "        print('Fold: ', i)\n",
    "        trained_classifier = classifier_func().fit(X[train], y[train])\n",
    "        trained_classifier.random_state = random_state\n",
    "        trained_classifier.probability=True\n",
    "        predictions = trained_classifier.predict(X[test])\n",
    "        cv_scores.append(accuracy_score(y_pred=predictions, y_true=y[test]))\n",
    "        print(classification_report(y_pred=predictions, y_true=y[test]))\n",
    "        \n",
    "        probas_ = trained_classifier.predict_proba(X[test])\n",
    "        # Compute ROC curve and area of the curve\n",
    "        fpr, tpr, thresholds = roc_curve(y[test], probas_[:, 1])\n",
    "        tprs.append(interp(mean_fpr, fpr, tpr))\n",
    "        tprs[-1][0] = 0.0\n",
    "        roc_auc = auc(fpr, tpr)\n",
    "        aucs.append(roc_auc)\n",
    "        plt.plot(fpr, tpr, lw=1, alpha=0.3, \n",
    "                 label='ROC fold %d (AUC = %0.2f)' % (i, roc_auc))\n",
    "#\n",
    "        i += 1\n",
    "    plt.plot([0, 1], [0, 1], linestyle='--', lw=2, color='r',\n",
    "             label='Chance', \n",
    "             alpha=.8)\n",
    "#\n",
    "    mean_tpr = np.mean(tprs, axis=0)\n",
    "    mean_tpr[-1] = 1.0\n",
    "    mean_auc = auc(mean_fpr, mean_tpr)\n",
    "    std_auc = np.std(aucs)\n",
    "    plt.plot(mean_fpr, mean_tpr, color='b',\n",
    "             label=r'Mean ROC (AUC = %0.2f $\\pm$ %0.2f)' % (mean_auc, std_auc),\n",
    "             lw=2, alpha=.8)\n",
    "#\n",
    "    std_tpr = np.std(tprs, axis=0)\n",
    "    tprs_upper = np.minimum(mean_tpr + std_tpr, 1)\n",
    "    tprs_lower = np.maximum(mean_tpr - std_tpr, 0)\n",
    "    plt.fill_between(mean_fpr, tprs_lower, tprs_upper, color='grey', alpha=.4,\n",
    "                     label=r'$\\pm$ 1 std. dev.')\n",
    "#\n",
    "    plt.xlim([-0.05, 1.05])\n",
    "    plt.ylim([-0.05, 1.05])\n",
    "    plt.xlabel('False Positive Rate', fontsize=labelFont-forLatex*latexDec-2)\n",
    "    plt.ylabel('True Positive Rate', fontsize=labelFont-forLatex*latexDec-2)\n",
    "    #plt.text(.15,.03, 'Mean ROC (AUC = %0.2f $\\pm$ %0.2f)'% (mean_auc, std_auc))\n",
    "    plt.legend(fontsize=legendFont-forLatex*latexDec-2, markerscale=0.4, loc=\"lower right\", frameon=True)\n",
    "#             handletextpad=.01, bbox_to_anchor=(-0.03, 1.02),\n",
    "#           ncol=1, frameon=True#,fancybox=True, shadow=True\n",
    "       \n",
    "    #fig.patch.set_color('w')\n",
    "    fig.set_facecolor(\"w\")\n",
    "    \n",
    "    plt.tight_layout()\n",
    "    if save_file:\n",
    "        plt.savefig(save_file, dpi=300, frameon=True, facecolor=fig.get_facecolor(), edgecolor='black', transparent=True)\n",
    "    if show_plot:\n",
    "        plt.show()\n",
    "    #\n",
    "    print('Accuracy scores:',cv_scores)\n",
    "    print('Mean accuracy:{}(+/-{:.2f})'.format(np.mean(cv_scores), np.std(cv_scores)))"
   ]
  },
  {
   "cell_type": "code",
   "execution_count": 115,
   "metadata": {
    "scrolled": true
   },
   "outputs": [
    {
     "name": "stdout",
     "output_type": "stream",
     "text": [
      "setting latex size\n",
      "Fold:  0\n",
      "             precision    recall  f1-score   support\n",
      "\n",
      "         -1       0.90      0.86      0.88       152\n",
      "          1       0.91      0.93      0.92       229\n",
      "\n",
      "avg / total       0.90      0.90      0.90       381\n",
      "\n",
      "Fold:  1\n",
      "             precision    recall  f1-score   support\n",
      "\n",
      "         -1       0.86      0.71      0.78       152\n",
      "          1       0.83      0.93      0.87       229\n",
      "\n",
      "avg / total       0.84      0.84      0.84       381\n",
      "\n",
      "Fold:  2\n",
      "             precision    recall  f1-score   support\n",
      "\n",
      "         -1       0.87      0.91      0.89       152\n",
      "          1       0.94      0.91      0.92       229\n",
      "\n",
      "avg / total       0.91      0.91      0.91       381\n",
      "\n",
      "Fold:  3\n",
      "             precision    recall  f1-score   support\n",
      "\n",
      "         -1       0.84      0.86      0.85       152\n",
      "          1       0.91      0.89      0.90       229\n",
      "\n",
      "avg / total       0.88      0.88      0.88       381\n",
      "\n",
      "Fold:  4\n",
      "             precision    recall  f1-score   support\n",
      "\n",
      "         -1       0.84      0.88      0.86       152\n",
      "          1       0.91      0.89      0.90       229\n",
      "\n",
      "avg / total       0.89      0.88      0.88       381\n",
      "\n",
      "Fold:  5\n",
      "             precision    recall  f1-score   support\n",
      "\n",
      "         -1       0.71      0.81      0.76       151\n",
      "          1       0.86      0.78      0.82       229\n",
      "\n",
      "avg / total       0.80      0.79      0.79       380\n",
      "\n",
      "Fold:  6\n",
      "             precision    recall  f1-score   support\n",
      "\n",
      "         -1       0.71      0.81      0.76       151\n",
      "          1       0.86      0.79      0.82       229\n",
      "\n",
      "avg / total       0.80      0.79      0.80       380\n",
      "\n",
      "Fold:  7\n",
      "             precision    recall  f1-score   support\n",
      "\n",
      "         -1       0.86      0.80      0.83       151\n",
      "          1       0.87      0.92      0.90       228\n",
      "\n",
      "avg / total       0.87      0.87      0.87       379\n",
      "\n",
      "Fold:  8\n",
      "             precision    recall  f1-score   support\n",
      "\n",
      "         -1       0.85      0.81      0.83       151\n",
      "          1       0.88      0.91      0.89       228\n",
      "\n",
      "avg / total       0.87      0.87      0.87       379\n",
      "\n",
      "Fold:  9\n",
      "             precision    recall  f1-score   support\n",
      "\n",
      "         -1       0.86      0.84      0.85       151\n",
      "          1       0.90      0.91      0.90       228\n",
      "\n",
      "avg / total       0.88      0.88      0.88       379\n",
      "\n"
     ]
    },
    {
     "data": {
      "image/png": "[encoded data removed]",
      "text/plain": [
       "<matplotlib.figure.Figure at 0x7f4ffe6dc710>"
      ]
     },
     "metadata": {},
     "output_type": "display_data"
    },
    {
     "name": "stdout",
     "output_type": "stream",
     "text": [
      "Accuracy scores: [0.90288713910761154, 0.83989501312335957, 0.91076115485564302, 0.87926509186351709, 0.884514435695538, 0.79210526315789476, 0.79473684210526319, 0.87071240105540892, 0.87071240105540892, 0.8812664907651715]\n",
      "Mean accuracy:0.8626856232784815(+/-0.04)\n"
     ]
    }
   ],
   "source": [
    "min_max_scaler = preprocessing.MinMaxScaler()\n",
    "\n",
    "'''This will be used in paper'''\n",
    "'''Use selected survey features and size, location, and number of people as predictors'''\n",
    "feat=['posing_num', 'replacable_num', 'photographer_intention_num','person_size']\n",
    "do_cross_val_roc(classifier_func=LogisticRegression,\n",
    "                    X= min_max_scaler.fit_transform(\n",
    "                    feature_df[feat]),\n",
    "                    y=feature_df.label, n_splits=10,\n",
    "                    save_file=survey_path+'ground-truth-pose-roc.pdf',\n",
    "                    forLatex=True,\n",
    "                     square=True\n",
    "                    )"
   ]
  },
  {
   "cell_type": "code",
   "execution_count": 112,
   "metadata": {},
   "outputs": [
    {
     "name": "stderr",
     "output_type": "stream",
     "text": [
      "/l/anaconda3-4.3.0/lib/python3.6/site-packages/sklearn/utils/validation.py:429: DataConversionWarning: Data with input dtype uint8 was converted to float64 by MinMaxScaler.\n",
      "  warnings.warn(msg, _DataConversionWarning)\n"
     ]
    },
    {
     "name": "stdout",
     "output_type": "stream",
     "text": [
      "setting latex size\n",
      "             precision    recall  f1-score   support\n",
      "\n",
      "         -1       0.59      0.66      0.63       152\n",
      "          1       0.76      0.69      0.72       229\n",
      "\n",
      "avg / total       0.69      0.68      0.68       381\n",
      "\n",
      "             precision    recall  f1-score   support\n",
      "\n",
      "         -1       0.61      0.65      0.63       152\n",
      "          1       0.76      0.73      0.74       229\n",
      "\n",
      "avg / total       0.70      0.70      0.70       381\n",
      "\n",
      "             precision    recall  f1-score   support\n",
      "\n",
      "         -1       0.59      0.59      0.59       152\n",
      "          1       0.73      0.72      0.73       229\n",
      "\n",
      "avg / total       0.67      0.67      0.67       381\n",
      "\n",
      "             precision    recall  f1-score   support\n",
      "\n",
      "         -1       0.53      0.59      0.56       152\n",
      "          1       0.71      0.65      0.68       229\n",
      "\n",
      "avg / total       0.64      0.63      0.63       381\n",
      "\n",
      "             precision    recall  f1-score   support\n",
      "\n",
      "         -1       0.55      0.61      0.57       152\n",
      "          1       0.72      0.67      0.69       229\n",
      "\n",
      "avg / total       0.65      0.64      0.65       381\n",
      "\n",
      "             precision    recall  f1-score   support\n",
      "\n",
      "         -1       0.57      0.64      0.60       151\n",
      "          1       0.74      0.68      0.71       229\n",
      "\n",
      "avg / total       0.67      0.66      0.67       380\n",
      "\n",
      "             precision    recall  f1-score   support\n",
      "\n",
      "         -1       0.59      0.74      0.66       151\n",
      "          1       0.79      0.67      0.73       229\n",
      "\n",
      "avg / total       0.71      0.69      0.70       380\n",
      "\n",
      "             precision    recall  f1-score   support\n",
      "\n",
      "         -1       0.61      0.72      0.66       151\n",
      "          1       0.79      0.69      0.74       228\n",
      "\n",
      "avg / total       0.71      0.70      0.70       379\n",
      "\n",
      "             precision    recall  f1-score   support\n",
      "\n",
      "         -1       0.55      0.58      0.56       151\n",
      "          1       0.71      0.68      0.70       228\n",
      "\n",
      "avg / total       0.65      0.64      0.64       379\n",
      "\n",
      "             precision    recall  f1-score   support\n",
      "\n",
      "         -1       0.51      0.58      0.54       151\n",
      "          1       0.69      0.62      0.66       228\n",
      "\n",
      "avg / total       0.62      0.61      0.61       379\n",
      "\n"
     ]
    },
    {
     "data": {
      "image/png": "[encoded data removed]",
      "text/plain": [
       "<matplotlib.figure.Figure at 0x7f500cb55240>"
      ]
     },
     "metadata": {},
     "output_type": "display_data"
    },
    {
     "name": "stdout",
     "output_type": "stream",
     "text": [
      "Accuracy scores: [0.6824146981627297, 0.69816272965879267, 0.67191601049868765, 0.62729658792650922, 0.64304461942257218, 0.66315789473684206, 0.69473684210526321, 0.70184696569920846, 0.64116094986807393, 0.60686015831134565]\n",
      "Mean accuracy:0.6630597456390025(+/-0.03)\n"
     ]
    }
   ],
   "source": [
    "do_cross_val_roc(classifier_func=LogisticRegression,\n",
    "                    X= min_max_scaler.fit_transform(\n",
    "                       np.array([x.flatten() for x in feature_df.resized_cropped_img])),\n",
    "                    y=feature_df.label,\n",
    "                    n_splits=10,\n",
    "                    forLatex=True,\n",
    "                    square=True,\n",
    "                    save_file=survey_path+'raw-cropped-img-roc.pdf')"
   ]
  },
  {
   "cell_type": "code",
   "execution_count": 128,
   "metadata": {},
   "outputs": [],
   "source": [
    "feature_df =pd.read_pickle(os.path.join(survey_path, 'all-features-df-'+str(datetime.now().date())+'.pkl'))"
   ]
  },
  {
   "cell_type": "code",
   "execution_count": 129,
   "metadata": {},
   "outputs": [
    {
     "name": "stdout",
     "output_type": "stream",
     "text": [
      "setting latex size\n",
      "Fold:  0\n",
      "             precision    recall  f1-score   support\n",
      "\n",
      "         -1       0.75      0.78      0.76       152\n",
      "          1       0.85      0.83      0.84       229\n",
      "\n",
      "avg / total       0.81      0.81      0.81       381\n",
      "\n",
      "Fold:  1\n",
      "             precision    recall  f1-score   support\n",
      "\n",
      "         -1       0.75      0.68      0.72       152\n",
      "          1       0.80      0.85      0.83       229\n",
      "\n",
      "avg / total       0.78      0.78      0.78       381\n",
      "\n",
      "Fold:  2\n",
      "             precision    recall  f1-score   support\n",
      "\n",
      "         -1       0.78      0.70      0.74       152\n",
      "          1       0.81      0.87      0.84       229\n",
      "\n",
      "avg / total       0.80      0.80      0.80       381\n",
      "\n",
      "Fold:  3\n",
      "             precision    recall  f1-score   support\n",
      "\n",
      "         -1       0.71      0.72      0.71       152\n",
      "          1       0.81      0.80      0.81       229\n",
      "\n",
      "avg / total       0.77      0.77      0.77       381\n",
      "\n",
      "Fold:  4\n",
      "             precision    recall  f1-score   support\n",
      "\n",
      "         -1       0.72      0.67      0.70       152\n",
      "          1       0.79      0.83      0.81       229\n",
      "\n",
      "avg / total       0.76      0.77      0.76       381\n",
      "\n",
      "Fold:  5\n",
      "             precision    recall  f1-score   support\n",
      "\n",
      "         -1       0.70      0.75      0.72       151\n",
      "          1       0.83      0.78      0.80       229\n",
      "\n",
      "avg / total       0.78      0.77      0.77       380\n",
      "\n",
      "Fold:  6\n",
      "             precision    recall  f1-score   support\n",
      "\n",
      "         -1       0.72      0.76      0.74       151\n",
      "          1       0.84      0.80      0.82       229\n",
      "\n",
      "avg / total       0.79      0.79      0.79       380\n",
      "\n",
      "Fold:  7\n",
      "             precision    recall  f1-score   support\n",
      "\n",
      "         -1       0.76      0.68      0.72       151\n",
      "          1       0.80      0.86      0.83       228\n",
      "\n",
      "avg / total       0.78      0.79      0.78       379\n",
      "\n",
      "Fold:  8\n",
      "             precision    recall  f1-score   support\n",
      "\n",
      "         -1       0.81      0.74      0.77       151\n",
      "          1       0.83      0.89      0.86       228\n",
      "\n",
      "avg / total       0.82      0.83      0.82       379\n",
      "\n",
      "Fold:  9\n",
      "             precision    recall  f1-score   support\n",
      "\n",
      "         -1       0.64      0.64      0.64       151\n",
      "          1       0.76      0.76      0.76       228\n",
      "\n",
      "avg / total       0.71      0.71      0.71       379\n",
      "\n"
     ]
    },
    {
     "data": {
      "image/png": "[encoded data removed]",
      "text/plain": [
       "<matplotlib.figure.Figure at 0x7f4ffea5f7f0>"
      ]
     },
     "metadata": {},
     "output_type": "display_data"
    },
    {
     "name": "stdout",
     "output_type": "stream",
     "text": [
      "Accuracy scores: [0.80839895013123364, 0.78477690288713908, 0.80052493438320205, 0.76902887139107612, 0.76640419947506566, 0.77105263157894732, 0.7868421052631579, 0.78627968337730869, 0.82585751978891819, 0.70976253298153036]\n",
      "Mean accuracy:0.780892833125758(+/-0.03)\n"
     ]
    }
   ],
   "source": [
    "#feat=['posing_num', 'replacable_num', 'photographer_intention_num','person_size']\n",
    "do_cross_val_roc(classifier_func=LogisticRegression,\n",
    "                   X=  min_max_scaler.fit_transform(feature_df_merged[resnet_feat_avg_cols+body_joint_prob_features+\\\n",
    "                                link_angle_features+ face_exp_feaures]),\n",
    "                   y=feature_df_merged.label, n_splits=10,\n",
    "                 forLatex=True,\n",
    "                 square=True,\n",
    "                  save_file=survey_path+'all-visual-features-roc.pdf')"
   ]
  },
  {
   "cell_type": "code",
   "execution_count": 120,
   "metadata": {},
   "outputs": [
    {
     "name": "stdout",
     "output_type": "stream",
     "text": [
      "['person_distance_axes_norm', 'person_size', 'num_people']\n",
      "setting latex size\n",
      "Fold:  0\n",
      "             precision    recall  f1-score   support\n",
      "\n",
      "         -1       0.72      0.72      0.72       152\n",
      "          1       0.81      0.82      0.81       229\n",
      "\n",
      "avg / total       0.78      0.78      0.78       381\n",
      "\n",
      "Fold:  1\n",
      "             precision    recall  f1-score   support\n",
      "\n",
      "         -1       0.75      0.64      0.69       152\n",
      "          1       0.78      0.86      0.82       229\n",
      "\n",
      "avg / total       0.77      0.77      0.77       381\n",
      "\n",
      "Fold:  2\n",
      "             precision    recall  f1-score   support\n",
      "\n",
      "         -1       0.72      0.67      0.70       152\n",
      "          1       0.79      0.83      0.81       229\n",
      "\n",
      "avg / total       0.76      0.77      0.76       381\n",
      "\n",
      "Fold:  3\n",
      "             precision    recall  f1-score   support\n",
      "\n",
      "         -1       0.71      0.69      0.70       152\n",
      "          1       0.80      0.82      0.81       229\n",
      "\n",
      "avg / total       0.77      0.77      0.77       381\n",
      "\n",
      "Fold:  4\n",
      "             precision    recall  f1-score   support\n",
      "\n",
      "         -1       0.74      0.70      0.72       152\n",
      "          1       0.81      0.84      0.82       229\n",
      "\n",
      "avg / total       0.78      0.78      0.78       381\n",
      "\n",
      "Fold:  5\n",
      "             precision    recall  f1-score   support\n",
      "\n",
      "         -1       0.69      0.73      0.71       151\n",
      "          1       0.81      0.78      0.80       229\n",
      "\n",
      "avg / total       0.76      0.76      0.76       380\n",
      "\n",
      "Fold:  6\n",
      "             precision    recall  f1-score   support\n",
      "\n",
      "         -1       0.76      0.74      0.74       151\n",
      "          1       0.83      0.84      0.84       229\n",
      "\n",
      "avg / total       0.80      0.80      0.80       380\n",
      "\n",
      "Fold:  7\n",
      "             precision    recall  f1-score   support\n",
      "\n",
      "         -1       0.69      0.66      0.67       151\n",
      "          1       0.78      0.81      0.79       228\n",
      "\n",
      "avg / total       0.74      0.75      0.75       379\n",
      "\n",
      "Fold:  8\n",
      "             precision    recall  f1-score   support\n",
      "\n",
      "         -1       0.71      0.70      0.70       151\n",
      "          1       0.80      0.81      0.81       228\n",
      "\n",
      "avg / total       0.76      0.77      0.77       379\n",
      "\n",
      "Fold:  9\n",
      "             precision    recall  f1-score   support\n",
      "\n",
      "         -1       0.70      0.66      0.68       151\n",
      "          1       0.78      0.82      0.80       228\n",
      "\n",
      "avg / total       0.75      0.75      0.75       379\n",
      "\n"
     ]
    },
    {
     "data": {
      "image/png": "[encoded data removed]",
      "text/plain": [
       "<matplotlib.figure.Figure at 0x7f500f3150f0>"
      ]
     },
     "metadata": {},
     "output_type": "display_data"
    },
    {
     "data": {
      "image/png": "[encoded data removed]",
      "text/plain": [
       "<matplotlib.figure.Figure at 0x7f500c98a940>"
      ]
     },
     "metadata": {},
     "output_type": "display_data"
    },
    {
     "data": {
      "image/png": "[encoded data removed]",
      "text/plain": [
       "<matplotlib.figure.Figure at 0x7f4ffea5fba8>"
      ]
     },
     "metadata": {},
     "output_type": "display_data"
    },
    {
     "name": "stdout",
     "output_type": "stream",
     "text": [
      "Accuracy scores: [0.7769028871391076, 0.76902887139107612, 0.76640419947506566, 0.76640419947506566, 0.78477690288713908, 0.76052631578947372, 0.80000000000000004, 0.74670184696569919, 0.76517150395778366, 0.75197889182058042]\n",
      "Mean accuracy:0.7687895618900991(+/-0.01)\n"
     ]
    }
   ],
   "source": [
    "'''Simple predictors'''\n",
    "print(img_level_features)\n",
    "do_cross_val_roc(classifier_func=LogisticRegression,\n",
    "                   X= feature_df[img_level_features].apply(stats.zscore).values,\n",
    "                   y=feature_df.label, n_splits=10,\n",
    "                     forLatex=True,\n",
    "                 square=True,\n",
    "                    save_file=survey_path+'simple-predictor-roc.pdf')"
   ]
  },
  {
   "cell_type": "markdown",
   "metadata": {},
   "source": [
    "### Comparing with human"
   ]
  },
  {
   "cell_type": "code",
   "execution_count": 100,
   "metadata": {
    "collapsed": true
   },
   "outputs": [],
   "source": [
    "agreement_23 = pickle.load(open(survey_path+'agreement23.pkl','rb'))\n",
    "agreement_100 = pickle.load(open(survey_path+'agreement100.pkl','rb'))"
   ]
  },
  {
   "cell_type": "code",
   "execution_count": 108,
   "metadata": {},
   "outputs": [
    {
     "name": "stdout",
     "output_type": "stream",
     "text": [
      "setting latex size\n",
      "             precision    recall  f1-score   support\n",
      "\n",
      "         -1       0.84      0.59      0.70        54\n",
      "          1       0.77      0.92      0.84        78\n",
      "\n",
      "avg / total       0.80      0.79      0.78       132\n",
      "\n",
      "             precision    recall  f1-score   support\n",
      "\n",
      "         -1       0.80      0.80      0.80        54\n",
      "          1       0.86      0.86      0.86        78\n",
      "\n",
      "avg / total       0.83      0.83      0.83       132\n",
      "\n",
      "             precision    recall  f1-score   support\n",
      "\n",
      "         -1       0.79      0.83      0.81        54\n",
      "          1       0.88      0.85      0.86        78\n",
      "\n",
      "avg / total       0.84      0.84      0.84       132\n",
      "\n",
      "             precision    recall  f1-score   support\n",
      "\n",
      "         -1       0.78      0.87      0.82        54\n",
      "          1       0.90      0.83      0.87        78\n",
      "\n",
      "avg / total       0.85      0.85      0.85       132\n",
      "\n",
      "             precision    recall  f1-score   support\n",
      "\n",
      "         -1       0.70      0.79      0.74        53\n",
      "          1       0.84      0.77      0.80        77\n",
      "\n",
      "avg / total       0.78      0.78      0.78       130\n",
      "\n",
      "             precision    recall  f1-score   support\n",
      "\n",
      "         -1       0.75      0.74      0.74        53\n",
      "          1       0.82      0.83      0.83        77\n",
      "\n",
      "avg / total       0.79      0.79      0.79       130\n",
      "\n",
      "             precision    recall  f1-score   support\n",
      "\n",
      "         -1       0.66      0.79      0.72        53\n",
      "          1       0.83      0.71      0.77        77\n",
      "\n",
      "avg / total       0.76      0.75      0.75       130\n",
      "\n",
      "             precision    recall  f1-score   support\n",
      "\n",
      "         -1       0.85      0.75      0.80        53\n",
      "          1       0.84      0.91      0.88        77\n",
      "\n",
      "avg / total       0.85      0.85      0.84       130\n",
      "\n",
      "             precision    recall  f1-score   support\n",
      "\n",
      "         -1       0.78      0.75      0.77        53\n",
      "          1       0.84      0.86      0.85        77\n",
      "\n",
      "avg / total       0.81      0.82      0.81       130\n",
      "\n",
      "             precision    recall  f1-score   support\n",
      "\n",
      "         -1       0.86      0.60      0.71        53\n",
      "          1       0.77      0.94      0.85        77\n",
      "\n",
      "avg / total       0.81      0.80      0.79       130\n",
      "\n"
     ]
    },
    {
     "data": {
      "image/png": "[encoded data removed]",
      "text/plain": [
       "<matplotlib.figure.Figure at 0x7f500f4af390>"
      ]
     },
     "metadata": {},
     "output_type": "display_data"
    },
    {
     "name": "stdout",
     "output_type": "stream",
     "text": [
      "Accuracy scores: [0.78787878787878785, 0.83333333333333337, 0.84090909090909094, 0.84848484848484851, 0.77692307692307694, 0.79230769230769227, 0.74615384615384617, 0.84615384615384615, 0.81538461538461537, 0.80000000000000004]\n",
      "Mean accuracy:0.8087529137529138(+/-0.03)\n"
     ]
    }
   ],
   "source": [
    "'''\n",
    "Split 67% agreement data for training and testing\n",
    "'''\n",
    "feat=['posing_num', 'replacable_num', 'photographer_intention_num','person_size']\n",
    "\n",
    "df = feature_df.loc[agreement_23][feat+['label']]\n",
    "do_cross_val_roc(classifier_func=LogisticRegression,\n",
    "                   X= df[feat].apply(stats.zscore).values,\n",
    "                   y=df.label, n_splits=10,\n",
    "                    forLatex=True,\n",
    "                 square=True,\n",
    "                    save_file=survey_path+'67-perc-agreement-roc.pdf')"
   ]
  },
  {
   "cell_type": "code",
   "execution_count": 109,
   "metadata": {},
   "outputs": [
    {
     "name": "stdout",
     "output_type": "stream",
     "text": [
      "setting latex size\n",
      "             precision    recall  f1-score   support\n",
      "\n",
      "         -1       0.97      0.77      0.86        48\n",
      "          1       0.88      0.99      0.93        84\n",
      "\n",
      "avg / total       0.92      0.91      0.91       132\n",
      "\n",
      "             precision    recall  f1-score   support\n",
      "\n",
      "         -1       0.98      0.98      0.98        47\n",
      "          1       0.99      0.99      0.99        84\n",
      "\n",
      "avg / total       0.98      0.98      0.98       131\n",
      "\n",
      "             precision    recall  f1-score   support\n",
      "\n",
      "         -1       0.96      0.98      0.97        47\n",
      "          1       0.99      0.98      0.98        84\n",
      "\n",
      "avg / total       0.98      0.98      0.98       131\n",
      "\n",
      "             precision    recall  f1-score   support\n",
      "\n",
      "         -1       0.88      0.98      0.93        47\n",
      "          1       0.99      0.93      0.96        84\n",
      "\n",
      "avg / total       0.95      0.95      0.95       131\n",
      "\n",
      "             precision    recall  f1-score   support\n",
      "\n",
      "         -1       0.90      0.91      0.91        47\n",
      "          1       0.95      0.94      0.95        84\n",
      "\n",
      "avg / total       0.93      0.93      0.93       131\n",
      "\n",
      "             precision    recall  f1-score   support\n",
      "\n",
      "         -1       0.87      0.96      0.91        47\n",
      "          1       0.97      0.92      0.94        84\n",
      "\n",
      "avg / total       0.94      0.93      0.93       131\n",
      "\n",
      "             precision    recall  f1-score   support\n",
      "\n",
      "         -1       0.92      0.96      0.94        47\n",
      "          1       0.98      0.95      0.96        84\n",
      "\n",
      "avg / total       0.96      0.95      0.95       131\n",
      "\n",
      "             precision    recall  f1-score   support\n",
      "\n",
      "         -1       0.80      0.85      0.82        47\n",
      "          1       0.91      0.88      0.90        84\n",
      "\n",
      "avg / total       0.87      0.87      0.87       131\n",
      "\n",
      "             precision    recall  f1-score   support\n",
      "\n",
      "         -1       0.92      0.96      0.94        47\n",
      "          1       0.98      0.95      0.96        83\n",
      "\n",
      "avg / total       0.95      0.95      0.95       130\n",
      "\n",
      "             precision    recall  f1-score   support\n",
      "\n",
      "         -1       0.98      0.96      0.97        47\n",
      "          1       0.98      0.99      0.98        83\n",
      "\n",
      "avg / total       0.98      0.98      0.98       130\n",
      "\n"
     ]
    },
    {
     "data": {
      "image/png": "[encoded data removed]",
      "text/plain": [
       "<matplotlib.figure.Figure at 0x7f500f315940>"
      ]
     },
     "metadata": {},
     "output_type": "display_data"
    },
    {
     "name": "stdout",
     "output_type": "stream",
     "text": [
      "Accuracy scores: [0.90909090909090906, 0.98473282442748089, 0.97709923664122134, 0.94656488549618323, 0.93129770992366412, 0.93129770992366412, 0.95419847328244278, 0.87022900763358779, 0.9538461538461539, 0.97692307692307689]\n",
      "Mean accuracy:0.9435279987188384(+/-0.03)\n"
     ]
    }
   ],
   "source": [
    "'''\n",
    "Split 100% agreement data for training and testing\n",
    "'''\n",
    "feat=['posing_num', 'replacable_num', 'photographer_intention_num','person_size']\n",
    "\n",
    "df = feature_df.loc[agreement_100][feat+['label']]\n",
    "do_cross_val_roc(classifier_func=LogisticRegression,\n",
    "                   X= df[feat].apply(stats.zscore).values,\n",
    "                   y=df.label, n_splits=10,\n",
    "                    forLatex=True,\n",
    "                    square=True,\n",
    "                    save_file=survey_path+'100-perc-agreement-roc.pdf')"
   ]
  },
  {
   "cell_type": "code",
   "execution_count": 613,
   "metadata": {
    "collapsed": true
   },
   "outputs": [],
   "source": [
    "feature_df.to_pickle(os.path.join(survey_path, 'features-df-all-'+str(datetime.now().date())+'.pkl'))"
   ]
  },
  {
   "cell_type": "code",
   "execution_count": 614,
   "metadata": {},
   "outputs": [
    {
     "data": {
      "text/plain": [
       "'/nfs/juhu/data/rakhasan/bystander-detection/pilot-study2/'"
      ]
     },
     "execution_count": 614,
     "metadata": {},
     "output_type": "execute_result"
    }
   ],
   "source": [
    "survey_path"
   ]
  },
  {
   "cell_type": "code",
   "execution_count": 615,
   "metadata": {
    "collapsed": true
   },
   "outputs": [],
   "source": [
    "feature_df.to_csv(os.path.join(survey_path, 'features-df-all.csv'))"
   ]
  },
  {
   "cell_type": "code",
   "execution_count": 123,
   "metadata": {},
   "outputs": [],
   "source": [
    "from datetime import datetime"
   ]
  },
  {
   "cell_type": "code",
   "execution_count": 131,
   "metadata": {},
   "outputs": [
    {
     "data": {
      "text/plain": [
       "17.416666666666668"
      ]
     },
     "execution_count": 131,
     "metadata": {},
     "output_type": "execute_result"
    }
   ],
   "source": [
    "1045/60"
   ]
  },
  {
   "cell_type": "code",
   "execution_count": null,
   "metadata": {
    "collapsed": true
   },
   "outputs": [],
   "source": []
  }
 ],
 "metadata": {
  "kernelspec": {
   "display_name": "Python 3",
   "language": "python",
   "name": "python3"
  },
  "language_info": {
   "codemirror_mode": {
    "name": "ipython",
    "version": 3
   },
   "file_extension": ".py",
   "mimetype": "text/x-python",
   "name": "python",
   "nbconvert_exporter": "python",
   "pygments_lexer": "ipython3",
   "version": "3.7.7"
  }
 },
 "nbformat": 4,
 "nbformat_minor": 2
}
