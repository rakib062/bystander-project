{
 "cells": [
  {
   "cell_type": "code",
   "execution_count": 79,
   "metadata": {
    "collapsed": false
   },
   "outputs": [],
   "source": [
    "# generic imports\n",
    "import sys\n",
    "import os\n",
    "sys.path.append('../')\n",
    "import img_processing_util\n",
    "from definitions import *\n",
    "\n",
    "import seaborn as sns\n",
    "from tqdm import tqdm\n",
    "import json\n",
    "import pandas as pd\n",
    "import pickle\n",
    "from collections import defaultdict\n",
    "import math\n",
    "import numpy as np\n",
    "#import krippendorff\n",
    "import matplotlib.image as mpimg\n",
    "from datetime import datetime\n",
    "#stats amd ml\n",
    "from scipy import stats\n",
    "import matplotlib.pyplot as plt\n",
    "import cv2\n",
    "import csv\n",
    "\n",
    "\n",
    "current_dataset = \"coco\"\n",
    "current_dataset = \"google\"\n",
    "\n",
    "openImg_path = '/nfs/juhu/data/rakhasan/bystander-detection/google-img-db/'\n",
    "coco_path = '/nfs/juhu/data/rakhasan/bystander-detection/coco/'\n",
    "if current_dataset==\"google\":\n",
    "    survey_path='/nfs/juhu/data/rakhasan/bystander-detection/pilot-study2/'\n",
    "else:\n",
    "    survey_path='/nfs/juhu/data/rakhasan/bystander-detection/pilot3_coco/'\n",
    "\n",
    "mapping_path = survey_path+'mappings.pkl'\n",
    "common_mapping_path = survey_path+'mappings_common.pkl'\n",
    "survey_photo_path = survey_path+'/photos/'\n",
    "cropped_photo_path = survey_path+'/cropped-photos/'\n",
    "IMG_SIZE = (256, 256)"
   ]
  },
  {
   "cell_type": "code",
   "execution_count": 73,
   "metadata": {
    "collapsed": true
   },
   "outputs": [],
   "source": [
    "if current_dataset==\"google\":\n",
    "    human_parts,object_classes =pickle.load(open(survey_path+'human-object-classes.pkl','rb'))\n",
    "    survey_photo_annotations =pickle.load(open(survey_path+'survey_photo_annotations.pkl','rb'))\n",
    "    body_features = ['_'.join(human_parts[body_part].split()) for body_part in human_parts.keys()]"
   ]
  },
  {
   "cell_type": "code",
   "execution_count": 81,
   "metadata": {
    "collapsed": false
   },
   "outputs": [
    {
     "data": {
      "text/plain": [
       "(15488, 26)"
      ]
     },
     "execution_count": 81,
     "metadata": {},
     "output_type": "execute_result"
    }
   ],
   "source": [
    "body_features=['Human_eye',\n",
    " 'Human_beard',\n",
    " 'Human_mouth',\n",
    " 'Human_body',\n",
    " 'Human_foot',\n",
    " 'Human_leg',\n",
    " 'Human_ear',\n",
    " 'Human_hair',\n",
    " 'Human_head',\n",
    " 'Human_arm',\n",
    " 'Human_nose',\n",
    " 'Human_hand']\n",
    "\n",
    "mapping = pickle.load(open(common_mapping_path,'rb'))\n",
    "photo_df = pd.read_pickle(os.path.join(survey_path, 'photo_df.pkl'))\n",
    "photo_df.index=photo_df.index.astype(int)\n",
    "photo_df.shape"
   ]
  },
  {
   "cell_type": "code",
   "execution_count": 82,
   "metadata": {
    "collapsed": false
   },
   "outputs": [
    {
     "data": {
      "text/plain": [
       "{'bbox': [272.943875, 392.698627, 530.510005, 1083.8161169999998],\n",
       " 'fileName': '03e3ee823d39aa67.jpg',\n",
       " 'imageId': '03e3ee823d39aa67',\n",
       " 'index': 0}"
      ]
     },
     "execution_count": 82,
     "metadata": {},
     "output_type": "execute_result"
    }
   ],
   "source": [
    "mapping[0]"
   ]
  },
  {
   "cell_type": "code",
   "execution_count": 75,
   "metadata": {
    "collapsed": false
   },
   "outputs": [
    {
     "data": {
      "text/plain": [
       "'\\n    Common mapping format:\\n        imgId: original image id\\n        index: index in the mapping \\n        fileName: original image file name\\n        bbox: [xmin, xmax, ymin, ymax]     \\n'"
      ]
     },
     "execution_count": 75,
     "metadata": {},
     "output_type": "execute_result"
    }
   ],
   "source": [
    "'''\n",
    "    Common mapping format:\n",
    "        imgId: original image id\n",
    "        index: index in the mapping \n",
    "        fileName: original image file name\n",
    "        bbox: [xmin, xmax, ymin, ymax]     \n",
    "'''\n",
    "\n",
    "# '''change coco-mapping to common format'''\n",
    "# new_mapping = []\n",
    "# for i in range(len(mapping)):\n",
    "#     m=mapping[i]\n",
    "#     box=m['bbox']\n",
    "#     d={\n",
    "#         'imageId': m['image_id'],\n",
    "#         'index': i,\n",
    "#         'fileName':'COCO_train2014_000000{}.jpg'.format(m['image_id']),\n",
    "#         'bbox':[box[0],box[0]+box[2],box[1],box[1]+box[3]]\n",
    "#     }           \n",
    "#     new_mapping.append(d)\n",
    "# pickle.dump(new_mapping, open(survey_path+'mappings_common.pkl','wb'))\n",
    "# json.dump(new_mapping, open(survey_path+'mappings_common.json','w'))\n",
    "\n",
    "\n",
    "# '''change google-mapping to common format'''\n",
    "# new_mapping = []\n",
    "# for i in tqdm(range(len(mapping))):\n",
    "#     m=mapping[i]\n",
    "#     img = cv2.imread(survey_photo_path+str(i)+'.jpg')\n",
    "#     r=m[4:8]\n",
    "#     box=[float(r[0])*len(img[0]), \n",
    "#          float(r[1])*len(img[0]),\n",
    "#          float(r[2])*len(img),\n",
    "#          float(r[3])*len(img)]\n",
    "#     d={\n",
    "#         'imageId': m[0],\n",
    "#         'index': i,\n",
    "#         'fileName':'{}.jpg'.format(m[0]),\n",
    "#         'bbox':[box[0],box[0]+box[2],box[1],box[1]+box[3]]\n",
    "#     }           \n",
    "#     new_mapping.append(d)\n",
    "#pickle.dump(new_mapping, open(survey_path+'mappings_common.pkl','wb'))\n",
    "#json.dump(new_mapping, open(survey_path+'mappings_common.json','w'))"
   ]
  },
  {
   "cell_type": "code",
   "execution_count": 76,
   "metadata": {
    "collapsed": false
   },
   "outputs": [
    {
     "name": "stdout",
     "output_type": "stream",
     "text": [
      "(15488, 8)\n",
      "(14803, 8)\n"
     ]
    }
   ],
   "source": [
    "#high_concept_data = photo_df[high_level_concepts_num+['subject_bystander_num','contains_full_body']]\n",
    "high_concept_data = photo_df[high_level_concepts_num+['subject_bystander_num']]\n",
    "'''Remove NaN rows'''\n",
    "print(high_concept_data.shape)\n",
    "high_concept_data =high_concept_data[~high_concept_data.isnull().any(axis=1)]\n",
    "high_concept_data = high_concept_data.astype(float)\n",
    "print(high_concept_data.shape)"
   ]
  },
  {
   "cell_type": "code",
   "execution_count": 59,
   "metadata": {
    "collapsed": false
   },
   "outputs": [
    {
     "name": "stdout",
     "output_type": "stream",
     "text": [
      "Total unique photos:  4080\n"
     ]
    },
    {
     "data": {
      "text/html": [
       "<div>\n",
       "<table border=\"1\" class=\"dataframe\">\n",
       "  <thead>\n",
       "    <tr style=\"text-align: right;\">\n",
       "      <th></th>\n",
       "      <th>was_aware_num</th>\n",
       "      <th>posing_num</th>\n",
       "      <th>comfort_num</th>\n",
       "      <th>will_num</th>\n",
       "      <th>photographer_intention_num</th>\n",
       "      <th>replacable_num</th>\n",
       "      <th>photo_place_num</th>\n",
       "      <th>subject_bystander_num</th>\n",
       "      <th>label</th>\n",
       "    </tr>\n",
       "    <tr>\n",
       "      <th>photo_no</th>\n",
       "      <th></th>\n",
       "      <th></th>\n",
       "      <th></th>\n",
       "      <th></th>\n",
       "      <th></th>\n",
       "      <th></th>\n",
       "      <th></th>\n",
       "      <th></th>\n",
       "      <th></th>\n",
       "    </tr>\n",
       "  </thead>\n",
       "  <tbody>\n",
       "    <tr>\n",
       "      <th>1</th>\n",
       "      <td>2.50</td>\n",
       "      <td>2.00</td>\n",
       "      <td>2.00</td>\n",
       "      <td>1.50</td>\n",
       "      <td>2.5</td>\n",
       "      <td>-2.50</td>\n",
       "      <td>2.00</td>\n",
       "      <td>1.75</td>\n",
       "      <td>1</td>\n",
       "    </tr>\n",
       "    <tr>\n",
       "      <th>2</th>\n",
       "      <td>2.25</td>\n",
       "      <td>2.25</td>\n",
       "      <td>2.00</td>\n",
       "      <td>1.75</td>\n",
       "      <td>2.0</td>\n",
       "      <td>-0.25</td>\n",
       "      <td>0.00</td>\n",
       "      <td>0.75</td>\n",
       "      <td>1</td>\n",
       "    </tr>\n",
       "    <tr>\n",
       "      <th>3</th>\n",
       "      <td>-2.00</td>\n",
       "      <td>0.00</td>\n",
       "      <td>0.25</td>\n",
       "      <td>0.50</td>\n",
       "      <td>-2.0</td>\n",
       "      <td>2.75</td>\n",
       "      <td>-0.50</td>\n",
       "      <td>-1.75</td>\n",
       "      <td>-1</td>\n",
       "    </tr>\n",
       "    <tr>\n",
       "      <th>4</th>\n",
       "      <td>-2.00</td>\n",
       "      <td>-2.00</td>\n",
       "      <td>0.25</td>\n",
       "      <td>0.50</td>\n",
       "      <td>-1.0</td>\n",
       "      <td>2.75</td>\n",
       "      <td>0.00</td>\n",
       "      <td>-1.25</td>\n",
       "      <td>-1</td>\n",
       "    </tr>\n",
       "    <tr>\n",
       "      <th>5</th>\n",
       "      <td>1.25</td>\n",
       "      <td>0.00</td>\n",
       "      <td>1.25</td>\n",
       "      <td>1.00</td>\n",
       "      <td>-1.5</td>\n",
       "      <td>0.50</td>\n",
       "      <td>-1.75</td>\n",
       "      <td>-1.25</td>\n",
       "      <td>-1</td>\n",
       "    </tr>\n",
       "  </tbody>\n",
       "</table>\n",
       "</div>"
      ],
      "text/plain": [
       "          was_aware_num  posing_num  comfort_num  will_num  \\\n",
       "photo_no                                                     \n",
       "1                  2.50        2.00         2.00      1.50   \n",
       "2                  2.25        2.25         2.00      1.75   \n",
       "3                 -2.00        0.00         0.25      0.50   \n",
       "4                 -2.00       -2.00         0.25      0.50   \n",
       "5                  1.25        0.00         1.25      1.00   \n",
       "\n",
       "          photographer_intention_num  replacable_num  photo_place_num  \\\n",
       "photo_no                                                                \n",
       "1                                2.5           -2.50             2.00   \n",
       "2                                2.0           -0.25             0.00   \n",
       "3                               -2.0            2.75            -0.50   \n",
       "4                               -1.0            2.75             0.00   \n",
       "5                               -1.5            0.50            -1.75   \n",
       "\n",
       "          subject_bystander_num  label  \n",
       "photo_no                                \n",
       "1                          1.75      1  \n",
       "2                          0.75      1  \n",
       "3                         -1.75     -1  \n",
       "4                         -1.25     -1  \n",
       "5                         -1.25     -1  "
      ]
     },
     "execution_count": 59,
     "metadata": {},
     "output_type": "execute_result"
    }
   ],
   "source": [
    "feature_df = pd.DataFrame()\n",
    "\n",
    "# add numerical features and class label directly obtained from the survey\n",
    "for c in high_level_concepts_num+['subject_bystander_num']:#,'contains_full_body']:\n",
    "    feature_df[c] = high_concept_data.groupby(high_concept_data.index).mean()[c]\n",
    "\n",
    "def get_class_label(val):\n",
    "    '''Return 1, -1, or 0 for subject, bystander, and neither'''\n",
    "    if val > 0:\n",
    "        return 1\n",
    "    if val < 0:\n",
    "        return -1\n",
    "    return 0\n",
    "\n",
    "feature_df['label'] = feature_df.apply(lambda r: get_class_label(r.subject_bystander_num), axis=1)\n",
    "\n",
    "#assert(len(set(high_concept_data.index.values)) == len(feature_df))\n",
    "print('Total unique photos: ',len(feature_df))\n",
    "\n",
    "feature_df.reset_index(inplace=True)\n",
    "feature_df['photo_no']=feature_df.photo_no.astype(int)\n",
    "feature_df.set_index('photo_no', inplace=True)\n",
    "feature_df.head()"
   ]
  },
  {
   "cell_type": "code",
   "execution_count": 224,
   "metadata": {
    "collapsed": false
   },
   "outputs": [],
   "source": [
    "'''\n",
    "Create a reverse map where key=imgeID and values are the list of photono used in the survey.\n",
    "The length of the list indicates how many actual people are in the photo.\n",
    "'''\n",
    "reverse_map = defaultdict(list)\n",
    "photo_numbers = set(feature_df.index.values.astype(int))\n",
    "for m in range(len(mapping)):\n",
    "    if m in photo_numbers: # if that is a real person\n",
    "        reverse_map[mapping[m]['imageId']].append(m)\n",
    "        \n",
    "'''Create another dict where keys are number of people, and values are list of imgeIds containing that many people'''\n",
    "photo_by_people = defaultdict(list)\n",
    "for rm in reverse_map:\n",
    "    photo_by_people[len(reverse_map[rm])].append(rm)\n",
    "    \n",
    "#pickle.dump(reverse_map, open(os.path.join(survey_path, 'reverse-map.pkl'), 'wb'))\n",
    "#pickle.dump(photo_by_people, open(os.path.join(survey_path, 'photo-by-people.pkl'), 'wb'))\n",
    "reverse_map= pickle.load(open(os.path.join(survey_path, 'reverse-map.pkl'), 'rb'))"
   ]
  },
  {
   "cell_type": "code",
   "execution_count": 225,
   "metadata": {
    "collapsed": false
   },
   "outputs": [],
   "source": [
    "# feature_df[feature_df.contains_full_body<.51].groupby(['contains_full_body','label']).subject_bystander_num.count()\n",
    "# #feature_df[['contains_full_body','label']]\n",
    "# feature_df[feature_df.contains_full_body<.51].groupby(['label']).subject_bystander_num.count()\n",
    "# feature_df=feature_df[feature_df.contains_full_body>.5]\n",
    "# feature_df.shape"
   ]
  },
  {
   "cell_type": "code",
   "execution_count": 77,
   "metadata": {
    "collapsed": false
   },
   "outputs": [
    {
     "data": {
      "text/plain": [
       "{'bbox': [272.943875, 392.698627, 530.510005, 1083.8161169999998],\n",
       " 'fileName': '03e3ee823d39aa67.jpg',\n",
       " 'imageId': '03e3ee823d39aa67',\n",
       " 'index': 0}"
      ]
     },
     "execution_count": 77,
     "metadata": {},
     "output_type": "execute_result"
    }
   ],
   "source": [
    "mapping[0]"
   ]
  },
  {
   "cell_type": "code",
   "execution_count": null,
   "metadata": {
    "collapsed": false
   },
   "outputs": [],
   "source": [
    "'''Add image level features'''\n",
    "def get_person_size(img, r):\n",
    "    '''\n",
    "    Returns size of a person (both absolute and percentage) in a photo given the photo or its path and \n",
    "    rectangle 'r' containing the person.\n",
    "    '''\n",
    "    if isinstance(img, str):\n",
    "        #print(img)\n",
    "        img= mpimg.imread(img)\n",
    "        \n",
    "    img_w, img_h = len(img[0]), len(img)\n",
    "    xmin, xmax, ymin, ymax = r[0],r[1],r[2],r[3]\n",
    "    \n",
    "    size = (float(xmax)-float(xmin))* (float(ymax)-float(ymin))\n",
    "    ret=(size, size/(img_w * img_h))\n",
    "    #print(ret)\n",
    "    return ret\n",
    "\n",
    "\n",
    "# feature_df['person_distance_axes_norm'] = feature_df.apply(lambda row: \n",
    "#         helper.get_distance_from_center( img = survey_photo_path+str(row.name)+'.jpg',\n",
    "#                                          r= mapping[int(row.name)][4:8],\n",
    "#                                          center_zero= False, norm_type='Axis_size', draw=False)[0], axis=1)\n",
    "# feature_df['person_distance_img_norm'] = feature_df.apply(lambda row: \n",
    "#         helper.get_distance_from_center( img = survey_photo_path+str(row.name)+'.jpg',\n",
    "#                                          r= mapping[int(row.name)][4:8],\n",
    "#                                          center_zero= False, norm_type='Img_size', draw=False)[0], axis=1)\n",
    "\n",
    "# feature_df['person_distance']=feature_df.person_distance_axes_norm\n",
    "feature_df['person_size'] = feature_df.apply(lambda row: \n",
    "        get_person_size(\n",
    "            img = survey_photo_path+str(row.name)+'.jpg', \n",
    "            r=   mapping[int(row.name)]['bbox'])[1], axis=1)#only keep relative size\n",
    "\n"
   ]
  },
  {
   "cell_type": "code",
   "execution_count": 62,
   "metadata": {
    "collapsed": false
   },
   "outputs": [
    {
     "name": "stdout",
     "output_type": "stream",
     "text": [
      "Before: 4080 Now: 3802\n",
      "Any null:  False\n",
      "\n",
      "\n",
      "Pos:2287(60.15%)\n",
      "Neg:1515(39.85%)\n"
     ]
    },
    {
     "name": "stderr",
     "output_type": "stream",
     "text": [
      "/l/anaconda3-4.3.0/lib/python3.6/site-packages/ipykernel/__main__.py:8: SettingWithCopyWarning: \n",
      "A value is trying to be set on a copy of a slice from a DataFrame.\n",
      "Try using .loc[row_indexer,col_indexer] = value instead\n",
      "\n",
      "See the caveats in the documentation: http://pandas.pydata.org/pandas-docs/stable/indexing.html#indexing-view-versus-copy\n"
     ]
    }
   ],
   "source": [
    "#feature_df['num_people'] = feature_df.apply(lambda row: len(reverse_map[mapping[int(row.name)]['imageId']]), axis=1)\n",
    "\n",
    "'''Save only highlevel features'''\n",
    "binary_feature_df = feature_df[(feature_df.label==1)|(feature_df.label==-1)]\n",
    "print('Before:',len(feature_df),'Now:',len(binary_feature_df))\n",
    "\n",
    "print(\"Any null: \",binary_feature_df.isnull().values.any())\n",
    "binary_feature_df['label']=binary_feature_df.apply(lambda row: 1 if row.label==1 else 0, axis=1)\n",
    "\n",
    "'''Check data distribution'''\n",
    "\n",
    "print('\\n\\nPos:{}({:.2f}%)\\nNeg:{}({:.2f}%)'.format(\n",
    "    len(binary_feature_df[binary_feature_df.label==1]), len(binary_feature_df[binary_feature_df.label==1])*100/len(binary_feature_df),\n",
    "     len(binary_feature_df[binary_feature_df.label==0]), len(binary_feature_df[binary_feature_df.label==0])*100/len(binary_feature_df)))\n",
    "\n",
    "'''Save features'''\n",
    "binary_feature_df.to_pickle(os.path.join(survey_path, 'high-feature-df.pkl'))\n",
    "binary_feature_df.to_csv(os.path.join(survey_path, 'high-feature-df.csv'))"
   ]
  },
  {
   "cell_type": "code",
   "execution_count": 85,
   "metadata": {
    "collapsed": false
   },
   "outputs": [
    {
     "data": {
      "text/html": [
       "<div>\n",
       "<table border=\"1\" class=\"dataframe\">\n",
       "  <thead>\n",
       "    <tr style=\"text-align: right;\">\n",
       "      <th></th>\n",
       "      <th>person_size</th>\n",
       "      <th>subject_bystander_num</th>\n",
       "    </tr>\n",
       "  </thead>\n",
       "  <tbody>\n",
       "    <tr>\n",
       "      <th>person_size</th>\n",
       "      <td>1.000000</td>\n",
       "      <td>-0.201247</td>\n",
       "    </tr>\n",
       "    <tr>\n",
       "      <th>subject_bystander_num</th>\n",
       "      <td>-0.201247</td>\n",
       "      <td>1.000000</td>\n",
       "    </tr>\n",
       "  </tbody>\n",
       "</table>\n",
       "</div>"
      ],
      "text/plain": [
       "                       person_size  subject_bystander_num\n",
       "person_size               1.000000              -0.201247\n",
       "subject_bystander_num    -0.201247               1.000000"
      ]
     },
     "execution_count": 85,
     "metadata": {},
     "output_type": "execute_result"
    }
   ],
   "source": [
    "feature_df[['person_size','subject_bystander_num']].corr()"
   ]
  },
  {
   "cell_type": "code",
   "execution_count": 64,
   "metadata": {
    "collapsed": false
   },
   "outputs": [
    {
     "data": {
      "text/html": [
       "<div>\n",
       "<table border=\"1\" class=\"dataframe\">\n",
       "  <thead>\n",
       "    <tr style=\"text-align: right;\">\n",
       "      <th></th>\n",
       "      <th>person_size</th>\n",
       "      <th>label</th>\n",
       "    </tr>\n",
       "  </thead>\n",
       "  <tbody>\n",
       "    <tr>\n",
       "      <th>person_size</th>\n",
       "      <td>1.000000</td>\n",
       "      <td>-0.190423</td>\n",
       "    </tr>\n",
       "    <tr>\n",
       "      <th>label</th>\n",
       "      <td>-0.190423</td>\n",
       "      <td>1.000000</td>\n",
       "    </tr>\n",
       "  </tbody>\n",
       "</table>\n",
       "</div>"
      ],
      "text/plain": [
       "             person_size     label\n",
       "person_size     1.000000 -0.190423\n",
       "label          -0.190423  1.000000"
      ]
     },
     "execution_count": 64,
     "metadata": {},
     "output_type": "execute_result"
    }
   ],
   "source": [
    "binary_feature_df[['person_size','label']].corr()"
   ]
  },
  {
   "cell_type": "code",
   "execution_count": 228,
   "metadata": {
    "collapsed": false
   },
   "outputs": [
    {
     "data": {
      "text/plain": [
       "'Which human body parts and objects are annotated in the photos'"
      ]
     },
     "execution_count": 228,
     "metadata": {},
     "output_type": "execute_result"
    }
   ],
   "source": [
    "'''Which human body parts and objects are annotated in the photos'''\n",
    "\n",
    "# def contains_body_part(photo_index, body_part, person_annotation, annotation_dict):\n",
    "#     out = 0\n",
    "#     try:\n",
    "#         annotations = annotation_dict[mapping[photo_index][0]]\n",
    "#         for anno in annotations:\n",
    "#             if body_part == anno[2]: #object id in 3rd position of annotation \n",
    "#                 if helper.rect_in_rect(anno[4:8], person_annotation[4:8], overlap_thresh = 70):\n",
    "#                     out+=1\n",
    "#     except Exception as e:\n",
    "#         print(photo_index,e)\n",
    "#     return out\n",
    "    \n",
    "# for body_part in human_parts.keys():\n",
    "#     feature_df['_'.join(human_parts[body_part].split())] = feature_df.apply(lambda row: \n",
    "#         contains_body_part(int(row.name), body_part, mapping[int(row.name)], survey_photo_annotations), axis=1)"
   ]
  },
  {
   "cell_type": "code",
   "execution_count": 229,
   "metadata": {
    "collapsed": false
   },
   "outputs": [],
   "source": [
    "#feature_df.groupby('label').mean()[body_features]"
   ]
  },
  {
   "cell_type": "code",
   "execution_count": 230,
   "metadata": {
    "collapsed": false
   },
   "outputs": [
    {
     "name": "stdout",
     "output_type": "stream",
     "text": [
      "(749, 35)\n"
     ]
    }
   ],
   "source": [
    "'''Include openpose features: joint probability and angle'''\n",
    "openpose_feat = pd.read_csv(survey_path+'/openpose-feature.csv')\n",
    "openpose_feat.set_index('photo_no', inplace=True)\n",
    "print(openpose_feat.shape)\n",
    "#openpose_feat.fillna(0, inplace=True) ## remove NaNs\n",
    "for c in openpose_feat.columns:\n",
    "    feature_df[c] = openpose_feat[c]"
   ]
  },
  {
   "cell_type": "code",
   "execution_count": 231,
   "metadata": {
    "collapsed": false
   },
   "outputs": [],
   "source": [
    "'''Include resnet features'''\n",
    "resnet_feat = pd.read_csv(survey_path+'/resnet-features-df.csv')\n",
    "resnet_feat.set_index('photo_no', inplace=True)\n",
    "for c in ['resnet_feat_avg_'+str(i) for i in range(2048)]:\n",
    "    feature_df[c]=resnet_feat[c]"
   ]
  },
  {
   "cell_type": "code",
   "execution_count": 232,
   "metadata": {
    "collapsed": false
   },
   "outputs": [],
   "source": [
    "'''Include facial expression'''\n",
    "expressions = ['angry', 'disgusted', 'fearful', 'happy', 'sad', 'surprised', 'neutral']\n",
    "#exp_dict = pickle.load(open(survey_path+'facial-expressions.pkl','rb'))\n",
    "exp_df = pd.read_csv(survey_path+'/face-exp-feature.csv')#pd.DataFrame.from_dict(exp_dict).T\n",
    "exp_df.set_index('photo_no', inplace=True)\n",
    "exp_df[exp_df < 0] = 0\n",
    "\n",
    "for e in expressions:\n",
    "    feature_df[e] = exp_df[e]"
   ]
  },
  {
   "cell_type": "code",
   "execution_count": 233,
   "metadata": {
    "collapsed": false
   },
   "outputs": [
    {
     "data": {
      "text/plain": [
       "(784, 2101)"
      ]
     },
     "execution_count": 233,
     "metadata": {},
     "output_type": "execute_result"
    }
   ],
   "source": [
    "feature_df.shape"
   ]
  },
  {
   "cell_type": "code",
   "execution_count": null,
   "metadata": {
    "collapsed": false
   },
   "outputs": [],
   "source": []
  },
  {
   "cell_type": "code",
   "execution_count": 234,
   "metadata": {
    "collapsed": false
   },
   "outputs": [
    {
     "name": "stdout",
     "output_type": "stream",
     "text": [
      "Before: 784 Now: 736\n",
      "Any null:  False\n",
      "\n",
      "\n",
      "Pos:409(55.57%)\n",
      "Neg:327(44.43%)\n"
     ]
    },
    {
     "name": "stderr",
     "output_type": "stream",
     "text": [
      "/l/anaconda3-4.3.0/lib/python3.6/site-packages/ipykernel/__main__.py:6: SettingWithCopyWarning: \n",
      "A value is trying to be set on a copy of a slice from a DataFrame.\n",
      "Try using .loc[row_indexer,col_indexer] = value instead\n",
      "\n",
      "See the caveats in the documentation: http://pandas.pydata.org/pandas-docs/stable/indexing.html#indexing-view-versus-copy\n"
     ]
    }
   ],
   "source": [
    "'''Remove neither label'''\n",
    "binary_feature_df = feature_df[(feature_df.label==1)|(feature_df.label==-1)]\n",
    "print('Before:',len(feature_df),'Now:',len(binary_feature_df))\n",
    "\n",
    "print(\"Any null: \",binary_feature_df.isnull().values.any())\n",
    "binary_feature_df['label']=binary_feature_df.apply(lambda row: 1 if row.label==1 else 0, axis=1)\n",
    "\n",
    "'''Check data distribution'''\n",
    "\n",
    "print('\\n\\nPos:{}({:.2f}%)\\nNeg:{}({:.2f}%)'.format(\n",
    "    len(binary_feature_df[binary_feature_df.label==1]), len(binary_feature_df[binary_feature_df.label==1])*100/len(binary_feature_df),\n",
    "     len(binary_feature_df[binary_feature_df.label==0]), len(binary_feature_df[binary_feature_df.label==0])*100/len(binary_feature_df)))\n",
    "\n",
    "'''Save features'''\n",
    "binary_feature_df.to_pickle(os.path.join(survey_path, 'all-features-df.pkl'))\n",
    "binary_feature_df.to_csv(os.path.join(survey_path, 'all-features-df.csv'))"
   ]
  },
  {
   "cell_type": "markdown",
   "metadata": {},
   "source": [
    "### Inter-rater agreement among themselves"
   ]
  },
  {
   "cell_type": "code",
   "execution_count": 20,
   "metadata": {
    "collapsed": false
   },
   "outputs": [],
   "source": [
    "# labeled_photo_df = photo_df.loc[feature_df.index]\n",
    "# print(len(labeled_photo_df.index),len(set(labeled_photo_df.index)), len(feature_df))\n",
    "# labeled_photo_df=labeled_photo_df[~np.isnan(labeled_photo_df.subject_bystander_num)]\n",
    "# print(len(labeled_photo_df.index),len(set(labeled_photo_df.index)), len(feature_df))\n",
    "# labeled_photo_df"
   ]
  },
  {
   "cell_type": "code",
   "execution_count": 22,
   "metadata": {
    "collapsed": false,
    "scrolled": true
   },
   "outputs": [],
   "source": [
    "# alphas=[]\n",
    "# kappas=[]\n",
    "# for i in range(100):\n",
    "#     '''Create matrix'''\n",
    "#     #print(i)\n",
    "#     idx = range(i*50, (i+1)*50)\n",
    "#     df=labeled_photo_df.loc[list(idx)][['label','photo_no']].dropna()#.groupby('photo_no').count()\n",
    "#     print(i*50,(i+1)*50,df.shape)\n",
    "#     mat = []\n",
    "#     for p in set(df.index):\n",
    "#         labels = list(df.loc[p].label)\n",
    "#         d=dict()\n",
    "#         for c in range(len(labels)):\n",
    "#             d['coder'+str(c)]=labels[c]\n",
    "#         mat.append(d)\n",
    "#     #'''Calculate agreement'''\n",
    "#     code_df = pd.DataFrame(mat).T\n",
    "#     alphas.append(krippendorff.alpha(code_df))\n",
    "#     #cohen_kappa_score(labeler1, labeler2)"
   ]
  },
  {
   "cell_type": "markdown",
   "metadata": {},
   "source": [
    "### Inter-rater agreement with the final label"
   ]
  },
  {
   "cell_type": "code",
   "execution_count": 153,
   "metadata": {
    "collapsed": false
   },
   "outputs": [
    {
     "name": "stdout",
     "output_type": "stream",
     "text": [
      "84.67862266857962\n"
     ]
    },
    {
     "data": {
      "text/plain": [
       "(agreement\n",
       " 66     197\n",
       " 100    419\n",
       " dtype: int64,)"
      ]
     },
     "execution_count": 153,
     "metadata": {},
     "output_type": "execute_result"
    }
   ],
   "source": [
    "'''Check how much agreement there is among the raters'''\n",
    "def agreement_perc(photo_no,label):\n",
    "    rates = photo_df.loc[photo_no]\n",
    "#     if  isinstance(rates, pd.core.series.Series):\n",
    "#         return 0\n",
    "    same_rate = rates[rates.subject_bystander_num*label>0]\n",
    "    #print(len(same_rate),len(rates))\n",
    "    return int(100*len(same_rate)/len(rates))\n",
    "    \n",
    "agreement_df = pd.DataFrame()\n",
    "agreement_df['label']=feature_df[feature_df.label != 0].label\n",
    "agreement_df['agreement'] = agreement_df.apply(lambda row: agreement_perc(row.name, row.label), axis=1)\n",
    "#agreement_df['disagreement'] = agreement_df.apply(lambda row: agreement_perc(row.name, 1-row.label), axis=1)\n",
    "\n",
    "pickle.dump(list(agreement_df[(agreement_df.agreement<=65)].index),open(survey_path+'low-agreement.pkl','wb'))\n",
    "pickle.dump(list(agreement_df[(agreement_df.agreement>65)&(agreement_df.agreement<67)].index),open(survey_path+'agreement23.pkl','wb'))\n",
    "pickle.dump(list(agreement_df[(agreement_df.agreement>=100)].index),open(survey_path+'agreement100.pkl','wb'))\n",
    "\n",
    "count = agreement_df.groupby(['agreement']).size()\n",
    "print(np.mean(agreement_df.agreement))\n",
    "count[count>100],"
   ]
  },
  {
   "cell_type": "code",
   "execution_count": 146,
   "metadata": {
    "collapsed": false
   },
   "outputs": [
    {
     "name": "stdout",
     "output_type": "stream",
     "text": [
      "118\n"
     ]
    },
    {
     "data": {
      "text/plain": [
       "[834,\n",
       " 121,\n",
       " 122,\n",
       " 123,\n",
       " 131,\n",
       " 650,\n",
       " 139,\n",
       " 651,\n",
       " 652,\n",
       " 655,\n",
       " 656,\n",
       " 660,\n",
       " 661,\n",
       " 663,\n",
       " 664,\n",
       " 665,\n",
       " 666,\n",
       " 667,\n",
       " 671,\n",
       " 673,\n",
       " 674,\n",
       " 675,\n",
       " 677,\n",
       " 684,\n",
       " 686,\n",
       " 690,\n",
       " 691,\n",
       " 696,\n",
       " 697,\n",
       " 705,\n",
       " 710,\n",
       " 716,\n",
       " 207,\n",
       " 209,\n",
       " 210,\n",
       " 723,\n",
       " 214,\n",
       " 215,\n",
       " 729,\n",
       " 218,\n",
       " 219,\n",
       " 732,\n",
       " 224,\n",
       " 227,\n",
       " 228,\n",
       " 739,\n",
       " 234,\n",
       " 235,\n",
       " 236,\n",
       " 241,\n",
       " 243,\n",
       " 245,\n",
       " 247,\n",
       " 249,\n",
       " 802,\n",
       " 803,\n",
       " 805,\n",
       " 807,\n",
       " 306,\n",
       " 818,\n",
       " 308,\n",
       " 819,\n",
       " 310,\n",
       " 311,\n",
       " 312,\n",
       " 313,\n",
       " 827,\n",
       " 316,\n",
       " 317,\n",
       " 318,\n",
       " 832,\n",
       " 321,\n",
       " 322,\n",
       " 323,\n",
       " 324,\n",
       " 325,\n",
       " 326,\n",
       " 327,\n",
       " 838,\n",
       " 833,\n",
       " 330,\n",
       " 331,\n",
       " 332,\n",
       " 333,\n",
       " 844,\n",
       " 335,\n",
       " 845,\n",
       " 337,\n",
       " 851,\n",
       " 341,\n",
       " 854,\n",
       " 856,\n",
       " 345,\n",
       " 346,\n",
       " 347,\n",
       " 864,\n",
       " 865,\n",
       " 869,\n",
       " 874,\n",
       " 881,\n",
       " 882,\n",
       " 400,\n",
       " 404,\n",
       " 406,\n",
       " 407,\n",
       " 410,\n",
       " 412,\n",
       " 413,\n",
       " 415,\n",
       " 423,\n",
       " 433,\n",
       " 440,\n",
       " 444,\n",
       " 445,\n",
       " 446,\n",
       " 505,\n",
       " 510,\n",
       " 511]"
      ]
     },
     "execution_count": 146,
     "metadata": {},
     "output_type": "execute_result"
    }
   ],
   "source": [
    "fourth=pd.read_pickle(os.path.join(survey_path, 'fourth_df.pkl'))\n",
    "fourth.index=fourth.index.astype(int)\n",
    "\n",
    "remaining=set(agreement_df[agreement_df.agreement==66].index).difference(set(fourth.index))\n",
    "print(len(remaining))\n",
    "list(remaining)"
   ]
  },
  {
   "cell_type": "code",
   "execution_count": 171,
   "metadata": {
    "collapsed": false
   },
   "outputs": [
    {
     "name": "stdout",
     "output_type": "stream",
     "text": [
      "170\n",
      "170 152\n"
     ]
    },
    {
     "name": "stderr",
     "output_type": "stream",
     "text": [
      "/l/anaconda3-4.3.0/lib/python3.6/site-packages/ipykernel/__main__.py:9: SettingWithCopyWarning: \n",
      "A value is trying to be set on a copy of a slice from a DataFrame.\n",
      "Try using .loc[row_indexer,col_indexer] = value instead\n",
      "\n",
      "See the caveats in the documentation: http://pandas.pydata.org/pandas-docs/stable/indexing.html#indexing-view-versus-copy\n",
      "/l/anaconda3-4.3.0/lib/python3.6/site-packages/ipykernel/__main__.py:10: SettingWithCopyWarning: \n",
      "A value is trying to be set on a copy of a slice from a DataFrame.\n",
      "Try using .loc[row_indexer,col_indexer] = value instead\n",
      "\n",
      "See the caveats in the documentation: http://pandas.pydata.org/pandas-docs/stable/indexing.html#indexing-view-versus-copy\n",
      "/l/anaconda3-4.3.0/lib/python3.6/site-packages/ipykernel/__main__.py:11: SettingWithCopyWarning: \n",
      "A value is trying to be set on a copy of a slice from a DataFrame.\n",
      "Try using .loc[row_indexer,col_indexer] = value instead\n",
      "\n",
      "See the caveats in the documentation: http://pandas.pydata.org/pandas-docs/stable/indexing.html#indexing-view-versus-copy\n"
     ]
    },
    {
     "data": {
      "text/plain": [
       "0.6973684210526315"
      ]
     },
     "execution_count": 171,
     "metadata": {},
     "output_type": "execute_result"
    }
   ],
   "source": [
    "'''Compare with fourth rater for 67% agreement'''\n",
    "fourth=pd.read_pickle(os.path.join(survey_path, 'fourth_df.pkl'))\n",
    "fourth.index=fourth.index.astype(int)\n",
    "print(len(set(fourth.index).intersection(set(agreement_df[agreement_df.agreement==66].index))))\n",
    "fourth=fourth.loc[list(set(fourth.index).intersection(set(agreement_df[agreement_df.agreement==66].index)))]\n",
    "#fourth=fourth.loc[list(set(fourth.index).intersection(set(binary_feature_df.index)))]\n",
    "fourth_binary=fourth[fourth.subject_bystander_num!=0]\n",
    "print(len(fourth),len(fourth_binary))\n",
    "fourth_binary['label']=fourth_binary.subject_bystander_num.clip(0,1)\n",
    "fourth_binary['label2']=binary_feature_df.label\n",
    "fourth_binary['agreed']= fourth_binary.label==fourth_binary.label2\n",
    "#fourth_binary.apply(lambda row: \n",
    " #   True if int(row.label)==int(binary_feature_df.loc[int(row.name)].label) else False, axis=1)\n",
    "len(fourth_binary[fourth_binary.agreed])/len(fourth_binary)"
   ]
  },
  {
   "cell_type": "code",
   "execution_count": 159,
   "metadata": {
    "collapsed": false
   },
   "outputs": [
    {
     "data": {
      "text/html": [
       "<div>\n",
       "<table border=\"1\" class=\"dataframe\">\n",
       "  <thead>\n",
       "    <tr style=\"text-align: right;\">\n",
       "      <th></th>\n",
       "      <th>was_aware_num</th>\n",
       "      <th>posing_num</th>\n",
       "      <th>comfort_num</th>\n",
       "      <th>will_num</th>\n",
       "      <th>photographer_intention_num</th>\n",
       "      <th>replacable_num</th>\n",
       "      <th>photo_place_num</th>\n",
       "      <th>subject_bystander_num</th>\n",
       "      <th>label</th>\n",
       "      <th>person_size</th>\n",
       "      <th>num_people</th>\n",
       "    </tr>\n",
       "    <tr>\n",
       "      <th>photo_no</th>\n",
       "      <th></th>\n",
       "      <th></th>\n",
       "      <th></th>\n",
       "      <th></th>\n",
       "      <th></th>\n",
       "      <th></th>\n",
       "      <th></th>\n",
       "      <th></th>\n",
       "      <th></th>\n",
       "      <th></th>\n",
       "      <th></th>\n",
       "    </tr>\n",
       "  </thead>\n",
       "  <tbody>\n",
       "    <tr>\n",
       "      <th>0</th>\n",
       "      <td>-1.000000</td>\n",
       "      <td>-0.666667</td>\n",
       "      <td>0.666667</td>\n",
       "      <td>0.000000</td>\n",
       "      <td>1.000000</td>\n",
       "      <td>2.666667</td>\n",
       "      <td>-1.000000</td>\n",
       "      <td>-0.666667</td>\n",
       "      <td>0</td>\n",
       "      <td>0.004914</td>\n",
       "      <td>0</td>\n",
       "    </tr>\n",
       "    <tr>\n",
       "      <th>1</th>\n",
       "      <td>2.666667</td>\n",
       "      <td>2.000000</td>\n",
       "      <td>1.666667</td>\n",
       "      <td>1.333333</td>\n",
       "      <td>2.333333</td>\n",
       "      <td>-0.333333</td>\n",
       "      <td>2.000000</td>\n",
       "      <td>0.666667</td>\n",
       "      <td>1</td>\n",
       "      <td>0.564679</td>\n",
       "      <td>1</td>\n",
       "    </tr>\n",
       "    <tr>\n",
       "      <th>2</th>\n",
       "      <td>2.333333</td>\n",
       "      <td>2.333333</td>\n",
       "      <td>2.333333</td>\n",
       "      <td>1.666667</td>\n",
       "      <td>2.333333</td>\n",
       "      <td>0.000000</td>\n",
       "      <td>-0.666667</td>\n",
       "      <td>1.000000</td>\n",
       "      <td>1</td>\n",
       "      <td>0.083390</td>\n",
       "      <td>1</td>\n",
       "    </tr>\n",
       "    <tr>\n",
       "      <th>4</th>\n",
       "      <td>-0.500000</td>\n",
       "      <td>0.000000</td>\n",
       "      <td>0.000000</td>\n",
       "      <td>0.500000</td>\n",
       "      <td>-1.500000</td>\n",
       "      <td>2.500000</td>\n",
       "      <td>0.000000</td>\n",
       "      <td>-2.000000</td>\n",
       "      <td>0</td>\n",
       "      <td>0.004002</td>\n",
       "      <td>1</td>\n",
       "    </tr>\n",
       "    <tr>\n",
       "      <th>6</th>\n",
       "      <td>0.000000</td>\n",
       "      <td>-1.000000</td>\n",
       "      <td>0.500000</td>\n",
       "      <td>1.000000</td>\n",
       "      <td>0.500000</td>\n",
       "      <td>0.500000</td>\n",
       "      <td>-0.500000</td>\n",
       "      <td>-0.500000</td>\n",
       "      <td>0</td>\n",
       "      <td>0.069712</td>\n",
       "      <td>1</td>\n",
       "    </tr>\n",
       "  </tbody>\n",
       "</table>\n",
       "</div>"
      ],
      "text/plain": [
       "          was_aware_num  posing_num  comfort_num  will_num  \\\n",
       "photo_no                                                     \n",
       "0             -1.000000   -0.666667     0.666667  0.000000   \n",
       "1              2.666667    2.000000     1.666667  1.333333   \n",
       "2              2.333333    2.333333     2.333333  1.666667   \n",
       "4             -0.500000    0.000000     0.000000  0.500000   \n",
       "6              0.000000   -1.000000     0.500000  1.000000   \n",
       "\n",
       "          photographer_intention_num  replacable_num  photo_place_num  \\\n",
       "photo_no                                                                \n",
       "0                           1.000000        2.666667        -1.000000   \n",
       "1                           2.333333       -0.333333         2.000000   \n",
       "2                           2.333333        0.000000        -0.666667   \n",
       "4                          -1.500000        2.500000         0.000000   \n",
       "6                           0.500000        0.500000        -0.500000   \n",
       "\n",
       "          subject_bystander_num  label  person_size  num_people  \n",
       "photo_no                                                         \n",
       "0                     -0.666667      0     0.004914           0  \n",
       "1                      0.666667      1     0.564679           1  \n",
       "2                      1.000000      1     0.083390           1  \n",
       "4                     -2.000000      0     0.004002           1  \n",
       "6                     -0.500000      0     0.069712           1  "
      ]
     },
     "execution_count": 159,
     "metadata": {},
     "output_type": "execute_result"
    }
   ],
   "source": [
    "\n",
    "binary_feature_df.head()#.loc[[0,1,2]]"
   ]
  },
  {
   "cell_type": "code",
   "execution_count": 60,
   "metadata": {
    "collapsed": false
   },
   "outputs": [
    {
     "ename": "NameError",
     "evalue": "name 'binary_feature_df' is not defined",
     "output_type": "error",
     "traceback": [
      "\u001b[0;31m---------------------------------------------------------------------------\u001b[0m",
      "\u001b[0;31mNameError\u001b[0m                                 Traceback (most recent call last)",
      "\u001b[0;32m<ipython-input-60-a9a7313ba575>\u001b[0m in \u001b[0;36m<module>\u001b[0;34m()\u001b[0m\n\u001b[1;32m      1\u001b[0m \u001b[0;34m'''Correlation between size and subject'''\u001b[0m\u001b[0;34m\u001b[0m\u001b[0m\n\u001b[0;32m----> 2\u001b[0;31m \u001b[0mset\u001b[0m\u001b[0;34m(\u001b[0m\u001b[0mbinary_feature_df\u001b[0m\u001b[0;34m.\u001b[0m\u001b[0mlabel\u001b[0m\u001b[0;34m)\u001b[0m\u001b[0;34m\u001b[0m\u001b[0m\n\u001b[0m\u001b[1;32m      3\u001b[0m \u001b[0mstats\u001b[0m\u001b[0;34m.\u001b[0m\u001b[0mspearmanr\u001b[0m\u001b[0;34m(\u001b[0m\u001b[0mbinary_feature_df\u001b[0m\u001b[0;34m.\u001b[0m\u001b[0mnum_people\u001b[0m\u001b[0;34m,\u001b[0m \u001b[0mbinary_feature_df\u001b[0m\u001b[0;34m.\u001b[0m\u001b[0mlabel\u001b[0m\u001b[0;34m)\u001b[0m\u001b[0;34m\u001b[0m\u001b[0m\n",
      "\u001b[0;31mNameError\u001b[0m: name 'binary_feature_df' is not defined"
     ]
    }
   ],
   "source": [
    "'''Correlation between size and subject'''\n",
    "set(binary_feature_df.label)\n",
    "stats.spearmanr(binary_feature_df.num_people, binary_feature_df.label)"
   ]
  },
  {
   "cell_type": "code",
   "execution_count": null,
   "metadata": {
    "collapsed": false
   },
   "outputs": [],
   "source": [
    "binary_feature_df.groupby(['num_people', 'label']).label.count()"
   ]
  },
  {
   "cell_type": "code",
   "execution_count": null,
   "metadata": {
    "collapsed": false,
    "scrolled": false
   },
   "outputs": [],
   "source": [
    "# for c in high_level_concepts_num:\n",
    "#     print(c)\n",
    "#     sns.distplot(feature_df[c])\n",
    "#     plt.show()"
   ]
  },
  {
   "cell_type": "code",
   "execution_count": null,
   "metadata": {
    "collapsed": false
   },
   "outputs": [],
   "source": [
    "sns.distplot(feature_df.photo_place_num)"
   ]
  },
  {
   "cell_type": "code",
   "execution_count": null,
   "metadata": {
    "collapsed": false
   },
   "outputs": [],
   "source": [
    "len(feature_df[feature_df.photo_place_num<0])/len(feature_df)"
   ]
  },
  {
   "cell_type": "code",
   "execution_count": null,
   "metadata": {
    "collapsed": false
   },
   "outputs": [],
   "source": [
    "len(feature_df[feature_df.photo_place_num>0])/len(feature_df)"
   ]
  },
  {
   "cell_type": "code",
   "execution_count": null,
   "metadata": {
    "collapsed": false
   },
   "outputs": [],
   "source": [
    "public_place=feature_df[feature_df.photo_place_num>0]#\n",
    "private_place=feature_df[feature_df.photo_place_num<0]\n",
    "len(public_place[public_place.subject_bystander_num>0])/len(public_place),len(private_place[private_place.subject_bystander_num>0])/len(private_place)"
   ]
  },
  {
   "cell_type": "code",
   "execution_count": 12,
   "metadata": {
    "collapsed": false
   },
   "outputs": [
    {
     "data": {
      "text/html": [
       "<div>\n",
       "<table border=\"1\" class=\"dataframe\">\n",
       "  <thead>\n",
       "    <tr style=\"text-align: right;\">\n",
       "      <th></th>\n",
       "      <th>photographer_intention</th>\n",
       "      <th>photographer_intention_num</th>\n",
       "    </tr>\n",
       "    <tr>\n",
       "      <th>photo_no</th>\n",
       "      <th></th>\n",
       "      <th></th>\n",
       "    </tr>\n",
       "  </thead>\n",
       "  <tbody>\n",
       "    <tr>\n",
       "      <th>235</th>\n",
       "      <td>Agree</td>\n",
       "      <td>2.0</td>\n",
       "    </tr>\n",
       "    <tr>\n",
       "      <th>238</th>\n",
       "      <td>Strongly agree</td>\n",
       "      <td>3.0</td>\n",
       "    </tr>\n",
       "    <tr>\n",
       "      <th>233</th>\n",
       "      <td>Strongly agree</td>\n",
       "      <td>3.0</td>\n",
       "    </tr>\n",
       "    <tr>\n",
       "      <th>214</th>\n",
       "      <td>Strongly disagree</td>\n",
       "      <td>-3.0</td>\n",
       "    </tr>\n",
       "    <tr>\n",
       "      <th>213</th>\n",
       "      <td>Strongly disagree</td>\n",
       "      <td>-3.0</td>\n",
       "    </tr>\n",
       "    <tr>\n",
       "      <th>234</th>\n",
       "      <td>Strongly disagree</td>\n",
       "      <td>-3.0</td>\n",
       "    </tr>\n",
       "    <tr>\n",
       "      <th>217</th>\n",
       "      <td>Neither agree nor disagree</td>\n",
       "      <td>0.0</td>\n",
       "    </tr>\n",
       "    <tr>\n",
       "      <th>239</th>\n",
       "      <td>Strongly disagree</td>\n",
       "      <td>-3.0</td>\n",
       "    </tr>\n",
       "    <tr>\n",
       "      <th>231</th>\n",
       "      <td>Strongly agree</td>\n",
       "      <td>3.0</td>\n",
       "    </tr>\n",
       "    <tr>\n",
       "      <th>212</th>\n",
       "      <td>Somewhat agree</td>\n",
       "      <td>1.0</td>\n",
       "    </tr>\n",
       "    <tr>\n",
       "      <th>243</th>\n",
       "      <td>Strongly agree</td>\n",
       "      <td>3.0</td>\n",
       "    </tr>\n",
       "    <tr>\n",
       "      <th>215</th>\n",
       "      <td>Strongly agree</td>\n",
       "      <td>3.0</td>\n",
       "    </tr>\n",
       "    <tr>\n",
       "      <th>223</th>\n",
       "      <td>Strongly agree</td>\n",
       "      <td>3.0</td>\n",
       "    </tr>\n",
       "    <tr>\n",
       "      <th>206</th>\n",
       "      <td>Agree</td>\n",
       "      <td>2.0</td>\n",
       "    </tr>\n",
       "    <tr>\n",
       "      <th>225</th>\n",
       "      <td>Strongly agree</td>\n",
       "      <td>3.0</td>\n",
       "    </tr>\n",
       "    <tr>\n",
       "      <th>236</th>\n",
       "      <td>Strongly agree</td>\n",
       "      <td>3.0</td>\n",
       "    </tr>\n",
       "    <tr>\n",
       "      <th>219</th>\n",
       "      <td>Strongly disagree</td>\n",
       "      <td>-3.0</td>\n",
       "    </tr>\n",
       "    <tr>\n",
       "      <th>220</th>\n",
       "      <td>Strongly agree</td>\n",
       "      <td>3.0</td>\n",
       "    </tr>\n",
       "    <tr>\n",
       "      <th>218</th>\n",
       "      <td>Strongly agree</td>\n",
       "      <td>3.0</td>\n",
       "    </tr>\n",
       "    <tr>\n",
       "      <th>228</th>\n",
       "      <td>Strongly disagree</td>\n",
       "      <td>-3.0</td>\n",
       "    </tr>\n",
       "    <tr>\n",
       "      <th>242</th>\n",
       "      <td>Disagree</td>\n",
       "      <td>-2.0</td>\n",
       "    </tr>\n",
       "    <tr>\n",
       "      <th>237</th>\n",
       "      <td>Strongly agree</td>\n",
       "      <td>3.0</td>\n",
       "    </tr>\n",
       "    <tr>\n",
       "      <th>208</th>\n",
       "      <td>Neither agree nor disagree</td>\n",
       "      <td>0.0</td>\n",
       "    </tr>\n",
       "    <tr>\n",
       "      <th>227</th>\n",
       "      <td>Strongly disagree</td>\n",
       "      <td>-3.0</td>\n",
       "    </tr>\n",
       "    <tr>\n",
       "      <th>210</th>\n",
       "      <td>Strongly disagree</td>\n",
       "      <td>-3.0</td>\n",
       "    </tr>\n",
       "    <tr>\n",
       "      <th>232</th>\n",
       "      <td>Strongly agree</td>\n",
       "      <td>3.0</td>\n",
       "    </tr>\n",
       "    <tr>\n",
       "      <th>230</th>\n",
       "      <td>Strongly agree</td>\n",
       "      <td>3.0</td>\n",
       "    </tr>\n",
       "    <tr>\n",
       "      <th>241</th>\n",
       "      <td>Strongly agree</td>\n",
       "      <td>3.0</td>\n",
       "    </tr>\n",
       "    <tr>\n",
       "      <th>240</th>\n",
       "      <td>Strongly agree</td>\n",
       "      <td>3.0</td>\n",
       "    </tr>\n",
       "    <tr>\n",
       "      <th>200</th>\n",
       "      <td>Strongly agree</td>\n",
       "      <td>3.0</td>\n",
       "    </tr>\n",
       "    <tr>\n",
       "      <th>...</th>\n",
       "      <td>...</td>\n",
       "      <td>...</td>\n",
       "    </tr>\n",
       "    <tr>\n",
       "      <th>837</th>\n",
       "      <td>Disagree</td>\n",
       "      <td>-2.0</td>\n",
       "    </tr>\n",
       "    <tr>\n",
       "      <th>823</th>\n",
       "      <td>Strongly disagree</td>\n",
       "      <td>-3.0</td>\n",
       "    </tr>\n",
       "    <tr>\n",
       "      <th>845</th>\n",
       "      <td>Strongly agree</td>\n",
       "      <td>3.0</td>\n",
       "    </tr>\n",
       "    <tr>\n",
       "      <th>802</th>\n",
       "      <td>Strongly agree</td>\n",
       "      <td>3.0</td>\n",
       "    </tr>\n",
       "    <tr>\n",
       "      <th>808</th>\n",
       "      <td>Strongly agree</td>\n",
       "      <td>3.0</td>\n",
       "    </tr>\n",
       "    <tr>\n",
       "      <th>829</th>\n",
       "      <td>Strongly disagree</td>\n",
       "      <td>-3.0</td>\n",
       "    </tr>\n",
       "    <tr>\n",
       "      <th>832</th>\n",
       "      <td>Strongly agree</td>\n",
       "      <td>3.0</td>\n",
       "    </tr>\n",
       "    <tr>\n",
       "      <th>833</th>\n",
       "      <td>Strongly agree</td>\n",
       "      <td>3.0</td>\n",
       "    </tr>\n",
       "    <tr>\n",
       "      <th>834</th>\n",
       "      <td>Strongly agree</td>\n",
       "      <td>3.0</td>\n",
       "    </tr>\n",
       "    <tr>\n",
       "      <th>830</th>\n",
       "      <td>Strongly agree</td>\n",
       "      <td>3.0</td>\n",
       "    </tr>\n",
       "    <tr>\n",
       "      <th>824</th>\n",
       "      <td>Somewhat agree</td>\n",
       "      <td>1.0</td>\n",
       "    </tr>\n",
       "    <tr>\n",
       "      <th>838</th>\n",
       "      <td>Somewhat agree</td>\n",
       "      <td>1.0</td>\n",
       "    </tr>\n",
       "    <tr>\n",
       "      <th>844</th>\n",
       "      <td>Strongly agree</td>\n",
       "      <td>3.0</td>\n",
       "    </tr>\n",
       "    <tr>\n",
       "      <th>810</th>\n",
       "      <td>Strongly agree</td>\n",
       "      <td>3.0</td>\n",
       "    </tr>\n",
       "    <tr>\n",
       "      <th>818</th>\n",
       "      <td>Strongly agree</td>\n",
       "      <td>3.0</td>\n",
       "    </tr>\n",
       "    <tr>\n",
       "      <th>817</th>\n",
       "      <td>Strongly agree</td>\n",
       "      <td>3.0</td>\n",
       "    </tr>\n",
       "    <tr>\n",
       "      <th>815</th>\n",
       "      <td>Strongly agree</td>\n",
       "      <td>3.0</td>\n",
       "    </tr>\n",
       "    <tr>\n",
       "      <th>841</th>\n",
       "      <td>Strongly agree</td>\n",
       "      <td>3.0</td>\n",
       "    </tr>\n",
       "    <tr>\n",
       "      <th>835</th>\n",
       "      <td>Somewhat agree</td>\n",
       "      <td>1.0</td>\n",
       "    </tr>\n",
       "    <tr>\n",
       "      <th>849</th>\n",
       "      <td>Strongly agree</td>\n",
       "      <td>3.0</td>\n",
       "    </tr>\n",
       "    <tr>\n",
       "      <th>820</th>\n",
       "      <td>Strongly agree</td>\n",
       "      <td>3.0</td>\n",
       "    </tr>\n",
       "    <tr>\n",
       "      <th>819</th>\n",
       "      <td>Somewhat disagree</td>\n",
       "      <td>-1.0</td>\n",
       "    </tr>\n",
       "    <tr>\n",
       "      <th>813</th>\n",
       "      <td>Disagree</td>\n",
       "      <td>-2.0</td>\n",
       "    </tr>\n",
       "    <tr>\n",
       "      <th>826</th>\n",
       "      <td>Strongly agree</td>\n",
       "      <td>3.0</td>\n",
       "    </tr>\n",
       "    <tr>\n",
       "      <th>825</th>\n",
       "      <td>Strongly agree</td>\n",
       "      <td>3.0</td>\n",
       "    </tr>\n",
       "    <tr>\n",
       "      <th>807</th>\n",
       "      <td>Strongly agree</td>\n",
       "      <td>3.0</td>\n",
       "    </tr>\n",
       "    <tr>\n",
       "      <th>827</th>\n",
       "      <td>Strongly agree</td>\n",
       "      <td>3.0</td>\n",
       "    </tr>\n",
       "    <tr>\n",
       "      <th>803</th>\n",
       "      <td>Strongly agree</td>\n",
       "      <td>3.0</td>\n",
       "    </tr>\n",
       "    <tr>\n",
       "      <th>805</th>\n",
       "      <td>Disagree</td>\n",
       "      <td>-2.0</td>\n",
       "    </tr>\n",
       "    <tr>\n",
       "      <th>811</th>\n",
       "      <td>Somewhat disagree</td>\n",
       "      <td>-1.0</td>\n",
       "    </tr>\n",
       "  </tbody>\n",
       "</table>\n",
       "<p>2306 rows × 2 columns</p>\n",
       "</div>"
      ],
      "text/plain": [
       "              photographer_intention  photographer_intention_num\n",
       "photo_no                                                        \n",
       "235                            Agree                         2.0\n",
       "238                   Strongly agree                         3.0\n",
       "233                   Strongly agree                         3.0\n",
       "214                Strongly disagree                        -3.0\n",
       "213                Strongly disagree                        -3.0\n",
       "234                Strongly disagree                        -3.0\n",
       "217       Neither agree nor disagree                         0.0\n",
       "239                Strongly disagree                        -3.0\n",
       "231                   Strongly agree                         3.0\n",
       "212                   Somewhat agree                         1.0\n",
       "243                   Strongly agree                         3.0\n",
       "215                   Strongly agree                         3.0\n",
       "223                   Strongly agree                         3.0\n",
       "206                            Agree                         2.0\n",
       "225                   Strongly agree                         3.0\n",
       "236                   Strongly agree                         3.0\n",
       "219                Strongly disagree                        -3.0\n",
       "220                   Strongly agree                         3.0\n",
       "218                   Strongly agree                         3.0\n",
       "228                Strongly disagree                        -3.0\n",
       "242                         Disagree                        -2.0\n",
       "237                   Strongly agree                         3.0\n",
       "208       Neither agree nor disagree                         0.0\n",
       "227                Strongly disagree                        -3.0\n",
       "210                Strongly disagree                        -3.0\n",
       "232                   Strongly agree                         3.0\n",
       "230                   Strongly agree                         3.0\n",
       "241                   Strongly agree                         3.0\n",
       "240                   Strongly agree                         3.0\n",
       "200                   Strongly agree                         3.0\n",
       "...                              ...                         ...\n",
       "837                         Disagree                        -2.0\n",
       "823                Strongly disagree                        -3.0\n",
       "845                   Strongly agree                         3.0\n",
       "802                   Strongly agree                         3.0\n",
       "808                   Strongly agree                         3.0\n",
       "829                Strongly disagree                        -3.0\n",
       "832                   Strongly agree                         3.0\n",
       "833                   Strongly agree                         3.0\n",
       "834                   Strongly agree                         3.0\n",
       "830                   Strongly agree                         3.0\n",
       "824                   Somewhat agree                         1.0\n",
       "838                   Somewhat agree                         1.0\n",
       "844                   Strongly agree                         3.0\n",
       "810                   Strongly agree                         3.0\n",
       "818                   Strongly agree                         3.0\n",
       "817                   Strongly agree                         3.0\n",
       "815                   Strongly agree                         3.0\n",
       "841                   Strongly agree                         3.0\n",
       "835                   Somewhat agree                         1.0\n",
       "849                   Strongly agree                         3.0\n",
       "820                   Strongly agree                         3.0\n",
       "819                Somewhat disagree                        -1.0\n",
       "813                         Disagree                        -2.0\n",
       "826                   Strongly agree                         3.0\n",
       "825                   Strongly agree                         3.0\n",
       "807                   Strongly agree                         3.0\n",
       "827                   Strongly agree                         3.0\n",
       "803                   Strongly agree                         3.0\n",
       "805                         Disagree                        -2.0\n",
       "811                Somewhat disagree                        -1.0\n",
       "\n",
       "[2306 rows x 2 columns]"
      ]
     },
     "execution_count": 12,
     "metadata": {},
     "output_type": "execute_result"
    }
   ],
   "source": [
    "photo_df[['photographer_intention','photographer_intention_num']]"
   ]
  },
  {
   "cell_type": "code",
   "execution_count": 24,
   "metadata": {
    "collapsed": false
   },
   "outputs": [
    {
     "data": {
      "text/html": [
       "<div>\n",
       "<table border=\"1\" class=\"dataframe\">\n",
       "  <thead>\n",
       "    <tr style=\"text-align: right;\">\n",
       "      <th></th>\n",
       "      <th>photographer_intention_num</th>\n",
       "      <th>label</th>\n",
       "    </tr>\n",
       "  </thead>\n",
       "  <tbody>\n",
       "    <tr>\n",
       "      <th>photographer_intention_num</th>\n",
       "      <td>1.000000</td>\n",
       "      <td>-0.286463</td>\n",
       "    </tr>\n",
       "    <tr>\n",
       "      <th>label</th>\n",
       "      <td>-0.286463</td>\n",
       "      <td>1.000000</td>\n",
       "    </tr>\n",
       "  </tbody>\n",
       "</table>\n",
       "</div>"
      ],
      "text/plain": [
       "                            photographer_intention_num     label\n",
       "photographer_intention_num                    1.000000 -0.286463\n",
       "label                                        -0.286463  1.000000"
      ]
     },
     "execution_count": 24,
     "metadata": {},
     "output_type": "execute_result"
    }
   ],
   "source": [
    "feature_df[['photographer_intention_num','label']].corr()"
   ]
  },
  {
   "cell_type": "code",
   "execution_count": null,
   "metadata": {
    "collapsed": true
   },
   "outputs": [],
   "source": [
    "photo_df[photo_df.subject_bystander_num*photo_df.photographer_intention_num<0][['photographer_intention','photographer_intention_num','subject_bystander_num']].head(20).dropna()"
   ]
  },
  {
   "cell_type": "code",
   "execution_count": 53,
   "metadata": {
    "collapsed": false,
    "scrolled": false
   },
   "outputs": [
    {
     "name": "stderr",
     "output_type": "stream",
     "text": [
      "/l/anaconda3-4.3.0/lib/python3.6/site-packages/ipykernel/__main__.py:2: SettingWithCopyWarning: \n",
      "A value is trying to be set on a copy of a slice from a DataFrame.\n",
      "Try using .loc[row_indexer,col_indexer] = value instead\n",
      "\n",
      "See the caveats in the documentation: http://pandas.pydata.org/pandas-docs/stable/indexing.html#indexing-view-versus-copy\n",
      "  from ipykernel import kernelapp as app\n"
     ]
    },
    {
     "data": {
      "text/html": [
       "<div>\n",
       "<table border=\"1\" class=\"dataframe\">\n",
       "  <thead>\n",
       "    <tr style=\"text-align: right;\">\n",
       "      <th></th>\n",
       "      <th>photographer_intention_num</th>\n",
       "      <th>label</th>\n",
       "    </tr>\n",
       "    <tr>\n",
       "      <th>photo_no</th>\n",
       "      <th></th>\n",
       "      <th></th>\n",
       "    </tr>\n",
       "  </thead>\n",
       "  <tbody>\n",
       "    <tr>\n",
       "      <th>11</th>\n",
       "      <td>0.500000</td>\n",
       "      <td>-1</td>\n",
       "    </tr>\n",
       "    <tr>\n",
       "      <th>13</th>\n",
       "      <td>1.750000</td>\n",
       "      <td>-1</td>\n",
       "    </tr>\n",
       "    <tr>\n",
       "      <th>14</th>\n",
       "      <td>2.000000</td>\n",
       "      <td>-1</td>\n",
       "    </tr>\n",
       "    <tr>\n",
       "      <th>22</th>\n",
       "      <td>0.750000</td>\n",
       "      <td>-1</td>\n",
       "    </tr>\n",
       "    <tr>\n",
       "      <th>27</th>\n",
       "      <td>0.750000</td>\n",
       "      <td>-1</td>\n",
       "    </tr>\n",
       "    <tr>\n",
       "      <th>28</th>\n",
       "      <td>1.500000</td>\n",
       "      <td>-1</td>\n",
       "    </tr>\n",
       "    <tr>\n",
       "      <th>30</th>\n",
       "      <td>0.500000</td>\n",
       "      <td>-1</td>\n",
       "    </tr>\n",
       "    <tr>\n",
       "      <th>43</th>\n",
       "      <td>1.250000</td>\n",
       "      <td>-1</td>\n",
       "    </tr>\n",
       "    <tr>\n",
       "      <th>45</th>\n",
       "      <td>2.000000</td>\n",
       "      <td>-1</td>\n",
       "    </tr>\n",
       "    <tr>\n",
       "      <th>49</th>\n",
       "      <td>1.750000</td>\n",
       "      <td>-1</td>\n",
       "    </tr>\n",
       "    <tr>\n",
       "      <th>51</th>\n",
       "      <td>0.666667</td>\n",
       "      <td>-1</td>\n",
       "    </tr>\n",
       "    <tr>\n",
       "      <th>53</th>\n",
       "      <td>0.000000</td>\n",
       "      <td>-1</td>\n",
       "    </tr>\n",
       "    <tr>\n",
       "      <th>55</th>\n",
       "      <td>1.666667</td>\n",
       "      <td>-1</td>\n",
       "    </tr>\n",
       "    <tr>\n",
       "      <th>58</th>\n",
       "      <td>0.666667</td>\n",
       "      <td>-1</td>\n",
       "    </tr>\n",
       "    <tr>\n",
       "      <th>61</th>\n",
       "      <td>0.000000</td>\n",
       "      <td>-1</td>\n",
       "    </tr>\n",
       "    <tr>\n",
       "      <th>63</th>\n",
       "      <td>0.333333</td>\n",
       "      <td>-1</td>\n",
       "    </tr>\n",
       "    <tr>\n",
       "      <th>66</th>\n",
       "      <td>0.666667</td>\n",
       "      <td>-1</td>\n",
       "    </tr>\n",
       "    <tr>\n",
       "      <th>68</th>\n",
       "      <td>0.000000</td>\n",
       "      <td>1</td>\n",
       "    </tr>\n",
       "    <tr>\n",
       "      <th>74</th>\n",
       "      <td>0.000000</td>\n",
       "      <td>-1</td>\n",
       "    </tr>\n",
       "    <tr>\n",
       "      <th>76</th>\n",
       "      <td>0.333333</td>\n",
       "      <td>-1</td>\n",
       "    </tr>\n",
       "  </tbody>\n",
       "</table>\n",
       "</div>"
      ],
      "text/plain": [
       "          photographer_intention_num  label\n",
       "photo_no                                   \n",
       "11                          0.500000     -1\n",
       "13                          1.750000     -1\n",
       "14                          2.000000     -1\n",
       "22                          0.750000     -1\n",
       "27                          0.750000     -1\n",
       "28                          1.500000     -1\n",
       "30                          0.500000     -1\n",
       "43                          1.250000     -1\n",
       "45                          2.000000     -1\n",
       "49                          1.750000     -1\n",
       "51                          0.666667     -1\n",
       "53                          0.000000     -1\n",
       "55                          1.666667     -1\n",
       "58                          0.666667     -1\n",
       "61                          0.000000     -1\n",
       "63                          0.333333     -1\n",
       "66                          0.666667     -1\n",
       "68                          0.000000      1\n",
       "74                          0.000000     -1\n",
       "76                          0.333333     -1"
      ]
     },
     "execution_count": 53,
     "metadata": {},
     "output_type": "execute_result"
    }
   ],
   "source": [
    "#binary_data['photographer_intention']=photo_df.photographer_intention\n",
    "binary_data['x']=binary_data.label*binary_data.photographer_intention_num>0\n",
    "binary_data[binary_data.x==False][['photographer_intention_num','label']].head(20)\n"
   ]
  },
  {
   "cell_type": "code",
   "execution_count": 36,
   "metadata": {
    "collapsed": false
   },
   "outputs": [
    {
     "data": {
      "text/plain": [
       "(1312, 2490)"
      ]
     },
     "execution_count": 36,
     "metadata": {},
     "output_type": "execute_result"
    }
   ],
   "source": [
    "len(binary_data[binary_data.x]),len(binary_data[binary_data.x==False])"
   ]
  },
  {
   "cell_type": "code",
   "execution_count": null,
   "metadata": {
    "collapsed": true
   },
   "outputs": [],
   "source": []
  },
  {
   "cell_type": "code",
   "execution_count": 26,
   "metadata": {
    "collapsed": false
   },
   "outputs": [
    {
     "data": {
      "text/html": [
       "<div>\n",
       "<table border=\"1\" class=\"dataframe\">\n",
       "  <thead>\n",
       "    <tr style=\"text-align: right;\">\n",
       "      <th></th>\n",
       "      <th>photographer_intention_num</th>\n",
       "      <th>label</th>\n",
       "    </tr>\n",
       "  </thead>\n",
       "  <tbody>\n",
       "    <tr>\n",
       "      <th>photographer_intention_num</th>\n",
       "      <td>1.000000</td>\n",
       "      <td>-0.290037</td>\n",
       "    </tr>\n",
       "    <tr>\n",
       "      <th>label</th>\n",
       "      <td>-0.290037</td>\n",
       "      <td>1.000000</td>\n",
       "    </tr>\n",
       "  </tbody>\n",
       "</table>\n",
       "</div>"
      ],
      "text/plain": [
       "                            photographer_intention_num     label\n",
       "photographer_intention_num                    1.000000 -0.290037\n",
       "label                                        -0.290037  1.000000"
      ]
     },
     "execution_count": 26,
     "metadata": {},
     "output_type": "execute_result"
    }
   ],
   "source": [
    "binary_data = feature_df[(feature_df.label==1) | (feature_df.label==-1)]\n",
    "binary_data[['photographer_intention_num','label']].corr()"
   ]
  },
  {
   "cell_type": "code",
   "execution_count": 27,
   "metadata": {
    "collapsed": false
   },
   "outputs": [
    {
     "data": {
      "text/plain": [
       "(3802, 9)"
      ]
     },
     "execution_count": 27,
     "metadata": {},
     "output_type": "execute_result"
    }
   ],
   "source": [
    "binary_data.shape\n"
   ]
  },
  {
   "cell_type": "code",
   "execution_count": 28,
   "metadata": {
    "collapsed": false
   },
   "outputs": [
    {
     "data": {
      "text/plain": [
       "(4080, 9)"
      ]
     },
     "execution_count": 28,
     "metadata": {},
     "output_type": "execute_result"
    }
   ],
   "source": [
    "feature_df.shape"
   ]
  },
  {
   "cell_type": "code",
   "execution_count": 38,
   "metadata": {
    "collapsed": false
   },
   "outputs": [
    {
     "data": {
      "text/html": [
       "<div>\n",
       "<table border=\"1\" class=\"dataframe\">\n",
       "  <thead>\n",
       "    <tr style=\"text-align: right;\">\n",
       "      <th></th>\n",
       "      <th>photographer_intention_num</th>\n",
       "      <th>subject_bystander_num</th>\n",
       "    </tr>\n",
       "    <tr>\n",
       "      <th>photo_no</th>\n",
       "      <th></th>\n",
       "      <th></th>\n",
       "    </tr>\n",
       "  </thead>\n",
       "  <tbody>\n",
       "    <tr>\n",
       "      <th>11</th>\n",
       "      <td>1.0</td>\n",
       "      <td>0.0</td>\n",
       "    </tr>\n",
       "    <tr>\n",
       "      <th>11</th>\n",
       "      <td>-3.0</td>\n",
       "      <td>-2.0</td>\n",
       "    </tr>\n",
       "    <tr>\n",
       "      <th>11</th>\n",
       "      <td>3.0</td>\n",
       "      <td>-2.0</td>\n",
       "    </tr>\n",
       "    <tr>\n",
       "      <th>11</th>\n",
       "      <td>1.0</td>\n",
       "      <td>-1.0</td>\n",
       "    </tr>\n",
       "  </tbody>\n",
       "</table>\n",
       "</div>"
      ],
      "text/plain": [
       "          photographer_intention_num  subject_bystander_num\n",
       "photo_no                                                   \n",
       "11                               1.0                    0.0\n",
       "11                              -3.0                   -2.0\n",
       "11                               3.0                   -2.0\n",
       "11                               1.0                   -1.0"
      ]
     },
     "execution_count": 38,
     "metadata": {},
     "output_type": "execute_result"
    }
   ],
   "source": [
    "photo_df.loc[[11]][['photographer_intention_num','subject_bystander_num']]"
   ]
  },
  {
   "cell_type": "code",
   "execution_count": null,
   "metadata": {
    "collapsed": true
   },
   "outputs": [],
   "source": []
  }
 ],
 "metadata": {
  "kernelspec": {
   "display_name": "Python 3",
   "language": "python",
   "name": "python3"
  },
  "language_info": {
   "codemirror_mode": {
    "name": "ipython",
    "version": 3
   },
   "file_extension": ".py",
   "mimetype": "text/x-python",
   "name": "python",
   "nbconvert_exporter": "python",
   "pygments_lexer": "ipython3",
   "version": "3.6.0"
  }
 },
 "nbformat": 4,
 "nbformat_minor": 2
}
